{
  "nbformat": 4,
  "nbformat_minor": 0,
  "metadata": {
    "colab": {
      "provenance": []
    },
    "kernelspec": {
      "name": "python3",
      "display_name": "Python 3"
    },
    "language_info": {
      "name": "python"
    }
  },
  "cells": [
    {
      "cell_type": "markdown",
      "source": [
        "#Loading Datasets"
      ],
      "metadata": {
        "id": "szaLYA9SfUAw"
      }
    },
    {
      "cell_type": "code",
      "source": [
        "import pandas as pd\n",
        "import numpy as np\n",
        "import matplotlib.pyplot as plt\n",
        "import seaborn as sns\n",
        "from sklearn.model_selection import train_test_split, GridSearchCV\n",
        "from sklearn.preprocessing import StandardScaler, LabelEncoder\n",
        "from sklearn.metrics import accuracy_score, classification_report, mean_squared_error, r2_score,mean_absolute_error\n",
        "from sklearn.linear_model import LogisticRegression, LinearRegression\n",
        "from sklearn.ensemble import RandomForestClassifier, RandomForestRegressor\n",
        "from sklearn.tree import DecisionTreeClassifier, DecisionTreeRegressor\n",
        "from sklearn.metrics import confusion_matrix\n",
        "from sklearn.ensemble import RandomForestRegressor\n",
        "from sklearn.feature_selection import RFE\n",
        "from sklearn.model_selection import  cross_val_score\n",
        "from sklearn.feature_selection import SelectFromModel\n",
        "from sklearn.model_selection import RandomizedSearchCV"
      ],
      "metadata": {
        "id": "t1z4VwdjfjG9"
      },
      "execution_count": 47,
      "outputs": []
    },
    {
      "cell_type": "markdown",
      "source": [
        "#Classification Task\n"
      ],
      "metadata": {
        "id": "bd3c_mGJfRQw"
      }
    },
    {
      "cell_type": "markdown",
      "source": [
        "1. Load the dataset into a DataFrame object using the Pandas library."
      ],
      "metadata": {
        "id": "jDpntnUKgjyr"
      }
    },
    {
      "cell_type": "code",
      "source": [
        "from google.colab import drive\n",
        "drive.mount('/content/drive')"
      ],
      "metadata": {
        "colab": {
          "base_uri": "https://localhost:8080/"
        },
        "id": "-BCBzE2HdHVj",
        "outputId": "a68ac7c7-bf65-4577-9c39-64af98ee5668"
      },
      "execution_count": 48,
      "outputs": [
        {
          "output_type": "stream",
          "name": "stdout",
          "text": [
            "Drive already mounted at /content/drive; to attempt to forcibly remount, call drive.mount(\"/content/drive\", force_remount=True).\n"
          ]
        }
      ]
    },
    {
      "cell_type": "markdown",
      "source": [
        "##Description of Dataset"
      ],
      "metadata": {
        "id": "WXkfBd1yi7fM"
      }
    },
    {
      "cell_type": "code",
      "source": [
        "data = pd.read_csv('/content/drive/MyDrive/Concepts and Tech. of AI/Assessment/banana_quality.csv')\n",
        "df = pd.DataFrame(data)\n",
        "df.head()"
      ],
      "metadata": {
        "colab": {
          "base_uri": "https://localhost:8080/",
          "height": 206
        },
        "id": "JwzRzd7XgLZS",
        "outputId": "3d2edff0-48af-475c-aa6b-5c24d989c5a9"
      },
      "execution_count": 49,
      "outputs": [
        {
          "output_type": "execute_result",
          "data": {
            "text/plain": [
              "       Size    Weight  Sweetness  Softness  HarvestTime  Ripeness   Acidity  \\\n",
              "0 -1.924968  0.468078   3.077832 -1.472177     0.294799  2.435570  0.271290   \n",
              "1 -2.409751  0.486870   0.346921 -2.495099    -0.892213  2.067549  0.307325   \n",
              "2 -0.357607  1.483176   1.568452 -2.645145    -0.647267  3.090643  1.427322   \n",
              "3 -0.868524  1.566201   1.889605 -1.273761    -1.006278  1.873001  0.477862   \n",
              "4  0.651825  1.319199  -0.022459 -1.209709    -1.430692  1.078345  2.812442   \n",
              "\n",
              "  Quality  \n",
              "0    Good  \n",
              "1    Good  \n",
              "2    Good  \n",
              "3    Good  \n",
              "4    Good  "
            ],
            "text/html": [
              "\n",
              "  <div id=\"df-dc0648b9-ab84-4955-9cad-326c0bc6a499\" class=\"colab-df-container\">\n",
              "    <div>\n",
              "<style scoped>\n",
              "    .dataframe tbody tr th:only-of-type {\n",
              "        vertical-align: middle;\n",
              "    }\n",
              "\n",
              "    .dataframe tbody tr th {\n",
              "        vertical-align: top;\n",
              "    }\n",
              "\n",
              "    .dataframe thead th {\n",
              "        text-align: right;\n",
              "    }\n",
              "</style>\n",
              "<table border=\"1\" class=\"dataframe\">\n",
              "  <thead>\n",
              "    <tr style=\"text-align: right;\">\n",
              "      <th></th>\n",
              "      <th>Size</th>\n",
              "      <th>Weight</th>\n",
              "      <th>Sweetness</th>\n",
              "      <th>Softness</th>\n",
              "      <th>HarvestTime</th>\n",
              "      <th>Ripeness</th>\n",
              "      <th>Acidity</th>\n",
              "      <th>Quality</th>\n",
              "    </tr>\n",
              "  </thead>\n",
              "  <tbody>\n",
              "    <tr>\n",
              "      <th>0</th>\n",
              "      <td>-1.924968</td>\n",
              "      <td>0.468078</td>\n",
              "      <td>3.077832</td>\n",
              "      <td>-1.472177</td>\n",
              "      <td>0.294799</td>\n",
              "      <td>2.435570</td>\n",
              "      <td>0.271290</td>\n",
              "      <td>Good</td>\n",
              "    </tr>\n",
              "    <tr>\n",
              "      <th>1</th>\n",
              "      <td>-2.409751</td>\n",
              "      <td>0.486870</td>\n",
              "      <td>0.346921</td>\n",
              "      <td>-2.495099</td>\n",
              "      <td>-0.892213</td>\n",
              "      <td>2.067549</td>\n",
              "      <td>0.307325</td>\n",
              "      <td>Good</td>\n",
              "    </tr>\n",
              "    <tr>\n",
              "      <th>2</th>\n",
              "      <td>-0.357607</td>\n",
              "      <td>1.483176</td>\n",
              "      <td>1.568452</td>\n",
              "      <td>-2.645145</td>\n",
              "      <td>-0.647267</td>\n",
              "      <td>3.090643</td>\n",
              "      <td>1.427322</td>\n",
              "      <td>Good</td>\n",
              "    </tr>\n",
              "    <tr>\n",
              "      <th>3</th>\n",
              "      <td>-0.868524</td>\n",
              "      <td>1.566201</td>\n",
              "      <td>1.889605</td>\n",
              "      <td>-1.273761</td>\n",
              "      <td>-1.006278</td>\n",
              "      <td>1.873001</td>\n",
              "      <td>0.477862</td>\n",
              "      <td>Good</td>\n",
              "    </tr>\n",
              "    <tr>\n",
              "      <th>4</th>\n",
              "      <td>0.651825</td>\n",
              "      <td>1.319199</td>\n",
              "      <td>-0.022459</td>\n",
              "      <td>-1.209709</td>\n",
              "      <td>-1.430692</td>\n",
              "      <td>1.078345</td>\n",
              "      <td>2.812442</td>\n",
              "      <td>Good</td>\n",
              "    </tr>\n",
              "  </tbody>\n",
              "</table>\n",
              "</div>\n",
              "    <div class=\"colab-df-buttons\">\n",
              "\n",
              "  <div class=\"colab-df-container\">\n",
              "    <button class=\"colab-df-convert\" onclick=\"convertToInteractive('df-dc0648b9-ab84-4955-9cad-326c0bc6a499')\"\n",
              "            title=\"Convert this dataframe to an interactive table.\"\n",
              "            style=\"display:none;\">\n",
              "\n",
              "  <svg xmlns=\"http://www.w3.org/2000/svg\" height=\"24px\" viewBox=\"0 -960 960 960\">\n",
              "    <path d=\"M120-120v-720h720v720H120Zm60-500h600v-160H180v160Zm220 220h160v-160H400v160Zm0 220h160v-160H400v160ZM180-400h160v-160H180v160Zm440 0h160v-160H620v160ZM180-180h160v-160H180v160Zm440 0h160v-160H620v160Z\"/>\n",
              "  </svg>\n",
              "    </button>\n",
              "\n",
              "  <style>\n",
              "    .colab-df-container {\n",
              "      display:flex;\n",
              "      gap: 12px;\n",
              "    }\n",
              "\n",
              "    .colab-df-convert {\n",
              "      background-color: #E8F0FE;\n",
              "      border: none;\n",
              "      border-radius: 50%;\n",
              "      cursor: pointer;\n",
              "      display: none;\n",
              "      fill: #1967D2;\n",
              "      height: 32px;\n",
              "      padding: 0 0 0 0;\n",
              "      width: 32px;\n",
              "    }\n",
              "\n",
              "    .colab-df-convert:hover {\n",
              "      background-color: #E2EBFA;\n",
              "      box-shadow: 0px 1px 2px rgba(60, 64, 67, 0.3), 0px 1px 3px 1px rgba(60, 64, 67, 0.15);\n",
              "      fill: #174EA6;\n",
              "    }\n",
              "\n",
              "    .colab-df-buttons div {\n",
              "      margin-bottom: 4px;\n",
              "    }\n",
              "\n",
              "    [theme=dark] .colab-df-convert {\n",
              "      background-color: #3B4455;\n",
              "      fill: #D2E3FC;\n",
              "    }\n",
              "\n",
              "    [theme=dark] .colab-df-convert:hover {\n",
              "      background-color: #434B5C;\n",
              "      box-shadow: 0px 1px 3px 1px rgba(0, 0, 0, 0.15);\n",
              "      filter: drop-shadow(0px 1px 2px rgba(0, 0, 0, 0.3));\n",
              "      fill: #FFFFFF;\n",
              "    }\n",
              "  </style>\n",
              "\n",
              "    <script>\n",
              "      const buttonEl =\n",
              "        document.querySelector('#df-dc0648b9-ab84-4955-9cad-326c0bc6a499 button.colab-df-convert');\n",
              "      buttonEl.style.display =\n",
              "        google.colab.kernel.accessAllowed ? 'block' : 'none';\n",
              "\n",
              "      async function convertToInteractive(key) {\n",
              "        const element = document.querySelector('#df-dc0648b9-ab84-4955-9cad-326c0bc6a499');\n",
              "        const dataTable =\n",
              "          await google.colab.kernel.invokeFunction('convertToInteractive',\n",
              "                                                    [key], {});\n",
              "        if (!dataTable) return;\n",
              "\n",
              "        const docLinkHtml = 'Like what you see? Visit the ' +\n",
              "          '<a target=\"_blank\" href=https://colab.research.google.com/notebooks/data_table.ipynb>data table notebook</a>'\n",
              "          + ' to learn more about interactive tables.';\n",
              "        element.innerHTML = '';\n",
              "        dataTable['output_type'] = 'display_data';\n",
              "        await google.colab.output.renderOutput(dataTable, element);\n",
              "        const docLink = document.createElement('div');\n",
              "        docLink.innerHTML = docLinkHtml;\n",
              "        element.appendChild(docLink);\n",
              "      }\n",
              "    </script>\n",
              "  </div>\n",
              "\n",
              "\n",
              "<div id=\"df-30fc28f1-1b36-49a4-a356-db1e040f03bb\">\n",
              "  <button class=\"colab-df-quickchart\" onclick=\"quickchart('df-30fc28f1-1b36-49a4-a356-db1e040f03bb')\"\n",
              "            title=\"Suggest charts\"\n",
              "            style=\"display:none;\">\n",
              "\n",
              "<svg xmlns=\"http://www.w3.org/2000/svg\" height=\"24px\"viewBox=\"0 0 24 24\"\n",
              "     width=\"24px\">\n",
              "    <g>\n",
              "        <path d=\"M19 3H5c-1.1 0-2 .9-2 2v14c0 1.1.9 2 2 2h14c1.1 0 2-.9 2-2V5c0-1.1-.9-2-2-2zM9 17H7v-7h2v7zm4 0h-2V7h2v10zm4 0h-2v-4h2v4z\"/>\n",
              "    </g>\n",
              "</svg>\n",
              "  </button>\n",
              "\n",
              "<style>\n",
              "  .colab-df-quickchart {\n",
              "      --bg-color: #E8F0FE;\n",
              "      --fill-color: #1967D2;\n",
              "      --hover-bg-color: #E2EBFA;\n",
              "      --hover-fill-color: #174EA6;\n",
              "      --disabled-fill-color: #AAA;\n",
              "      --disabled-bg-color: #DDD;\n",
              "  }\n",
              "\n",
              "  [theme=dark] .colab-df-quickchart {\n",
              "      --bg-color: #3B4455;\n",
              "      --fill-color: #D2E3FC;\n",
              "      --hover-bg-color: #434B5C;\n",
              "      --hover-fill-color: #FFFFFF;\n",
              "      --disabled-bg-color: #3B4455;\n",
              "      --disabled-fill-color: #666;\n",
              "  }\n",
              "\n",
              "  .colab-df-quickchart {\n",
              "    background-color: var(--bg-color);\n",
              "    border: none;\n",
              "    border-radius: 50%;\n",
              "    cursor: pointer;\n",
              "    display: none;\n",
              "    fill: var(--fill-color);\n",
              "    height: 32px;\n",
              "    padding: 0;\n",
              "    width: 32px;\n",
              "  }\n",
              "\n",
              "  .colab-df-quickchart:hover {\n",
              "    background-color: var(--hover-bg-color);\n",
              "    box-shadow: 0 1px 2px rgba(60, 64, 67, 0.3), 0 1px 3px 1px rgba(60, 64, 67, 0.15);\n",
              "    fill: var(--button-hover-fill-color);\n",
              "  }\n",
              "\n",
              "  .colab-df-quickchart-complete:disabled,\n",
              "  .colab-df-quickchart-complete:disabled:hover {\n",
              "    background-color: var(--disabled-bg-color);\n",
              "    fill: var(--disabled-fill-color);\n",
              "    box-shadow: none;\n",
              "  }\n",
              "\n",
              "  .colab-df-spinner {\n",
              "    border: 2px solid var(--fill-color);\n",
              "    border-color: transparent;\n",
              "    border-bottom-color: var(--fill-color);\n",
              "    animation:\n",
              "      spin 1s steps(1) infinite;\n",
              "  }\n",
              "\n",
              "  @keyframes spin {\n",
              "    0% {\n",
              "      border-color: transparent;\n",
              "      border-bottom-color: var(--fill-color);\n",
              "      border-left-color: var(--fill-color);\n",
              "    }\n",
              "    20% {\n",
              "      border-color: transparent;\n",
              "      border-left-color: var(--fill-color);\n",
              "      border-top-color: var(--fill-color);\n",
              "    }\n",
              "    30% {\n",
              "      border-color: transparent;\n",
              "      border-left-color: var(--fill-color);\n",
              "      border-top-color: var(--fill-color);\n",
              "      border-right-color: var(--fill-color);\n",
              "    }\n",
              "    40% {\n",
              "      border-color: transparent;\n",
              "      border-right-color: var(--fill-color);\n",
              "      border-top-color: var(--fill-color);\n",
              "    }\n",
              "    60% {\n",
              "      border-color: transparent;\n",
              "      border-right-color: var(--fill-color);\n",
              "    }\n",
              "    80% {\n",
              "      border-color: transparent;\n",
              "      border-right-color: var(--fill-color);\n",
              "      border-bottom-color: var(--fill-color);\n",
              "    }\n",
              "    90% {\n",
              "      border-color: transparent;\n",
              "      border-bottom-color: var(--fill-color);\n",
              "    }\n",
              "  }\n",
              "</style>\n",
              "\n",
              "  <script>\n",
              "    async function quickchart(key) {\n",
              "      const quickchartButtonEl =\n",
              "        document.querySelector('#' + key + ' button');\n",
              "      quickchartButtonEl.disabled = true;  // To prevent multiple clicks.\n",
              "      quickchartButtonEl.classList.add('colab-df-spinner');\n",
              "      try {\n",
              "        const charts = await google.colab.kernel.invokeFunction(\n",
              "            'suggestCharts', [key], {});\n",
              "      } catch (error) {\n",
              "        console.error('Error during call to suggestCharts:', error);\n",
              "      }\n",
              "      quickchartButtonEl.classList.remove('colab-df-spinner');\n",
              "      quickchartButtonEl.classList.add('colab-df-quickchart-complete');\n",
              "    }\n",
              "    (() => {\n",
              "      let quickchartButtonEl =\n",
              "        document.querySelector('#df-30fc28f1-1b36-49a4-a356-db1e040f03bb button');\n",
              "      quickchartButtonEl.style.display =\n",
              "        google.colab.kernel.accessAllowed ? 'block' : 'none';\n",
              "    })();\n",
              "  </script>\n",
              "</div>\n",
              "\n",
              "    </div>\n",
              "  </div>\n"
            ],
            "application/vnd.google.colaboratory.intrinsic+json": {
              "type": "dataframe",
              "variable_name": "df",
              "summary": "{\n  \"name\": \"df\",\n  \"rows\": 8000,\n  \"fields\": [\n    {\n      \"column\": \"Size\",\n      \"properties\": {\n        \"dtype\": \"number\",\n        \"std\": 2.136022791892043,\n        \"min\": -7.9980736,\n        \"max\": 7.9708004,\n        \"num_unique_values\": 8000,\n        \"samples\": [\n          -1.1823753,\n          -2.1902218,\n          -0.01742254\n        ],\n        \"semantic_type\": \"\",\n        \"description\": \"\"\n      }\n    },\n    {\n      \"column\": \"Weight\",\n      \"properties\": {\n        \"dtype\": \"number\",\n        \"std\": 2.0159342527719275,\n        \"min\": -8.283002,\n        \"max\": 5.679692,\n        \"num_unique_values\": 8000,\n        \"samples\": [\n          -1.5233536,\n          -2.8090863,\n          1.1875557\n        ],\n        \"semantic_type\": \"\",\n        \"description\": \"\"\n      }\n    },\n    {\n      \"column\": \"Sweetness\",\n      \"properties\": {\n        \"dtype\": \"number\",\n        \"std\": 1.9484548834162474,\n        \"min\": -6.4340215,\n        \"max\": 7.539374,\n        \"num_unique_values\": 8000,\n        \"samples\": [\n          -1.3909012,\n          -1.3944167,\n          4.7572994\n        ],\n        \"semantic_type\": \"\",\n        \"description\": \"\"\n      }\n    },\n    {\n      \"column\": \"Softness\",\n      \"properties\": {\n        \"dtype\": \"number\",\n        \"std\": 2.065215944309168,\n        \"min\": -6.9593196,\n        \"max\": 8.241555,\n        \"num_unique_values\": 8000,\n        \"samples\": [\n          -0.850838,\n          2.6063178,\n          1.0700845\n        ],\n        \"semantic_type\": \"\",\n        \"description\": \"\"\n      }\n    },\n    {\n      \"column\": \"HarvestTime\",\n      \"properties\": {\n        \"dtype\": \"number\",\n        \"std\": 1.9966607874097047,\n        \"min\": -7.5700083,\n        \"max\": 6.29328,\n        \"num_unique_values\": 8000,\n        \"samples\": [\n          -0.13659394,\n          -0.016427217,\n          -2.5047512\n        ],\n        \"semantic_type\": \"\",\n        \"description\": \"\"\n      }\n    },\n    {\n      \"column\": \"Ripeness\",\n      \"properties\": {\n        \"dtype\": \"number\",\n        \"std\": 2.11428937214284,\n        \"min\": -7.4231553,\n        \"max\": 7.2490335,\n        \"num_unique_values\": 8000,\n        \"samples\": [\n          2.3312151,\n          5.5374675,\n          -1.0434868\n        ],\n        \"semantic_type\": \"\",\n        \"description\": \"\"\n      }\n    },\n    {\n      \"column\": \"Acidity\",\n      \"properties\": {\n        \"dtype\": \"number\",\n        \"std\": 2.2934666385409743,\n        \"min\": -8.226977,\n        \"max\": 7.4116335,\n        \"num_unique_values\": 8000,\n        \"samples\": [\n          -1.8286724,\n          -4.9408426,\n          2.5416763\n        ],\n        \"semantic_type\": \"\",\n        \"description\": \"\"\n      }\n    },\n    {\n      \"column\": \"Quality\",\n      \"properties\": {\n        \"dtype\": \"category\",\n        \"num_unique_values\": 2,\n        \"samples\": [\n          \"Bad\",\n          \"Good\"\n        ],\n        \"semantic_type\": \"\",\n        \"description\": \"\"\n      }\n    }\n  ]\n}"
            }
          },
          "metadata": {},
          "execution_count": 49
        }
      ]
    },
    {
      "cell_type": "markdown",
      "source": [
        "\n",
        "Selection of Dataset :\n",
        "\n",
        "The loaded dataset is of Banana Quality that aligns with the UNSDG Goal 12: Responsible Consumption and Production.\n",
        "\n",
        "a) When and by whom was the dataset created?\n",
        "- This dataset was created by l3LlFF who is an dataset expert. However a precise information on the creater and his background can not be analyzed properly.  \n",
        "\n",
        "b) How did you access the dataset?\n",
        "- I accessed this dataset from Kaggle, world's largest data science community and a platform for data science competitions, resources and tools.\n",
        "\n",
        "c) How does it align with the chosen UNSDG?\n",
        "- This dataset is of Banana Quality that aligns with the UNSDG Goal 12: Responsible Consumption and Production.\n",
        "\n",
        "d) List all the attributes (columns) present in the dataset.\n",
        "- Size - size of banana\n",
        "- Weight - weight of banana\n",
        "- Sweetness - sweetness of banana\n",
        "- Softness - softness of banana\n",
        "- HarvestTime - amount of time passed from harvesting of the banana\n",
        "- Ripeness - ripness of banana\n",
        "- Acidity - acidity of banana\n",
        "- Quality - quality of banana\n",
        "\n",
        "\n",
        " Identify potential questions that the dataset could help answer.\n",
        " - Can we classify the quality of a fruit as \"Good\" or \"Bad\" based on features like size, sweetness,harvest time and ripeness?"
      ],
      "metadata": {
        "id": "zdsaCbUTkirq"
      }
    },
    {
      "cell_type": "code",
      "source": [
        "df.shape"
      ],
      "metadata": {
        "colab": {
          "base_uri": "https://localhost:8080/"
        },
        "id": "mEsYjkegIi26",
        "outputId": "6e8a69b2-4756-47bf-d8b4-328540add380"
      },
      "execution_count": 50,
      "outputs": [
        {
          "output_type": "execute_result",
          "data": {
            "text/plain": [
              "(8000, 8)"
            ]
          },
          "metadata": {},
          "execution_count": 50
        }
      ]
    },
    {
      "cell_type": "code",
      "source": [
        "df.info()"
      ],
      "metadata": {
        "colab": {
          "base_uri": "https://localhost:8080/"
        },
        "id": "iU2H4HkHjI7t",
        "outputId": "f28e4d7c-1228-4dad-ad17-4947e2573d70"
      },
      "execution_count": 51,
      "outputs": [
        {
          "output_type": "stream",
          "name": "stdout",
          "text": [
            "<class 'pandas.core.frame.DataFrame'>\n",
            "RangeIndex: 8000 entries, 0 to 7999\n",
            "Data columns (total 8 columns):\n",
            " #   Column       Non-Null Count  Dtype  \n",
            "---  ------       --------------  -----  \n",
            " 0   Size         8000 non-null   float64\n",
            " 1   Weight       8000 non-null   float64\n",
            " 2   Sweetness    8000 non-null   float64\n",
            " 3   Softness     8000 non-null   float64\n",
            " 4   HarvestTime  8000 non-null   float64\n",
            " 5   Ripeness     8000 non-null   float64\n",
            " 6   Acidity      8000 non-null   float64\n",
            " 7   Quality      8000 non-null   object \n",
            "dtypes: float64(7), object(1)\n",
            "memory usage: 500.1+ KB\n"
          ]
        }
      ]
    },
    {
      "cell_type": "code",
      "source": [
        "df.isnull().sum()"
      ],
      "metadata": {
        "colab": {
          "base_uri": "https://localhost:8080/",
          "height": 335
        },
        "id": "azq1aXzivqkt",
        "outputId": "834a688e-3be9-41a0-ca19-7e838c536d0f"
      },
      "execution_count": 52,
      "outputs": [
        {
          "output_type": "execute_result",
          "data": {
            "text/plain": [
              "Size           0\n",
              "Weight         0\n",
              "Sweetness      0\n",
              "Softness       0\n",
              "HarvestTime    0\n",
              "Ripeness       0\n",
              "Acidity        0\n",
              "Quality        0\n",
              "dtype: int64"
            ],
            "text/html": [
              "<div>\n",
              "<style scoped>\n",
              "    .dataframe tbody tr th:only-of-type {\n",
              "        vertical-align: middle;\n",
              "    }\n",
              "\n",
              "    .dataframe tbody tr th {\n",
              "        vertical-align: top;\n",
              "    }\n",
              "\n",
              "    .dataframe thead th {\n",
              "        text-align: right;\n",
              "    }\n",
              "</style>\n",
              "<table border=\"1\" class=\"dataframe\">\n",
              "  <thead>\n",
              "    <tr style=\"text-align: right;\">\n",
              "      <th></th>\n",
              "      <th>0</th>\n",
              "    </tr>\n",
              "  </thead>\n",
              "  <tbody>\n",
              "    <tr>\n",
              "      <th>Size</th>\n",
              "      <td>0</td>\n",
              "    </tr>\n",
              "    <tr>\n",
              "      <th>Weight</th>\n",
              "      <td>0</td>\n",
              "    </tr>\n",
              "    <tr>\n",
              "      <th>Sweetness</th>\n",
              "      <td>0</td>\n",
              "    </tr>\n",
              "    <tr>\n",
              "      <th>Softness</th>\n",
              "      <td>0</td>\n",
              "    </tr>\n",
              "    <tr>\n",
              "      <th>HarvestTime</th>\n",
              "      <td>0</td>\n",
              "    </tr>\n",
              "    <tr>\n",
              "      <th>Ripeness</th>\n",
              "      <td>0</td>\n",
              "    </tr>\n",
              "    <tr>\n",
              "      <th>Acidity</th>\n",
              "      <td>0</td>\n",
              "    </tr>\n",
              "    <tr>\n",
              "      <th>Quality</th>\n",
              "      <td>0</td>\n",
              "    </tr>\n",
              "  </tbody>\n",
              "</table>\n",
              "</div><br><label><b>dtype:</b> int64</label>"
            ]
          },
          "metadata": {},
          "execution_count": 52
        }
      ]
    },
    {
      "cell_type": "code",
      "source": [
        "df.duplicated().sum()"
      ],
      "metadata": {
        "colab": {
          "base_uri": "https://localhost:8080/"
        },
        "id": "Wd-7x0wjxUkX",
        "outputId": "68a2e99a-b9d8-4d69-f5dc-e673ba426cc0"
      },
      "execution_count": 53,
      "outputs": [
        {
          "output_type": "execute_result",
          "data": {
            "text/plain": [
              "0"
            ]
          },
          "metadata": {},
          "execution_count": 53
        }
      ]
    },
    {
      "cell_type": "markdown",
      "source": [
        "- In this dataset there are no missing values.So no data furhter data preprocessing is required to make the dataset suitable for analysis.\n",
        "- Dataset has enough data to compute for the model meaning sufficent features and their no of data for training and testing."
      ],
      "metadata": {
        "id": "Y_nsTR6rvqQb"
      }
    },
    {
      "cell_type": "code",
      "source": [
        "df.isna()"
      ],
      "metadata": {
        "colab": {
          "base_uri": "https://localhost:8080/",
          "height": 423
        },
        "id": "c3L27JV9h6m1",
        "outputId": "9f21e1a3-ac9b-4c51-d410-b9d677f80f80"
      },
      "execution_count": 54,
      "outputs": [
        {
          "output_type": "execute_result",
          "data": {
            "text/plain": [
              "       Size  Weight  Sweetness  Softness  HarvestTime  Ripeness  Acidity  \\\n",
              "0     False   False      False     False        False     False    False   \n",
              "1     False   False      False     False        False     False    False   \n",
              "2     False   False      False     False        False     False    False   \n",
              "3     False   False      False     False        False     False    False   \n",
              "4     False   False      False     False        False     False    False   \n",
              "...     ...     ...        ...       ...          ...       ...      ...   \n",
              "7995  False   False      False     False        False     False    False   \n",
              "7996  False   False      False     False        False     False    False   \n",
              "7997  False   False      False     False        False     False    False   \n",
              "7998  False   False      False     False        False     False    False   \n",
              "7999  False   False      False     False        False     False    False   \n",
              "\n",
              "      Quality  \n",
              "0       False  \n",
              "1       False  \n",
              "2       False  \n",
              "3       False  \n",
              "4       False  \n",
              "...       ...  \n",
              "7995    False  \n",
              "7996    False  \n",
              "7997    False  \n",
              "7998    False  \n",
              "7999    False  \n",
              "\n",
              "[8000 rows x 8 columns]"
            ],
            "text/html": [
              "\n",
              "  <div id=\"df-43c87aaa-9022-4bfb-81e0-e13234d6f2e4\" class=\"colab-df-container\">\n",
              "    <div>\n",
              "<style scoped>\n",
              "    .dataframe tbody tr th:only-of-type {\n",
              "        vertical-align: middle;\n",
              "    }\n",
              "\n",
              "    .dataframe tbody tr th {\n",
              "        vertical-align: top;\n",
              "    }\n",
              "\n",
              "    .dataframe thead th {\n",
              "        text-align: right;\n",
              "    }\n",
              "</style>\n",
              "<table border=\"1\" class=\"dataframe\">\n",
              "  <thead>\n",
              "    <tr style=\"text-align: right;\">\n",
              "      <th></th>\n",
              "      <th>Size</th>\n",
              "      <th>Weight</th>\n",
              "      <th>Sweetness</th>\n",
              "      <th>Softness</th>\n",
              "      <th>HarvestTime</th>\n",
              "      <th>Ripeness</th>\n",
              "      <th>Acidity</th>\n",
              "      <th>Quality</th>\n",
              "    </tr>\n",
              "  </thead>\n",
              "  <tbody>\n",
              "    <tr>\n",
              "      <th>0</th>\n",
              "      <td>False</td>\n",
              "      <td>False</td>\n",
              "      <td>False</td>\n",
              "      <td>False</td>\n",
              "      <td>False</td>\n",
              "      <td>False</td>\n",
              "      <td>False</td>\n",
              "      <td>False</td>\n",
              "    </tr>\n",
              "    <tr>\n",
              "      <th>1</th>\n",
              "      <td>False</td>\n",
              "      <td>False</td>\n",
              "      <td>False</td>\n",
              "      <td>False</td>\n",
              "      <td>False</td>\n",
              "      <td>False</td>\n",
              "      <td>False</td>\n",
              "      <td>False</td>\n",
              "    </tr>\n",
              "    <tr>\n",
              "      <th>2</th>\n",
              "      <td>False</td>\n",
              "      <td>False</td>\n",
              "      <td>False</td>\n",
              "      <td>False</td>\n",
              "      <td>False</td>\n",
              "      <td>False</td>\n",
              "      <td>False</td>\n",
              "      <td>False</td>\n",
              "    </tr>\n",
              "    <tr>\n",
              "      <th>3</th>\n",
              "      <td>False</td>\n",
              "      <td>False</td>\n",
              "      <td>False</td>\n",
              "      <td>False</td>\n",
              "      <td>False</td>\n",
              "      <td>False</td>\n",
              "      <td>False</td>\n",
              "      <td>False</td>\n",
              "    </tr>\n",
              "    <tr>\n",
              "      <th>4</th>\n",
              "      <td>False</td>\n",
              "      <td>False</td>\n",
              "      <td>False</td>\n",
              "      <td>False</td>\n",
              "      <td>False</td>\n",
              "      <td>False</td>\n",
              "      <td>False</td>\n",
              "      <td>False</td>\n",
              "    </tr>\n",
              "    <tr>\n",
              "      <th>...</th>\n",
              "      <td>...</td>\n",
              "      <td>...</td>\n",
              "      <td>...</td>\n",
              "      <td>...</td>\n",
              "      <td>...</td>\n",
              "      <td>...</td>\n",
              "      <td>...</td>\n",
              "      <td>...</td>\n",
              "    </tr>\n",
              "    <tr>\n",
              "      <th>7995</th>\n",
              "      <td>False</td>\n",
              "      <td>False</td>\n",
              "      <td>False</td>\n",
              "      <td>False</td>\n",
              "      <td>False</td>\n",
              "      <td>False</td>\n",
              "      <td>False</td>\n",
              "      <td>False</td>\n",
              "    </tr>\n",
              "    <tr>\n",
              "      <th>7996</th>\n",
              "      <td>False</td>\n",
              "      <td>False</td>\n",
              "      <td>False</td>\n",
              "      <td>False</td>\n",
              "      <td>False</td>\n",
              "      <td>False</td>\n",
              "      <td>False</td>\n",
              "      <td>False</td>\n",
              "    </tr>\n",
              "    <tr>\n",
              "      <th>7997</th>\n",
              "      <td>False</td>\n",
              "      <td>False</td>\n",
              "      <td>False</td>\n",
              "      <td>False</td>\n",
              "      <td>False</td>\n",
              "      <td>False</td>\n",
              "      <td>False</td>\n",
              "      <td>False</td>\n",
              "    </tr>\n",
              "    <tr>\n",
              "      <th>7998</th>\n",
              "      <td>False</td>\n",
              "      <td>False</td>\n",
              "      <td>False</td>\n",
              "      <td>False</td>\n",
              "      <td>False</td>\n",
              "      <td>False</td>\n",
              "      <td>False</td>\n",
              "      <td>False</td>\n",
              "    </tr>\n",
              "    <tr>\n",
              "      <th>7999</th>\n",
              "      <td>False</td>\n",
              "      <td>False</td>\n",
              "      <td>False</td>\n",
              "      <td>False</td>\n",
              "      <td>False</td>\n",
              "      <td>False</td>\n",
              "      <td>False</td>\n",
              "      <td>False</td>\n",
              "    </tr>\n",
              "  </tbody>\n",
              "</table>\n",
              "<p>8000 rows × 8 columns</p>\n",
              "</div>\n",
              "    <div class=\"colab-df-buttons\">\n",
              "\n",
              "  <div class=\"colab-df-container\">\n",
              "    <button class=\"colab-df-convert\" onclick=\"convertToInteractive('df-43c87aaa-9022-4bfb-81e0-e13234d6f2e4')\"\n",
              "            title=\"Convert this dataframe to an interactive table.\"\n",
              "            style=\"display:none;\">\n",
              "\n",
              "  <svg xmlns=\"http://www.w3.org/2000/svg\" height=\"24px\" viewBox=\"0 -960 960 960\">\n",
              "    <path d=\"M120-120v-720h720v720H120Zm60-500h600v-160H180v160Zm220 220h160v-160H400v160Zm0 220h160v-160H400v160ZM180-400h160v-160H180v160Zm440 0h160v-160H620v160ZM180-180h160v-160H180v160Zm440 0h160v-160H620v160Z\"/>\n",
              "  </svg>\n",
              "    </button>\n",
              "\n",
              "  <style>\n",
              "    .colab-df-container {\n",
              "      display:flex;\n",
              "      gap: 12px;\n",
              "    }\n",
              "\n",
              "    .colab-df-convert {\n",
              "      background-color: #E8F0FE;\n",
              "      border: none;\n",
              "      border-radius: 50%;\n",
              "      cursor: pointer;\n",
              "      display: none;\n",
              "      fill: #1967D2;\n",
              "      height: 32px;\n",
              "      padding: 0 0 0 0;\n",
              "      width: 32px;\n",
              "    }\n",
              "\n",
              "    .colab-df-convert:hover {\n",
              "      background-color: #E2EBFA;\n",
              "      box-shadow: 0px 1px 2px rgba(60, 64, 67, 0.3), 0px 1px 3px 1px rgba(60, 64, 67, 0.15);\n",
              "      fill: #174EA6;\n",
              "    }\n",
              "\n",
              "    .colab-df-buttons div {\n",
              "      margin-bottom: 4px;\n",
              "    }\n",
              "\n",
              "    [theme=dark] .colab-df-convert {\n",
              "      background-color: #3B4455;\n",
              "      fill: #D2E3FC;\n",
              "    }\n",
              "\n",
              "    [theme=dark] .colab-df-convert:hover {\n",
              "      background-color: #434B5C;\n",
              "      box-shadow: 0px 1px 3px 1px rgba(0, 0, 0, 0.15);\n",
              "      filter: drop-shadow(0px 1px 2px rgba(0, 0, 0, 0.3));\n",
              "      fill: #FFFFFF;\n",
              "    }\n",
              "  </style>\n",
              "\n",
              "    <script>\n",
              "      const buttonEl =\n",
              "        document.querySelector('#df-43c87aaa-9022-4bfb-81e0-e13234d6f2e4 button.colab-df-convert');\n",
              "      buttonEl.style.display =\n",
              "        google.colab.kernel.accessAllowed ? 'block' : 'none';\n",
              "\n",
              "      async function convertToInteractive(key) {\n",
              "        const element = document.querySelector('#df-43c87aaa-9022-4bfb-81e0-e13234d6f2e4');\n",
              "        const dataTable =\n",
              "          await google.colab.kernel.invokeFunction('convertToInteractive',\n",
              "                                                    [key], {});\n",
              "        if (!dataTable) return;\n",
              "\n",
              "        const docLinkHtml = 'Like what you see? Visit the ' +\n",
              "          '<a target=\"_blank\" href=https://colab.research.google.com/notebooks/data_table.ipynb>data table notebook</a>'\n",
              "          + ' to learn more about interactive tables.';\n",
              "        element.innerHTML = '';\n",
              "        dataTable['output_type'] = 'display_data';\n",
              "        await google.colab.output.renderOutput(dataTable, element);\n",
              "        const docLink = document.createElement('div');\n",
              "        docLink.innerHTML = docLinkHtml;\n",
              "        element.appendChild(docLink);\n",
              "      }\n",
              "    </script>\n",
              "  </div>\n",
              "\n",
              "\n",
              "<div id=\"df-de20646a-b0f1-453e-ba26-6d20da617206\">\n",
              "  <button class=\"colab-df-quickchart\" onclick=\"quickchart('df-de20646a-b0f1-453e-ba26-6d20da617206')\"\n",
              "            title=\"Suggest charts\"\n",
              "            style=\"display:none;\">\n",
              "\n",
              "<svg xmlns=\"http://www.w3.org/2000/svg\" height=\"24px\"viewBox=\"0 0 24 24\"\n",
              "     width=\"24px\">\n",
              "    <g>\n",
              "        <path d=\"M19 3H5c-1.1 0-2 .9-2 2v14c0 1.1.9 2 2 2h14c1.1 0 2-.9 2-2V5c0-1.1-.9-2-2-2zM9 17H7v-7h2v7zm4 0h-2V7h2v10zm4 0h-2v-4h2v4z\"/>\n",
              "    </g>\n",
              "</svg>\n",
              "  </button>\n",
              "\n",
              "<style>\n",
              "  .colab-df-quickchart {\n",
              "      --bg-color: #E8F0FE;\n",
              "      --fill-color: #1967D2;\n",
              "      --hover-bg-color: #E2EBFA;\n",
              "      --hover-fill-color: #174EA6;\n",
              "      --disabled-fill-color: #AAA;\n",
              "      --disabled-bg-color: #DDD;\n",
              "  }\n",
              "\n",
              "  [theme=dark] .colab-df-quickchart {\n",
              "      --bg-color: #3B4455;\n",
              "      --fill-color: #D2E3FC;\n",
              "      --hover-bg-color: #434B5C;\n",
              "      --hover-fill-color: #FFFFFF;\n",
              "      --disabled-bg-color: #3B4455;\n",
              "      --disabled-fill-color: #666;\n",
              "  }\n",
              "\n",
              "  .colab-df-quickchart {\n",
              "    background-color: var(--bg-color);\n",
              "    border: none;\n",
              "    border-radius: 50%;\n",
              "    cursor: pointer;\n",
              "    display: none;\n",
              "    fill: var(--fill-color);\n",
              "    height: 32px;\n",
              "    padding: 0;\n",
              "    width: 32px;\n",
              "  }\n",
              "\n",
              "  .colab-df-quickchart:hover {\n",
              "    background-color: var(--hover-bg-color);\n",
              "    box-shadow: 0 1px 2px rgba(60, 64, 67, 0.3), 0 1px 3px 1px rgba(60, 64, 67, 0.15);\n",
              "    fill: var(--button-hover-fill-color);\n",
              "  }\n",
              "\n",
              "  .colab-df-quickchart-complete:disabled,\n",
              "  .colab-df-quickchart-complete:disabled:hover {\n",
              "    background-color: var(--disabled-bg-color);\n",
              "    fill: var(--disabled-fill-color);\n",
              "    box-shadow: none;\n",
              "  }\n",
              "\n",
              "  .colab-df-spinner {\n",
              "    border: 2px solid var(--fill-color);\n",
              "    border-color: transparent;\n",
              "    border-bottom-color: var(--fill-color);\n",
              "    animation:\n",
              "      spin 1s steps(1) infinite;\n",
              "  }\n",
              "\n",
              "  @keyframes spin {\n",
              "    0% {\n",
              "      border-color: transparent;\n",
              "      border-bottom-color: var(--fill-color);\n",
              "      border-left-color: var(--fill-color);\n",
              "    }\n",
              "    20% {\n",
              "      border-color: transparent;\n",
              "      border-left-color: var(--fill-color);\n",
              "      border-top-color: var(--fill-color);\n",
              "    }\n",
              "    30% {\n",
              "      border-color: transparent;\n",
              "      border-left-color: var(--fill-color);\n",
              "      border-top-color: var(--fill-color);\n",
              "      border-right-color: var(--fill-color);\n",
              "    }\n",
              "    40% {\n",
              "      border-color: transparent;\n",
              "      border-right-color: var(--fill-color);\n",
              "      border-top-color: var(--fill-color);\n",
              "    }\n",
              "    60% {\n",
              "      border-color: transparent;\n",
              "      border-right-color: var(--fill-color);\n",
              "    }\n",
              "    80% {\n",
              "      border-color: transparent;\n",
              "      border-right-color: var(--fill-color);\n",
              "      border-bottom-color: var(--fill-color);\n",
              "    }\n",
              "    90% {\n",
              "      border-color: transparent;\n",
              "      border-bottom-color: var(--fill-color);\n",
              "    }\n",
              "  }\n",
              "</style>\n",
              "\n",
              "  <script>\n",
              "    async function quickchart(key) {\n",
              "      const quickchartButtonEl =\n",
              "        document.querySelector('#' + key + ' button');\n",
              "      quickchartButtonEl.disabled = true;  // To prevent multiple clicks.\n",
              "      quickchartButtonEl.classList.add('colab-df-spinner');\n",
              "      try {\n",
              "        const charts = await google.colab.kernel.invokeFunction(\n",
              "            'suggestCharts', [key], {});\n",
              "      } catch (error) {\n",
              "        console.error('Error during call to suggestCharts:', error);\n",
              "      }\n",
              "      quickchartButtonEl.classList.remove('colab-df-spinner');\n",
              "      quickchartButtonEl.classList.add('colab-df-quickchart-complete');\n",
              "    }\n",
              "    (() => {\n",
              "      let quickchartButtonEl =\n",
              "        document.querySelector('#df-de20646a-b0f1-453e-ba26-6d20da617206 button');\n",
              "      quickchartButtonEl.style.display =\n",
              "        google.colab.kernel.accessAllowed ? 'block' : 'none';\n",
              "    })();\n",
              "  </script>\n",
              "</div>\n",
              "\n",
              "    </div>\n",
              "  </div>\n"
            ],
            "application/vnd.google.colaboratory.intrinsic+json": {
              "type": "dataframe",
              "summary": "{\n  \"name\": \"df\",\n  \"rows\": 8000,\n  \"fields\": [\n    {\n      \"column\": \"Size\",\n      \"properties\": {\n        \"dtype\": \"boolean\",\n        \"num_unique_values\": 1,\n        \"samples\": [\n          false\n        ],\n        \"semantic_type\": \"\",\n        \"description\": \"\"\n      }\n    },\n    {\n      \"column\": \"Weight\",\n      \"properties\": {\n        \"dtype\": \"boolean\",\n        \"num_unique_values\": 1,\n        \"samples\": [\n          false\n        ],\n        \"semantic_type\": \"\",\n        \"description\": \"\"\n      }\n    },\n    {\n      \"column\": \"Sweetness\",\n      \"properties\": {\n        \"dtype\": \"boolean\",\n        \"num_unique_values\": 1,\n        \"samples\": [\n          false\n        ],\n        \"semantic_type\": \"\",\n        \"description\": \"\"\n      }\n    },\n    {\n      \"column\": \"Softness\",\n      \"properties\": {\n        \"dtype\": \"boolean\",\n        \"num_unique_values\": 1,\n        \"samples\": [\n          false\n        ],\n        \"semantic_type\": \"\",\n        \"description\": \"\"\n      }\n    },\n    {\n      \"column\": \"HarvestTime\",\n      \"properties\": {\n        \"dtype\": \"boolean\",\n        \"num_unique_values\": 1,\n        \"samples\": [\n          false\n        ],\n        \"semantic_type\": \"\",\n        \"description\": \"\"\n      }\n    },\n    {\n      \"column\": \"Ripeness\",\n      \"properties\": {\n        \"dtype\": \"boolean\",\n        \"num_unique_values\": 1,\n        \"samples\": [\n          false\n        ],\n        \"semantic_type\": \"\",\n        \"description\": \"\"\n      }\n    },\n    {\n      \"column\": \"Acidity\",\n      \"properties\": {\n        \"dtype\": \"boolean\",\n        \"num_unique_values\": 1,\n        \"samples\": [\n          false\n        ],\n        \"semantic_type\": \"\",\n        \"description\": \"\"\n      }\n    },\n    {\n      \"column\": \"Quality\",\n      \"properties\": {\n        \"dtype\": \"boolean\",\n        \"num_unique_values\": 1,\n        \"samples\": [\n          false\n        ],\n        \"semantic_type\": \"\",\n        \"description\": \"\"\n      }\n    }\n  ]\n}"
            }
          },
          "metadata": {},
          "execution_count": 54
        }
      ]
    },
    {
      "cell_type": "markdown",
      "source": [
        "##Summary Statistics"
      ],
      "metadata": {
        "id": "Xx0oWWIKR6rt"
      }
    },
    {
      "cell_type": "code",
      "source": [
        "df.describe()"
      ],
      "metadata": {
        "colab": {
          "base_uri": "https://localhost:8080/",
          "height": 300
        },
        "id": "51vqRXOojDld",
        "outputId": "14fbf1a5-9c0c-43c6-b75f-5b0f1a0525cd"
      },
      "execution_count": 55,
      "outputs": [
        {
          "output_type": "execute_result",
          "data": {
            "text/plain": [
              "              Size       Weight    Sweetness     Softness  HarvestTime  \\\n",
              "count  8000.000000  8000.000000  8000.000000  8000.000000  8000.000000   \n",
              "mean     -0.747802    -0.761019    -0.770224    -0.014441    -0.751288   \n",
              "std       2.136023     2.015934     1.948455     2.065216     1.996661   \n",
              "min      -7.998074    -8.283002    -6.434022    -6.959320    -7.570008   \n",
              "25%      -2.277651    -2.223574    -2.107329    -1.590458    -2.120659   \n",
              "50%      -0.897514    -0.868659    -1.020673     0.202644    -0.934192   \n",
              "75%       0.654216     0.775491     0.311048     1.547120     0.507326   \n",
              "max       7.970800     5.679692     7.539374     8.241555     6.293280   \n",
              "\n",
              "          Ripeness      Acidity  \n",
              "count  8000.000000  8000.000000  \n",
              "mean      0.781098     0.008725  \n",
              "std       2.114289     2.293467  \n",
              "min      -7.423155    -8.226977  \n",
              "25%      -0.574226    -1.629450  \n",
              "50%       0.964952     0.098735  \n",
              "75%       2.261650     1.682063  \n",
              "max       7.249034     7.411633  "
            ],
            "text/html": [
              "\n",
              "  <div id=\"df-16b5d74f-93c9-4238-b14d-446503cd6406\" class=\"colab-df-container\">\n",
              "    <div>\n",
              "<style scoped>\n",
              "    .dataframe tbody tr th:only-of-type {\n",
              "        vertical-align: middle;\n",
              "    }\n",
              "\n",
              "    .dataframe tbody tr th {\n",
              "        vertical-align: top;\n",
              "    }\n",
              "\n",
              "    .dataframe thead th {\n",
              "        text-align: right;\n",
              "    }\n",
              "</style>\n",
              "<table border=\"1\" class=\"dataframe\">\n",
              "  <thead>\n",
              "    <tr style=\"text-align: right;\">\n",
              "      <th></th>\n",
              "      <th>Size</th>\n",
              "      <th>Weight</th>\n",
              "      <th>Sweetness</th>\n",
              "      <th>Softness</th>\n",
              "      <th>HarvestTime</th>\n",
              "      <th>Ripeness</th>\n",
              "      <th>Acidity</th>\n",
              "    </tr>\n",
              "  </thead>\n",
              "  <tbody>\n",
              "    <tr>\n",
              "      <th>count</th>\n",
              "      <td>8000.000000</td>\n",
              "      <td>8000.000000</td>\n",
              "      <td>8000.000000</td>\n",
              "      <td>8000.000000</td>\n",
              "      <td>8000.000000</td>\n",
              "      <td>8000.000000</td>\n",
              "      <td>8000.000000</td>\n",
              "    </tr>\n",
              "    <tr>\n",
              "      <th>mean</th>\n",
              "      <td>-0.747802</td>\n",
              "      <td>-0.761019</td>\n",
              "      <td>-0.770224</td>\n",
              "      <td>-0.014441</td>\n",
              "      <td>-0.751288</td>\n",
              "      <td>0.781098</td>\n",
              "      <td>0.008725</td>\n",
              "    </tr>\n",
              "    <tr>\n",
              "      <th>std</th>\n",
              "      <td>2.136023</td>\n",
              "      <td>2.015934</td>\n",
              "      <td>1.948455</td>\n",
              "      <td>2.065216</td>\n",
              "      <td>1.996661</td>\n",
              "      <td>2.114289</td>\n",
              "      <td>2.293467</td>\n",
              "    </tr>\n",
              "    <tr>\n",
              "      <th>min</th>\n",
              "      <td>-7.998074</td>\n",
              "      <td>-8.283002</td>\n",
              "      <td>-6.434022</td>\n",
              "      <td>-6.959320</td>\n",
              "      <td>-7.570008</td>\n",
              "      <td>-7.423155</td>\n",
              "      <td>-8.226977</td>\n",
              "    </tr>\n",
              "    <tr>\n",
              "      <th>25%</th>\n",
              "      <td>-2.277651</td>\n",
              "      <td>-2.223574</td>\n",
              "      <td>-2.107329</td>\n",
              "      <td>-1.590458</td>\n",
              "      <td>-2.120659</td>\n",
              "      <td>-0.574226</td>\n",
              "      <td>-1.629450</td>\n",
              "    </tr>\n",
              "    <tr>\n",
              "      <th>50%</th>\n",
              "      <td>-0.897514</td>\n",
              "      <td>-0.868659</td>\n",
              "      <td>-1.020673</td>\n",
              "      <td>0.202644</td>\n",
              "      <td>-0.934192</td>\n",
              "      <td>0.964952</td>\n",
              "      <td>0.098735</td>\n",
              "    </tr>\n",
              "    <tr>\n",
              "      <th>75%</th>\n",
              "      <td>0.654216</td>\n",
              "      <td>0.775491</td>\n",
              "      <td>0.311048</td>\n",
              "      <td>1.547120</td>\n",
              "      <td>0.507326</td>\n",
              "      <td>2.261650</td>\n",
              "      <td>1.682063</td>\n",
              "    </tr>\n",
              "    <tr>\n",
              "      <th>max</th>\n",
              "      <td>7.970800</td>\n",
              "      <td>5.679692</td>\n",
              "      <td>7.539374</td>\n",
              "      <td>8.241555</td>\n",
              "      <td>6.293280</td>\n",
              "      <td>7.249034</td>\n",
              "      <td>7.411633</td>\n",
              "    </tr>\n",
              "  </tbody>\n",
              "</table>\n",
              "</div>\n",
              "    <div class=\"colab-df-buttons\">\n",
              "\n",
              "  <div class=\"colab-df-container\">\n",
              "    <button class=\"colab-df-convert\" onclick=\"convertToInteractive('df-16b5d74f-93c9-4238-b14d-446503cd6406')\"\n",
              "            title=\"Convert this dataframe to an interactive table.\"\n",
              "            style=\"display:none;\">\n",
              "\n",
              "  <svg xmlns=\"http://www.w3.org/2000/svg\" height=\"24px\" viewBox=\"0 -960 960 960\">\n",
              "    <path d=\"M120-120v-720h720v720H120Zm60-500h600v-160H180v160Zm220 220h160v-160H400v160Zm0 220h160v-160H400v160ZM180-400h160v-160H180v160Zm440 0h160v-160H620v160ZM180-180h160v-160H180v160Zm440 0h160v-160H620v160Z\"/>\n",
              "  </svg>\n",
              "    </button>\n",
              "\n",
              "  <style>\n",
              "    .colab-df-container {\n",
              "      display:flex;\n",
              "      gap: 12px;\n",
              "    }\n",
              "\n",
              "    .colab-df-convert {\n",
              "      background-color: #E8F0FE;\n",
              "      border: none;\n",
              "      border-radius: 50%;\n",
              "      cursor: pointer;\n",
              "      display: none;\n",
              "      fill: #1967D2;\n",
              "      height: 32px;\n",
              "      padding: 0 0 0 0;\n",
              "      width: 32px;\n",
              "    }\n",
              "\n",
              "    .colab-df-convert:hover {\n",
              "      background-color: #E2EBFA;\n",
              "      box-shadow: 0px 1px 2px rgba(60, 64, 67, 0.3), 0px 1px 3px 1px rgba(60, 64, 67, 0.15);\n",
              "      fill: #174EA6;\n",
              "    }\n",
              "\n",
              "    .colab-df-buttons div {\n",
              "      margin-bottom: 4px;\n",
              "    }\n",
              "\n",
              "    [theme=dark] .colab-df-convert {\n",
              "      background-color: #3B4455;\n",
              "      fill: #D2E3FC;\n",
              "    }\n",
              "\n",
              "    [theme=dark] .colab-df-convert:hover {\n",
              "      background-color: #434B5C;\n",
              "      box-shadow: 0px 1px 3px 1px rgba(0, 0, 0, 0.15);\n",
              "      filter: drop-shadow(0px 1px 2px rgba(0, 0, 0, 0.3));\n",
              "      fill: #FFFFFF;\n",
              "    }\n",
              "  </style>\n",
              "\n",
              "    <script>\n",
              "      const buttonEl =\n",
              "        document.querySelector('#df-16b5d74f-93c9-4238-b14d-446503cd6406 button.colab-df-convert');\n",
              "      buttonEl.style.display =\n",
              "        google.colab.kernel.accessAllowed ? 'block' : 'none';\n",
              "\n",
              "      async function convertToInteractive(key) {\n",
              "        const element = document.querySelector('#df-16b5d74f-93c9-4238-b14d-446503cd6406');\n",
              "        const dataTable =\n",
              "          await google.colab.kernel.invokeFunction('convertToInteractive',\n",
              "                                                    [key], {});\n",
              "        if (!dataTable) return;\n",
              "\n",
              "        const docLinkHtml = 'Like what you see? Visit the ' +\n",
              "          '<a target=\"_blank\" href=https://colab.research.google.com/notebooks/data_table.ipynb>data table notebook</a>'\n",
              "          + ' to learn more about interactive tables.';\n",
              "        element.innerHTML = '';\n",
              "        dataTable['output_type'] = 'display_data';\n",
              "        await google.colab.output.renderOutput(dataTable, element);\n",
              "        const docLink = document.createElement('div');\n",
              "        docLink.innerHTML = docLinkHtml;\n",
              "        element.appendChild(docLink);\n",
              "      }\n",
              "    </script>\n",
              "  </div>\n",
              "\n",
              "\n",
              "<div id=\"df-c314a5a5-0f6d-47b7-925c-caef7be678e9\">\n",
              "  <button class=\"colab-df-quickchart\" onclick=\"quickchart('df-c314a5a5-0f6d-47b7-925c-caef7be678e9')\"\n",
              "            title=\"Suggest charts\"\n",
              "            style=\"display:none;\">\n",
              "\n",
              "<svg xmlns=\"http://www.w3.org/2000/svg\" height=\"24px\"viewBox=\"0 0 24 24\"\n",
              "     width=\"24px\">\n",
              "    <g>\n",
              "        <path d=\"M19 3H5c-1.1 0-2 .9-2 2v14c0 1.1.9 2 2 2h14c1.1 0 2-.9 2-2V5c0-1.1-.9-2-2-2zM9 17H7v-7h2v7zm4 0h-2V7h2v10zm4 0h-2v-4h2v4z\"/>\n",
              "    </g>\n",
              "</svg>\n",
              "  </button>\n",
              "\n",
              "<style>\n",
              "  .colab-df-quickchart {\n",
              "      --bg-color: #E8F0FE;\n",
              "      --fill-color: #1967D2;\n",
              "      --hover-bg-color: #E2EBFA;\n",
              "      --hover-fill-color: #174EA6;\n",
              "      --disabled-fill-color: #AAA;\n",
              "      --disabled-bg-color: #DDD;\n",
              "  }\n",
              "\n",
              "  [theme=dark] .colab-df-quickchart {\n",
              "      --bg-color: #3B4455;\n",
              "      --fill-color: #D2E3FC;\n",
              "      --hover-bg-color: #434B5C;\n",
              "      --hover-fill-color: #FFFFFF;\n",
              "      --disabled-bg-color: #3B4455;\n",
              "      --disabled-fill-color: #666;\n",
              "  }\n",
              "\n",
              "  .colab-df-quickchart {\n",
              "    background-color: var(--bg-color);\n",
              "    border: none;\n",
              "    border-radius: 50%;\n",
              "    cursor: pointer;\n",
              "    display: none;\n",
              "    fill: var(--fill-color);\n",
              "    height: 32px;\n",
              "    padding: 0;\n",
              "    width: 32px;\n",
              "  }\n",
              "\n",
              "  .colab-df-quickchart:hover {\n",
              "    background-color: var(--hover-bg-color);\n",
              "    box-shadow: 0 1px 2px rgba(60, 64, 67, 0.3), 0 1px 3px 1px rgba(60, 64, 67, 0.15);\n",
              "    fill: var(--button-hover-fill-color);\n",
              "  }\n",
              "\n",
              "  .colab-df-quickchart-complete:disabled,\n",
              "  .colab-df-quickchart-complete:disabled:hover {\n",
              "    background-color: var(--disabled-bg-color);\n",
              "    fill: var(--disabled-fill-color);\n",
              "    box-shadow: none;\n",
              "  }\n",
              "\n",
              "  .colab-df-spinner {\n",
              "    border: 2px solid var(--fill-color);\n",
              "    border-color: transparent;\n",
              "    border-bottom-color: var(--fill-color);\n",
              "    animation:\n",
              "      spin 1s steps(1) infinite;\n",
              "  }\n",
              "\n",
              "  @keyframes spin {\n",
              "    0% {\n",
              "      border-color: transparent;\n",
              "      border-bottom-color: var(--fill-color);\n",
              "      border-left-color: var(--fill-color);\n",
              "    }\n",
              "    20% {\n",
              "      border-color: transparent;\n",
              "      border-left-color: var(--fill-color);\n",
              "      border-top-color: var(--fill-color);\n",
              "    }\n",
              "    30% {\n",
              "      border-color: transparent;\n",
              "      border-left-color: var(--fill-color);\n",
              "      border-top-color: var(--fill-color);\n",
              "      border-right-color: var(--fill-color);\n",
              "    }\n",
              "    40% {\n",
              "      border-color: transparent;\n",
              "      border-right-color: var(--fill-color);\n",
              "      border-top-color: var(--fill-color);\n",
              "    }\n",
              "    60% {\n",
              "      border-color: transparent;\n",
              "      border-right-color: var(--fill-color);\n",
              "    }\n",
              "    80% {\n",
              "      border-color: transparent;\n",
              "      border-right-color: var(--fill-color);\n",
              "      border-bottom-color: var(--fill-color);\n",
              "    }\n",
              "    90% {\n",
              "      border-color: transparent;\n",
              "      border-bottom-color: var(--fill-color);\n",
              "    }\n",
              "  }\n",
              "</style>\n",
              "\n",
              "  <script>\n",
              "    async function quickchart(key) {\n",
              "      const quickchartButtonEl =\n",
              "        document.querySelector('#' + key + ' button');\n",
              "      quickchartButtonEl.disabled = true;  // To prevent multiple clicks.\n",
              "      quickchartButtonEl.classList.add('colab-df-spinner');\n",
              "      try {\n",
              "        const charts = await google.colab.kernel.invokeFunction(\n",
              "            'suggestCharts', [key], {});\n",
              "      } catch (error) {\n",
              "        console.error('Error during call to suggestCharts:', error);\n",
              "      }\n",
              "      quickchartButtonEl.classList.remove('colab-df-spinner');\n",
              "      quickchartButtonEl.classList.add('colab-df-quickchart-complete');\n",
              "    }\n",
              "    (() => {\n",
              "      let quickchartButtonEl =\n",
              "        document.querySelector('#df-c314a5a5-0f6d-47b7-925c-caef7be678e9 button');\n",
              "      quickchartButtonEl.style.display =\n",
              "        google.colab.kernel.accessAllowed ? 'block' : 'none';\n",
              "    })();\n",
              "  </script>\n",
              "</div>\n",
              "\n",
              "    </div>\n",
              "  </div>\n"
            ],
            "application/vnd.google.colaboratory.intrinsic+json": {
              "type": "dataframe",
              "summary": "{\n  \"name\": \"df\",\n  \"rows\": 8,\n  \"fields\": [\n    {\n      \"column\": \"Size\",\n      \"properties\": {\n        \"dtype\": \"number\",\n        \"std\": 2828.489220146718,\n        \"min\": -7.9980736,\n        \"max\": 8000.0,\n        \"num_unique_values\": 8,\n        \"samples\": [\n          -0.747801801669379,\n          -0.89751402,\n          8000.0\n        ],\n        \"semantic_type\": \"\",\n        \"description\": \"\"\n      }\n    },\n    {\n      \"column\": \"Weight\",\n      \"properties\": {\n        \"dtype\": \"number\",\n        \"std\": 2828.6150171138556,\n        \"min\": -8.283002,\n        \"max\": 8000.0,\n        \"num_unique_values\": 8,\n        \"samples\": [\n          -0.7610193750192439,\n          -0.868658975,\n          8000.0\n        ],\n        \"semantic_type\": \"\",\n        \"description\": \"\"\n      }\n    },\n    {\n      \"column\": \"Sweetness\",\n      \"properties\": {\n        \"dtype\": \"number\",\n        \"std\": 2828.456795667844,\n        \"min\": -6.4340215,\n        \"max\": 8000.0,\n        \"num_unique_values\": 8,\n        \"samples\": [\n          -0.7702241042843923,\n          -1.0206731,\n          8000.0\n        ],\n        \"semantic_type\": \"\",\n        \"description\": \"\"\n      }\n    },\n    {\n      \"column\": \"Softness\",\n      \"properties\": {\n        \"dtype\": \"number\",\n        \"std\": 2828.253863829764,\n        \"min\": -6.9593196,\n        \"max\": 8000.0,\n        \"num_unique_values\": 8,\n        \"samples\": [\n          -0.014440881038258795,\n          0.20264395,\n          8000.0\n        ],\n        \"semantic_type\": \"\",\n        \"description\": \"\"\n      }\n    },\n    {\n      \"column\": \"HarvestTime\",\n      \"properties\": {\n        \"dtype\": \"number\",\n        \"std\": 2828.5600581614904,\n        \"min\": -7.5700083,\n        \"max\": 8000.0,\n        \"num_unique_values\": 8,\n        \"samples\": [\n          -0.7512883019195963,\n          -0.93419198,\n          8000.0\n        ],\n        \"semantic_type\": \"\",\n        \"description\": \"\"\n      }\n    },\n    {\n      \"column\": \"Ripeness\",\n      \"properties\": {\n        \"dtype\": \"number\",\n        \"std\": 2828.1586188491356,\n        \"min\": -7.4231553,\n        \"max\": 8000.0,\n        \"num_unique_values\": 8,\n        \"samples\": [\n          0.7810983560473437,\n          0.96495169,\n          8000.0\n        ],\n        \"semantic_type\": \"\",\n        \"description\": \"\"\n      }\n    },\n    {\n      \"column\": \"Acidity\",\n      \"properties\": {\n        \"dtype\": \"number\",\n        \"std\": 2828.3477418460625,\n        \"min\": -8.226977,\n        \"max\": 8000.0,\n        \"num_unique_values\": 8,\n        \"samples\": [\n          0.008725080184739966,\n          0.09873514,\n          8000.0\n        ],\n        \"semantic_type\": \"\",\n        \"description\": \"\"\n      }\n    }\n  ]\n}"
            }
          },
          "metadata": {},
          "execution_count": 55
        }
      ]
    },
    {
      "cell_type": "markdown",
      "source": [
        "##Data Preprocessing"
      ],
      "metadata": {
        "id": "b-y9BnRsq8VQ"
      }
    },
    {
      "cell_type": "code",
      "source": [
        "features = ['Size', 'Weight', 'Sweetness', 'Softness', 'HarvestTime', 'Ripeness', 'Acidity']\n",
        "# Convert quality \"Good\" to 1 and \"Bad\" to 0\n",
        "label_encoder = LabelEncoder()\n",
        "df[\"Quality\"] = label_encoder.fit_transform(df[\"Quality\"])\n",
        "\n",
        "# Verifying encoding\n",
        "# print(df[\"Quality\"].unique())  # Output should be [0, 1]\n",
        "\n",
        "X = df[features].values\n",
        "y = df['Quality'].values"
      ],
      "metadata": {
        "id": "gSYRMcbLq_F9"
      },
      "execution_count": 56,
      "outputs": []
    },
    {
      "cell_type": "markdown",
      "source": [
        "##Conducting Exploratory Data Analysis (EDA):"
      ],
      "metadata": {
        "id": "Ui0aO4Dcxv-M"
      }
    },
    {
      "cell_type": "markdown",
      "source": [
        "**Univariate Analysis**"
      ],
      "metadata": {
        "id": "BB-llk-F8deO"
      }
    },
    {
      "cell_type": "code",
      "source": [
        "#plotting the distribution of each feature, categorized by 'Quality' status\n",
        "columns = df.columns.drop('Quality')\n",
        "for col in columns:\n",
        "  plt.figure(figsize=(6,4))\n",
        "  sns.histplot(data = df, x = col, kde = True, bins = 20)\n",
        "  plt.title(f'Distribution of {col}')\n",
        "  plt.show()"
      ],
      "metadata": {
        "colab": {
          "base_uri": "https://localhost:8080/",
          "height": 1000
        },
        "id": "jVSOVd5Bzre-",
        "outputId": "54d9847e-9668-4256-996d-1882d0011397"
      },
      "execution_count": 57,
      "outputs": [
        {
          "output_type": "display_data",
          "data": {
            "text/plain": [
              "<Figure size 600x400 with 1 Axes>"
            ],
            "image/png": "[encoded data removed]"
          },
          "metadata": {}
        },
        {
          "output_type": "display_data",
          "data": {
            "text/plain": [
              "<Figure size 600x400 with 1 Axes>"
            ],
            "image/png": "[encoded data removed]"
          },
          "metadata": {}
        },
        {
          "output_type": "display_data",
          "data": {
            "text/plain": [
              "<Figure size 600x400 with 1 Axes>"
            ],
            "image/png": "[encoded data removed]"
          },
          "metadata": {}
        },
        {
          "output_type": "display_data",
          "data": {
            "text/plain": [
              "<Figure size 600x400 with 1 Axes>"
            ],
            "image/png": "[encoded data removed]"
          },
          "metadata": {}
        },
        {
          "output_type": "display_data",
          "data": {
            "text/plain": [
              "<Figure size 600x400 with 1 Axes>"
            ],
            "image/png": "[encoded data removed]"
          },
          "metadata": {}
        },
        {
          "output_type": "display_data",
          "data": {
            "text/plain": [
              "<Figure size 600x400 with 1 Axes>"
            ],
            "image/png": "[encoded data removed]"
          },
          "metadata": {}
        },
        {
          "output_type": "display_data",
          "data": {
            "text/plain": [
              "<Figure size 600x400 with 1 Axes>"
            ],
            "image/png": "[encoded data removed]"
          },
          "metadata": {}
        }
      ]
    },
    {
      "cell_type": "markdown",
      "source": [
        "- The above histograms show the skewness of the features.Most features are concentrated to the centre,ie. at 0 indicating normal distribution excpet for softness feature that shows slight right skewness that shows more banana have lower softness values.  "
      ],
      "metadata": {
        "id": "IzVD8lSXp3XE"
      }
    },
    {
      "cell_type": "code",
      "source": [
        "for col in columns:\n",
        "  plt.figure(figsize = (6,4))\n",
        "  sns.boxplot(data=df, x='Quality', y=col)\n",
        "  plt.title(f'Box Plot of {col} by Quality')\n",
        "  plt.show()"
      ],
      "metadata": {
        "colab": {
          "base_uri": "https://localhost:8080/",
          "height": 1000
        },
        "id": "aMgWbt-A0Sf9",
        "outputId": "8268ae08-130d-4480-a7fc-e1cfd022b60d"
      },
      "execution_count": 58,
      "outputs": [
        {
          "output_type": "display_data",
          "data": {
            "text/plain": [
              "<Figure size 600x400 with 1 Axes>"
            ],
            "image/png": "[encoded data removed]"
          },
          "metadata": {}
        },
        {
          "output_type": "display_data",
          "data": {
            "text/plain": [
              "<Figure size 600x400 with 1 Axes>"
            ],
            "image/png": "[encoded data removed]"
          },
          "metadata": {}
        },
        {
          "output_type": "display_data",
          "data": {
            "text/plain": [
              "<Figure size 600x400 with 1 Axes>"
            ],
            "image/png": "[encoded data removed]"
          },
          "metadata": {}
        },
        {
          "output_type": "display_data",
          "data": {
            "text/plain": [
              "<Figure size 600x400 with 1 Axes>"
            ],
            "image/png": "[encoded data removed]"
          },
          "metadata": {}
        },
        {
          "output_type": "display_data",
          "data": {
            "text/plain": [
              "<Figure size 600x400 with 1 Axes>"
            ],
            "image/png": "[encoded data removed]"
          },
          "metadata": {}
        },
        {
          "output_type": "display_data",
          "data": {
            "text/plain": [
              "<Figure size 600x400 with 1 Axes>"
            ],
            "image/png": "[encoded data removed]"
          },
          "metadata": {}
        },
        {
          "output_type": "display_data",
          "data": {
            "text/plain": [
              "<Figure size 600x400 with 1 Axes>"
            ],
            "image/png": "[encoded data removed]"
          },
          "metadata": {}
        }
      ]
    },
    {
      "cell_type": "markdown",
      "source": [
        "- The above box plots visualize the spread, central tendency, and presence of outliers of features of a dataset. Features like Softness, Ripeness, and Acidity have many extreme outliers at both ends.Sweetness and HarvestTime also show some negative outliers, meaning a few bananas have very low values."
      ],
      "metadata": {
        "id": "TMFxAtnRvbuC"
      }
    },
    {
      "cell_type": "markdown",
      "source": [
        "**Bivaraiate Analysis**"
      ],
      "metadata": {
        "id": "rzjRRRPX8YIE"
      }
    },
    {
      "cell_type": "code",
      "source": [
        "# #creating heatmap to visualize the correlation matrix of the features in the dataset\n",
        "plt.figure(figsize=(12, 4))\n",
        "sns.heatmap(df.corr(), annot = True, cmap='Reds')\n",
        "plt.title('Correlation Heatmap')\n",
        "plt.show()"
      ],
      "metadata": {
        "id": "efqEDADLe_3h",
        "colab": {
          "base_uri": "https://localhost:8080/",
          "height": 391
        },
        "outputId": "bc5e7deb-a6de-4be3-96ad-bd2daf00ed18"
      },
      "execution_count": 59,
      "outputs": [
        {
          "output_type": "display_data",
          "data": {
            "text/plain": [
              "<Figure size 1200x400 with 2 Axes>"
            ],
            "image/png": "[encoded data removed]"
          },
          "metadata": {}
        }
      ]
    },
    {
      "cell_type": "markdown",
      "source": [
        "- The heatmap shows key relationships between the banana quality and various features. Size, weight, sweetness, and ripeness show a positive correlation with quality, indicating that bananas of their higher value tend to be of higher quality. Additionally, weight and sweetness are moderately correlated, meaning heavier bananas are generally sweeter. In contrast, acidity and softness have little to no impact on quality, as their correlations are close to zero."
      ],
      "metadata": {
        "id": "1gFOtPQay_wx"
      }
    },
    {
      "cell_type": "markdown",
      "source": [
        "** Note:**\n",
        "\n",
        "\n",
        "Here ouliers are detected but these outliers are not removed because removing the outliers end up making the dataset way too small which doesn't satisfy the data enough for training and testing split. Also,from the visual representation, most of the data that are outliers don't lie far from the whisekers in box model which gives an oppportunity to not remove them."
      ],
      "metadata": {
        "id": "gjtOrkdQeNmh"
      }
    },
    {
      "cell_type": "markdown",
      "source": [
        "##Building a model from Scratch"
      ],
      "metadata": {
        "id": "fu_1KZfI8qj5"
      }
    },
    {
      "cell_type": "code",
      "source": [
        "X_train, X_test, y_train, y_test = train_test_split(X, y, test_size=0.2, random_state=42, stratify=y)"
      ],
      "metadata": {
        "id": "d0mOic_0Br-V"
      },
      "execution_count": 60,
      "outputs": []
    },
    {
      "cell_type": "code",
      "source": [
        "# Standardize features\n",
        "scaler = StandardScaler()\n",
        "X_train_scaled = scaler.fit_transform(X_train)\n",
        "X_test_scaled = scaler.transform(X_test)"
      ],
      "metadata": {
        "id": "MVVd6HLhIXZV"
      },
      "execution_count": 61,
      "outputs": []
    },
    {
      "cell_type": "code",
      "source": [
        "# Initialize parameters\n",
        "w = np.zeros(X_train_scaled.shape[1])\n",
        "b = 0.0\n",
        "alpha = 0.1\n",
        "n_iter = 1000"
      ],
      "metadata": {
        "id": "kFQRce4rIr63"
      },
      "execution_count": 62,
      "outputs": []
    },
    {
      "cell_type": "code",
      "source": [
        "def logistic_function(x):\n",
        "  \"\"\"\n",
        "  Computes the logistic function applied to any value of x.\n",
        "  Arguments:\n",
        "    x: scalar or numpy array of any size.\n",
        "  Returns:\n",
        "    y: logistic function applied to x.\n",
        "  \"\"\"\n",
        "  y = 1 / (1 + np.exp(-x)) #sigmoid function\n",
        "  return y\n"
      ],
      "metadata": {
        "id": "VUlpzpr-82VB"
      },
      "execution_count": 63,
      "outputs": []
    },
    {
      "cell_type": "code",
      "source": [
        "def log_loss(y_true, y_pred):\n",
        "    \"\"\"\n",
        "    Computes the log loss function.\n",
        "\n",
        "    Args:\n",
        "        y_true (float): True class label (0 or 1).\n",
        "        y_pred (float): Predicted probability (between 0 and 1).\n",
        "\n",
        "    Returns:\n",
        "        float: Log loss value.\n",
        "    \"\"\"\n",
        "    # Prevent log(0) errors by clipping values\n",
        "    y_pred = np.clip(y_pred, 1e-10, 1 - 1e-10)\n",
        "\n",
        "    loss = - (y_true * np.log(y_pred) + (1 - y_true) * np.log(1 - y_pred))\n",
        "    return loss"
      ],
      "metadata": {
        "id": "cASQmvmB3s4Q"
      },
      "execution_count": 64,
      "outputs": []
    },
    {
      "cell_type": "code",
      "source": [
        "# Cost function - using vectorization\n",
        "def cost_function(y_true, y_pred):\n",
        "    \"\"\"\n",
        "    Computes log loss for inputs true value (0 or 1) and predicted value (between 0 and 1)\n",
        "    Args:\n",
        "      y_true    (array_like, shape (m,)): array of true values (0 or 1)\n",
        "      y_pred (array_like, shape (m,)): array of predicted values (probability of y_pred being 1)\n",
        "    Returns:\n",
        "      cost (float): nonnegative cost corresponding to y_true and y_pred\n",
        "    \"\"\"\n",
        "    assert len(y_true) == len(y_pred), \"Length of true values and length of predicted values do not match\"\n",
        "    n = len(y_true)\n",
        "    loss_vec =  - (y_true * np.log(y_pred) + (1 - y_true) * np.log(1 - y_pred))\n",
        "    cost = np.mean(loss_vec)\n",
        "    return cost"
      ],
      "metadata": {
        "id": "5eANzUo4F9bf"
      },
      "execution_count": 65,
      "outputs": []
    },
    {
      "cell_type": "code",
      "source": [
        "# Function to compute cost function in terms of model parameters - using vectorization\n",
        "def costfunction_logreg(X, y, w, b):\n",
        "    \"\"\"\n",
        "    Computes the cost function, given data and model parameters.\n",
        "    Args:\n",
        "      X (ndarray, shape (m,n)): data on features, m observations with n features.\n",
        "      y (array_like, shape (m,)): array of true values of target (0 or 1).\n",
        "      w (array_like, shape (n,)): weight parameters of the model.\n",
        "      b (float): bias parameter of the model.\n",
        "    Returns:\n",
        "      cost (float): nonnegative cost corresponding to y and y_pred.\n",
        "    \"\"\"\n",
        "    m, n = X.shape\n",
        "    assert len(y) == m, \"Number of feature observations and number of target observations do not match.\"\n",
        "    assert len(w) == n, \"Number of features and number of weight parameters do not match.\"\n",
        "\n",
        "    # Compute z using np.dot\n",
        "    z = np.dot(X, w) + b\n",
        "\n",
        "    # Compute predictions using logistic function (sigmoid)\n",
        "    y_pred =  1 / (1 + np.exp(-z))\n",
        "\n",
        "    # Compute the cost using the cost function\n",
        "    cost = cost_function(y, y_pred)\n",
        "\n",
        "    return cost"
      ],
      "metadata": {
        "id": "7tZD7GuaC0G5"
      },
      "execution_count": 66,
      "outputs": []
    },
    {
      "cell_type": "code",
      "source": [
        "def compute_gradient(X, y, w, b):\n",
        "    \"\"\"\n",
        "    Computes gradients of the cost function with respect to model parameters.\n",
        "    Args:\n",
        "      X (ndarray, shape (n,d)): Input data, n observations with d features\n",
        "      y (array_like, shape (n,)): True labels (0 or 1)\n",
        "      w (array_like, shape (d,)): Weight parameters of the model\n",
        "      b (float): Bias parameter of the model\n",
        "    Returns:\n",
        "      grad_w (array_like, shape (d,)): Gradients of the cost function with respect to the weight parameters\n",
        "      grad_b (float): Gradient of the cost function with respect to the bias parameter\n",
        "    \"\"\"\n",
        "    n, d = X.shape  # X has shape (n, d)\n",
        "    assert len(y) == n, f\"Expected y to have {n} elements, but got {len(y)}\"\n",
        "    assert len(w) == d, f\"Expected w to have {d} elements, but got {len(w)}\"\n",
        "\n",
        "    # Compute predictions using logistic function (sigmoid)\n",
        "    y_pred = logistic_function(np.dot(X, w) + b)  # Compute z = X * w + b\n",
        "    error = y_pred - y\n",
        "    # Compute gradients\n",
        "    grad_w = np.dot(X.T, error) / n\n",
        "    # Gradient w.r.t weights, shape (d,)\n",
        "    grad_b = np.sum(error) / n\n",
        "    # Gradient w.r.t bias, scalar\n",
        "\n",
        "    return grad_w, grad_b\n",
        "\n",
        "\n",
        "def gradient_descent(X, y, w, b, alpha, n_iter, show_cost=False, show_params=True):\n",
        "    \"\"\"\n",
        "    Implements batch gradient descent to optimize logistic regression parameters.\n",
        "\n",
        "    Args:\n",
        "      X (ndarray, shape (n,d)): Data on features, n observations with d features\n",
        "      y (array_like, shape (n,)): True values of target (0 or 1)\n",
        "      w (array_like, shape (d,)): Initial weight parameters\n",
        "      b (float): Initial bias parameter\n",
        "      alpha (float): Learning rate\n",
        "      n_iter (int): Number of iterations\n",
        "      show_cost (bool): If True, displays cost every 100 iterations\n",
        "      show_params (bool): If True, displays parameters every 100 iterations\n",
        "\n",
        "    Returns:\n",
        "      w (array_like, shape (d,)): Optimized weight parameters\n",
        "      b (float): Optimized bias parameter\n",
        "      cost_history (list): List of cost values over iterations\n",
        "      params_history (list): List of parameters (w, b) over iterations\n",
        "    \"\"\"\n",
        "    n, d = X.shape\n",
        "    assert len(y) == n, \"Number of observations in X and y do not match\"\n",
        "    assert len(w) == d, \"Number of features in X and w do not match\"\n",
        "\n",
        "    cost_history = []\n",
        "    params_history = []\n",
        "\n",
        "    for i in range(n_iter):\n",
        "        # Compute gradients\n",
        "        grad_w, grad_b = compute_gradient(X, y, w, b)\n",
        "\n",
        "        # Update weights and bias\n",
        "        w -=  alpha * grad_w\n",
        "        b -= alpha * grad_b\n",
        "\n",
        "        # Compute cost\n",
        "        cost = costfunction_logreg(X, y, w, b)\n",
        "\n",
        "        # Store cost and parameters\n",
        "        cost_history.append(cost)\n",
        "        params_history.append((w.copy(), b))\n",
        "\n",
        "        # Optionally print cost and parameters\n",
        "        if show_cost and (i % 100 == 0 or i == n_iter - 1):\n",
        "            print(f\"Iteration {i}: Cost = {cost:.6f}\")\n",
        "        if show_params and (i % 100 == 0 or i == n_iter - 1):\n",
        "            print(f\"Iteration {i}: w = {w}, b = {b:.6f}\")\n",
        "\n",
        "    return w, b, cost_history, params_history"
      ],
      "metadata": {
        "id": "lJSNhKCUHc7t"
      },
      "execution_count": 67,
      "outputs": []
    },
    {
      "cell_type": "code",
      "source": [
        "def prediction(X, w, b, threshold=0.5):\n",
        "    \"\"\"\n",
        "    Predicts binary outcomes for given input features based on logistic regression parameters.\n",
        "\n",
        "    Arguments:\n",
        "      X (ndarray, shape (n,d)): Array of test independent variables (features) with n samples and d features.\n",
        "      w (ndarray, shape (d,)): Array of weights learned via gradient descent.\n",
        "      b (float): Bias learned via gradient descent.\n",
        "      threshold (float, optional): Classification threshold for predicting class labels. Default is 0.5.\n",
        "\n",
        "    Returns:\n",
        "      y_pred (ndarray, shape (n,)): Array of predicted dependent variable (binary class labels: 0 or 1).\n",
        "    \"\"\"\n",
        "    # Compute the predicted probabilities using the logistic function\n",
        "    y_test_prob = logistic_function(np.dot(X, w) + b)\n",
        "\n",
        "    # Classify based on the threshold\n",
        "    y_pred = (y_test_prob >= threshold).astype(int)\n",
        "\n",
        "    return y_pred"
      ],
      "metadata": {
        "id": "pQMFgQVZD0f4"
      },
      "execution_count": 68,
      "outputs": []
    },
    {
      "cell_type": "code",
      "source": [
        "# Evaluation Function: Computes confusion matrix, precision, recall, and F1-score\n",
        "def evaluate_classification(y_true, y_pred):\n",
        "\n",
        "    TP = np.sum((y_true == 1) & (y_pred == 1))  # True Positives\n",
        "    TN = np.sum((y_true == 0) & (y_pred == 0))  # True Negatives\n",
        "    FP = np.sum((y_true == 0) & (y_pred == 1))  # False Positives\n",
        "    FN = np.sum((y_true == 1) & (y_pred == 0))  # False Negatives\n",
        "\n",
        "    # Confusion matrix\n",
        "    confusion_matrix = np.array([[TN, FP],\n",
        "                                  [FN, TP]])\n",
        "\n",
        "    # Precision, recall, and F1-score with safe handling of zero division\n",
        "    precision = TP / (TP + FP) if (TP + FP) > 0 else 0.0\n",
        "    recall =  TP / (TP + FN) if (TP + FN) > 0 else 0.0\n",
        "    f1_score =  (2 * precision * recall) / (precision + recall) if (precision + recall) > 0 else 0.0\n",
        "\n",
        "    # Ensure metrics are floats\n",
        "    precision = float(precision)\n",
        "    recall = float(recall)\n",
        "    f1_score = float(f1_score)\n",
        "\n",
        "    # Return metrics as a dictionary\n",
        "    return confusion_matrix, precision, recall, f1_score"
      ],
      "metadata": {
        "id": "Ig-Ng0hLED0Y"
      },
      "execution_count": 69,
      "outputs": []
    },
    {
      "cell_type": "code",
      "source": [
        "print(\"\\nTraining Logistic Regression Model:\")\n",
        "w, b, cost_history,params_history = gradient_descent(X_train_scaled, y_train, w, b, alpha, n_iter, show_cost=True, show_params=False)\n"
      ],
      "metadata": {
        "colab": {
          "base_uri": "https://localhost:8080/"
        },
        "id": "8pIc-JfWFgLv",
        "outputId": "0ee63537-3dd5-4fdb-f875-26fbda17c1e9"
      },
      "execution_count": 70,
      "outputs": [
        {
          "output_type": "stream",
          "name": "stdout",
          "text": [
            "\n",
            "Training Logistic Regression Model:\n",
            "Iteration 0: Cost = 0.676293\n",
            "Iteration 100: Cost = 0.337374\n",
            "Iteration 200: Cost = 0.306302\n",
            "Iteration 300: Cost = 0.296204\n",
            "Iteration 400: Cost = 0.291758\n",
            "Iteration 500: Cost = 0.289506\n",
            "Iteration 600: Cost = 0.288271\n",
            "Iteration 700: Cost = 0.287557\n",
            "Iteration 800: Cost = 0.287130\n",
            "Iteration 900: Cost = 0.286869\n",
            "Iteration 999: Cost = 0.286706\n"
          ]
        }
      ]
    },
    {
      "cell_type": "code",
      "source": [
        "# Plot cost history\n",
        "plt.figure(figsize=(9, 6))\n",
        "plt.plot(cost_history)\n",
        "plt.xlabel(\"Iteration\", fontsize=14)\n",
        "plt.ylabel(\"Cost\", fontsize=14)\n",
        "plt.title(\"Cost vs Iteration\", fontsize=14)\n",
        "plt.tight_layout()\n",
        "plt.show()"
      ],
      "metadata": {
        "colab": {
          "base_uri": "https://localhost:8080/",
          "height": 607
        },
        "id": "WCCF5hJfI0ZB",
        "outputId": "50a8bad3-1cc2-4205-d908-370e716eeb8e"
      },
      "execution_count": 71,
      "outputs": [
        {
          "output_type": "display_data",
          "data": {
            "text/plain": [
              "<Figure size 900x600 with 1 Axes>"
            ],
            "image/png": "[encoded data removed]"
          },
          "metadata": {}
        }
      ]
    },
    {
      "cell_type": "code",
      "source": [
        "# Test model\n",
        "y_train_pred = prediction(X_train_scaled, w, b)\n",
        "y_test_pred = prediction(X_test_scaled, w, b)"
      ],
      "metadata": {
        "id": "lnsuvhvgJse4"
      },
      "execution_count": 72,
      "outputs": []
    },
    {
      "cell_type": "code",
      "source": [
        " # Evaluate train and test performance\n",
        "train_cost = costfunction_logreg(X_train_scaled, y_train, w, b)\n",
        "test_cost = costfunction_logreg(X_test_scaled, y_test, w, b)\n",
        "print(f\"\\nTrain Loss (Cost): {train_cost:.4f}\")\n",
        "print(f\"Test Loss (Cost): {test_cost:.4f}\")"
      ],
      "metadata": {
        "colab": {
          "base_uri": "https://localhost:8080/"
        },
        "id": "5a3pikwTJvRG",
        "outputId": "d977afb1-c88e-4abc-8447-b9ad8310fff4"
      },
      "execution_count": 73,
      "outputs": [
        {
          "output_type": "stream",
          "name": "stdout",
          "text": [
            "\n",
            "Train Loss (Cost): 0.2867\n",
            "Test Loss (Cost): 0.3005\n"
          ]
        }
      ]
    },
    {
      "cell_type": "markdown",
      "source": [
        "Since the test loss is slightly higher than the train loss, it suggests that the model is generalizing reasonably well, with minimal overfitting."
      ],
      "metadata": {
        "id": "cjUqst3ZK6fB"
      }
    },
    {
      "cell_type": "code",
      "source": [
        "# Accuracy on test data\n",
        "test_accuracy = np.mean(y_test_pred == y_test) * 100\n",
        "print(f\"\\nTest Accuracy: {test_accuracy:.2f}%\")\n",
        "\n",
        "# Evaluation\n",
        "confusion_matrix, precision, recall, f1_score = evaluate_classification(y_test, y_test_pred)\n",
        "print(f\"\\nConfusion Matrix:\\n{confusion_matrix}\")\n",
        "print(f\"Precision: {precision:.2f}\")\n",
        "print(f\"Recall: {recall:.2f}\")\n",
        "print(f\"F1-Score: {f1_score:.2f}\")"
      ],
      "metadata": {
        "colab": {
          "base_uri": "https://localhost:8080/"
        },
        "id": "K_iD2-8mJ52o",
        "outputId": "9834eefc-52a3-4b02-f7e6-8cbe700a2363"
      },
      "execution_count": 74,
      "outputs": [
        {
          "output_type": "stream",
          "name": "stdout",
          "text": [
            "\n",
            "Test Accuracy: 87.06%\n",
            "\n",
            "Confusion Matrix:\n",
            "[[677 122]\n",
            " [ 85 716]]\n",
            "Precision: 0.85\n",
            "Recall: 0.89\n",
            "F1-Score: 0.87\n"
          ]
        }
      ]
    },
    {
      "cell_type": "markdown",
      "source": [
        "The model build from scratch had an overall test accuracy of 87.06%, which is pretty good. In the confusion matrix, there are 677 true negatives, 716 true positives, 122 false positives, and 85 false negatives. Precision is 0.85, which means 85% of the predicted positives were actual positives, and recall is 0.89, which means 89% of the actual positives were correctly identified. The F1-score of 0.87 balances precision and recall, confirming a well-performing model in terms of a good trade-off between false positives and false negatives."
      ],
      "metadata": {
        "id": "kBqe2hbvLvZH"
      }
    },
    {
      "cell_type": "code",
      "source": [
        "# Visualizing Confusion Matrix\n",
        "fig, ax = plt.subplots(figsize=(6, 6))\n",
        "cax = ax.imshow(confusion_matrix, cmap='RdBu')\n",
        "ax.grid(False)\n",
        "ax.xaxis.set(ticks=(0, 1), ticklabels=('Predicted 0s', 'Predicted 1s'))\n",
        "ax.yaxis.set(ticks=(0, 1), ticklabels=('Actual 0s', 'Actual 1s'))\n",
        "ax.set_ylim(1.5, -0.5)\n",
        "for i in range(2):\n",
        "    for j in range(2):\n",
        "        ax.text(j, i, confusion_matrix[i, j], ha='center', va='center', color='white')\n",
        "plt.show()"
      ],
      "metadata": {
        "colab": {
          "base_uri": "https://localhost:8080/",
          "height": 522
        },
        "id": "6ZKK_pXcKhSG",
        "outputId": "59bfd76c-32b1-4653-8e2f-252eab99e6f1"
      },
      "execution_count": 75,
      "outputs": [
        {
          "output_type": "display_data",
          "data": {
            "text/plain": [
              "<Figure size 600x600 with 1 Axes>"
            ],
            "image/png": "[encoded data removed]"
          },
          "metadata": {}
        }
      ]
    },
    {
      "cell_type": "markdown",
      "source": [
        "##Building a Primary Model"
      ],
      "metadata": {
        "id": "42QORXmnMGID"
      }
    },
    {
      "cell_type": "code",
      "source": [
        "# Define features (X) and targets (y)\n",
        "X = df.drop(columns=[\"Quality\"])\n",
        "y = df[\"Quality\"]\n",
        "\n",
        "# Spliting the  data\n",
        "X_train_class, X_test_class, y_train_class, y_test_class = train_test_split(X, y, test_size=0.2, random_state=42)"
      ],
      "metadata": {
        "id": "-yctYIvwMfwx"
      },
      "execution_count": 76,
      "outputs": []
    },
    {
      "cell_type": "code",
      "source": [
        "# Standardize features\n",
        "scaler = StandardScaler()\n",
        "X_train_class = scaler.fit_transform(X_train_class)\n",
        "X_test_class = scaler.transform(X_test_class)"
      ],
      "metadata": {
        "id": "go6dsB3EWH0n"
      },
      "execution_count": 77,
      "outputs": []
    },
    {
      "cell_type": "markdown",
      "source": [
        "**Logistic Regression Model**"
      ],
      "metadata": {
        "id": "dSxe_5RosGUP"
      }
    },
    {
      "cell_type": "code",
      "source": [
        "\n",
        "# Train Logistic Regression model\n",
        "log_reg = LogisticRegression(max_iter=1000)\n",
        "log_reg.fit(X_train_class, y_train_class)\n",
        "y_pred_log_reg = log_reg.predict(X_test_class)\n",
        "\n",
        "log_reg_acc = accuracy_score(y_test_class, y_pred_log_reg)\n",
        "print(\"Logistic Regression (Model 1) Accuracy:\", log_reg_acc)\n",
        "print(\"\\nLogistic Regression  Report:\\n\", classification_report(y_test_class, y_pred_log_reg))\n"
      ],
      "metadata": {
        "colab": {
          "base_uri": "https://localhost:8080/"
        },
        "id": "OAxLvbmfK8AX",
        "outputId": "1699953c-2087-4d23-bca2-e72469efb3f9"
      },
      "execution_count": 78,
      "outputs": [
        {
          "output_type": "stream",
          "name": "stdout",
          "text": [
            "Logistic Regression (Model 1) Accuracy: 0.879375\n",
            "\n",
            "Logistic Regression  Report:\n",
            "               precision    recall  f1-score   support\n",
            "\n",
            "           0       0.88      0.87      0.88       781\n",
            "           1       0.88      0.89      0.88       819\n",
            "\n",
            "    accuracy                           0.88      1600\n",
            "   macro avg       0.88      0.88      0.88      1600\n",
            "weighted avg       0.88      0.88      0.88      1600\n",
            "\n"
          ]
        }
      ]
    },
    {
      "cell_type": "markdown",
      "source": [
        "**Decision Tree Model**"
      ],
      "metadata": {
        "id": "-RTLpggSWoQD"
      }
    },
    {
      "cell_type": "code",
      "source": [
        "# Train Decision Tree model\n",
        "tree_clf = DecisionTreeClassifier(random_state=42)\n",
        "tree_clf.fit(X_train_class, y_train_class)\n",
        "y_pred_tree = tree_clf.predict(X_test_class)\n",
        "\n",
        "# Evaluate models\n",
        "tree_acc = accuracy_score(y_test_class, y_pred_tree)\n",
        "\n",
        "print(\"Decision Tree (Model 2) Accuracy:\", tree_acc)\n",
        "print(\"\\nDecision Tree Report:\\n\", classification_report(y_test_class, y_pred_tree))"
      ],
      "metadata": {
        "id": "Qis-o0LyWkuc",
        "colab": {
          "base_uri": "https://localhost:8080/"
        },
        "outputId": "3baf14f5-f9b4-40f9-ac3c-f7a623170401"
      },
      "execution_count": 79,
      "outputs": [
        {
          "output_type": "stream",
          "name": "stdout",
          "text": [
            "Decision Tree (Model 2) Accuracy: 0.93875\n",
            "\n",
            "Decision Tree Report:\n",
            "               precision    recall  f1-score   support\n",
            "\n",
            "           0       0.94      0.93      0.94       781\n",
            "           1       0.94      0.95      0.94       819\n",
            "\n",
            "    accuracy                           0.94      1600\n",
            "   macro avg       0.94      0.94      0.94      1600\n",
            "weighted avg       0.94      0.94      0.94      1600\n",
            "\n"
          ]
        }
      ]
    },
    {
      "cell_type": "markdown",
      "source": [
        "The Decision Tree outperforms Logistic Regression on this dataset, since Decision Tree has 93.88% accuracy , while Logistic Regression has 87.94% accuracy but before fully trusting it, we should tune hyperparameters to control overfitting and improve generalization."
      ],
      "metadata": {
        "id": "n4jRklhWPpOT"
      }
    },
    {
      "cell_type": "markdown",
      "source": [
        "##Hyper-Parameter Tuning Using Grid Search"
      ],
      "metadata": {
        "id": "apdVPE4BT_Ay"
      }
    },
    {
      "cell_type": "markdown",
      "source": [
        "**Tuning on Logistic Regression Model**"
      ],
      "metadata": {
        "id": "OQN-U-GOsqt1"
      }
    },
    {
      "cell_type": "code",
      "source": [
        "# Define hyperparameters to tune\n",
        "param_grid = {\n",
        "    'C': [0.01, 0.1, 1, 10, 100],  # Regularization strength\n",
        "    'penalty': ['l1', 'l2'],  # Regularization type\n",
        "    'solver': ['liblinear', 'saga']  # Optimizers that support l1 and l2\n",
        "}\n",
        "\n",
        "# Perform GridSearchCV\n",
        "log_reg = LogisticRegression(max_iter=1000)\n",
        "grid_search = GridSearchCV(log_reg, param_grid, cv=5, scoring='accuracy', n_jobs=-1)\n",
        "grid_search.fit(X_train_class, y_train_class)\n",
        "\n",
        "# Best hyperparameters\n",
        "print(\"Best hyperparameters:\", grid_search.best_params_)\n"
      ],
      "metadata": {
        "id": "kNJscjqvXXIV",
        "colab": {
          "base_uri": "https://localhost:8080/"
        },
        "outputId": "f346ca41-f08d-4c0e-9db0-6f7492aec8bb"
      },
      "execution_count": 80,
      "outputs": [
        {
          "output_type": "stream",
          "name": "stdout",
          "text": [
            "Best hyperparameters: {'C': 0.1, 'penalty': 'l1', 'solver': 'saga'}\n"
          ]
        }
      ]
    },
    {
      "cell_type": "markdown",
      "source": [
        "- C=0.1 means Stronger regularization (prevents overfitting).\n",
        "- penalty='l1' → Lasso regularization (removes unnecessary features).\n",
        "- solver='saga' → Efficient optimization for large datasets with L1 regularization."
      ],
      "metadata": {
        "id": "Nwdr2kmvZ4Pd"
      }
    },
    {
      "cell_type": "markdown",
      "source": [
        "**Tuning on Decision Tree Model**"
      ],
      "metadata": {
        "id": "uz-qJDIVswoo"
      }
    },
    {
      "cell_type": "code",
      "source": [
        "# Define hyperparameter grid\n",
        "param_grid = {\n",
        "    'max_depth': [3, 5, 10, None],       # Limit tree depth\n",
        "    'min_samples_split': [2, 5, 10],     # Minimum samples needed to split\n",
        "    'min_samples_leaf': [1, 2, 5],       # Minimum samples per leaf\n",
        "    'criterion': ['gini', 'entropy']     # Splitting strategy\n",
        "}\n",
        "\n",
        "# Create GridSearchCV object\n",
        "grid_search = GridSearchCV(DecisionTreeClassifier(random_state=42), param_grid, cv=5, scoring='accuracy', n_jobs=-1)\n",
        "\n",
        "# Fit on training data\n",
        "grid_search.fit(X_train_class, y_train_class)\n",
        "\n",
        "# Get best parameters\n",
        "best_params = grid_search.best_params_\n",
        "print(\"Best Hyperparameters for Decision Tree:\", best_params)\n"
      ],
      "metadata": {
        "id": "y54FSNRCZjlT",
        "colab": {
          "base_uri": "https://localhost:8080/"
        },
        "outputId": "6e0b3e89-b9e4-463d-e61c-c504ff0260e2"
      },
      "execution_count": 81,
      "outputs": [
        {
          "output_type": "stream",
          "name": "stdout",
          "text": [
            "Best Hyperparameters for Decision Tree: {'criterion': 'entropy', 'max_depth': 10, 'min_samples_leaf': 1, 'min_samples_split': 2}\n"
          ]
        }
      ]
    },
    {
      "cell_type": "markdown",
      "source": [
        "- criterion='entropy' (Splitting Strategy)\n",
        "This tells the Decision Tree how to decide where to split the data at each node. It uses information gain to split.\n",
        "- max_depth=10\tIt limits tree depth to 10 to prevent overfitting\n",
        "min_samples_leaf=1\tAllows single samples in leaf nodes\n",
        "- min_samples_split=2\tIt allows splitting with just 2 samples\tto ensure that tree finds fine-grained patterns"
      ],
      "metadata": {
        "id": "IO6Ocrxjbm2a"
      }
    },
    {
      "cell_type": "markdown",
      "source": [
        "##Feature Selection"
      ],
      "metadata": {
        "id": "nch_aZ8IdLOg"
      }
    },
    {
      "cell_type": "markdown",
      "source": [
        "**Feature Selection on Logistic Regression Model**"
      ],
      "metadata": {
        "id": "mDNE80QAtSdH"
      }
    },
    {
      "cell_type": "code",
      "source": [
        "# Check the best hyperparameters returned by GridSearchCV\n",
        "print(\"Best Hyperparameters from GridSearchCV:\", grid_search.best_params_)\n",
        "\n",
        "# Initialize Logistic Regression model\n",
        "log_reg = LogisticRegression(max_iter=1000, C=best_params.get('C', 1),\n",
        "                             penalty=best_params.get('penalty', 'l2'),\n",
        "                             solver=best_params.get('solver', 'liblinear'))\n",
        "\n",
        "# Initialize RFE with the model and the number of features to select (e.g., select 5 features)\n",
        "rfe = RFE(log_reg, n_features_to_select=5)\n",
        "rfe.fit(X_train_class, y_train_class)\n",
        "\n",
        "X_train_class = pd.DataFrame(X_train, columns = X.columns)\n",
        "X_test_class = pd.DataFrame(X_test, columns=X.columns)\n",
        "\n",
        "# Get selected features\n",
        "selected_features = X_train_class.columns[rfe.support_]\n",
        "print(\"Selected Features:\", selected_features)\n"
      ],
      "metadata": {
        "id": "fYadLbNSsuDo",
        "colab": {
          "base_uri": "https://localhost:8080/"
        },
        "outputId": "f2fc6c98-05ce-4c10-825e-770b6db6e217"
      },
      "execution_count": 82,
      "outputs": [
        {
          "output_type": "stream",
          "name": "stdout",
          "text": [
            "Best Hyperparameters from GridSearchCV: {'criterion': 'entropy', 'max_depth': 10, 'min_samples_leaf': 1, 'min_samples_split': 2}\n",
            "Selected Features: Index(['Size', 'Weight', 'Sweetness', 'HarvestTime', 'Ripeness'], dtype='object')\n"
          ]
        }
      ]
    },
    {
      "cell_type": "markdown",
      "source": [
        "**Feature Selection on Decision Tree Model**"
      ],
      "metadata": {
        "id": "nK0ZS5Gttr29"
      }
    },
    {
      "cell_type": "code",
      "source": [
        "# Use the best hyperparameters from grid search\n",
        "best_params = grid_search.best_params_\n",
        "\n",
        "# Initialize the Decision Tree model with the best parameters\n",
        "tree_clf = DecisionTreeClassifier(random_state=42,\n",
        "                                  max_depth=best_params['max_depth'],\n",
        "                                  min_samples_split=best_params['min_samples_split'],\n",
        "                                  min_samples_leaf=best_params['min_samples_leaf'],\n",
        "                                  criterion=best_params['criterion'])\n",
        "\n",
        "# Initialize RFE with the Decision Tree model and number of features to select\n",
        "rfe = RFE(tree_clf, n_features_to_select=5)  # Select top 5 features\n",
        "rfe.fit(X_train_class, y_train_class)\n",
        "\n",
        "# Get the selected features based on RFE\n",
        "selected_features = X_train_class.columns[rfe.support_]\n",
        "print(\"Selected Features:\", selected_features)\n"
      ],
      "metadata": {
        "id": "_e9viKrOoIvY",
        "colab": {
          "base_uri": "https://localhost:8080/"
        },
        "outputId": "46e33dc1-98cc-401b-8c87-16d17a282641"
      },
      "execution_count": 83,
      "outputs": [
        {
          "output_type": "stream",
          "name": "stdout",
          "text": [
            "Selected Features: Index(['Size', 'Weight', 'Softness', 'Ripeness', 'Acidity'], dtype='object')\n"
          ]
        }
      ]
    },
    {
      "cell_type": "markdown",
      "source": [
        "## Final Model"
      ],
      "metadata": {
        "id": "s9YmXTE4uzVz"
      }
    },
    {
      "cell_type": "markdown",
      "source": [
        "**Loistic regression Final Model**"
      ],
      "metadata": {
        "id": "198LESMgt2QQ"
      }
    },
    {
      "cell_type": "code",
      "source": [
        "# Rebuild Logistic Regression model using best hyperparameters\n",
        "best_log_reg_params = grid_search.best_params_\n",
        "\n",
        "log_reg_final = LogisticRegression(max_iter=1000,\n",
        "                                   C=best_log_reg_params.get('C', 1),\n",
        "                                   penalty=best_log_reg_params.get('penalty', 'l2'),\n",
        "                                   solver=best_log_reg_params.get('solver', 'liblinear'))\n",
        "\n",
        "# Train on selected features\n",
        "log_reg_final.fit(X_train_class[selected_features], y_train_class)\n",
        "\n",
        "# Make predictions\n",
        "y_pred_log_reg = log_reg_final.predict(X_test_class[selected_features])\n",
        "\n",
        "# Evaluate the model\n",
        "log_reg_acc = accuracy_score(y_test_class, y_pred_log_reg)\n",
        "print(\"Logistic Regression Final Model Accuracy:\", log_reg_acc)\n",
        "print(\"\\nLogistic Regression Final Model Report:\\n\", classification_report(y_test_class, y_pred_log_reg))\n"
      ],
      "metadata": {
        "id": "wCgtduLJu_Uq",
        "colab": {
          "base_uri": "https://localhost:8080/"
        },
        "outputId": "55cb43ee-3152-4ec8-b6d5-4eae197fd0b6"
      },
      "execution_count": 84,
      "outputs": [
        {
          "output_type": "stream",
          "name": "stdout",
          "text": [
            "Logistic Regression Final Model Accuracy: 0.481875\n",
            "\n",
            "Logistic Regression Final Model Report:\n",
            "               precision    recall  f1-score   support\n",
            "\n",
            "           0       0.47      0.52      0.50       781\n",
            "           1       0.49      0.44      0.47       819\n",
            "\n",
            "    accuracy                           0.48      1600\n",
            "   macro avg       0.48      0.48      0.48      1600\n",
            "weighted avg       0.48      0.48      0.48      1600\n",
            "\n"
          ]
        }
      ]
    },
    {
      "cell_type": "markdown",
      "source": [
        "**Decision Tree Final Model**"
      ],
      "metadata": {
        "id": "uPECNT8vuC0b"
      }
    },
    {
      "cell_type": "code",
      "source": [
        "# Rebuild Decision Tree model using best hyperparameters\n",
        "tree_final = DecisionTreeClassifier(random_state=42,\n",
        "                                    max_depth=best_params['max_depth'],\n",
        "                                    min_samples_split=best_params['min_samples_split'],\n",
        "                                    min_samples_leaf=best_params['min_samples_leaf'],\n",
        "                                    criterion=best_params['criterion'])\n",
        "\n",
        "# Train on selected features\n",
        "tree_final.fit(X_train_class[selected_features], y_train_class)\n",
        "\n",
        "# Make predictions\n",
        "y_pred_tree_final = tree_final.predict(X_test_class[selected_features])\n",
        "\n",
        "# Evaluate the model\n",
        "tree_acc_final = accuracy_score(y_test_class, y_pred_tree_final)\n",
        "print(\"Decision Tree Final Model Accuracy:\", tree_acc_final)\n",
        "print(\"\\nDecision Tree Final Model Report:\\n\", classification_report(y_test_class, y_pred_tree_final))\n"
      ],
      "metadata": {
        "id": "zQUM_iY1vEIs",
        "colab": {
          "base_uri": "https://localhost:8080/"
        },
        "outputId": "f259fec0-f350-4c3e-d3d8-6797c57bcad5"
      },
      "execution_count": 85,
      "outputs": [
        {
          "output_type": "stream",
          "name": "stdout",
          "text": [
            "Decision Tree Final Model Accuracy: 0.51\n",
            "\n",
            "Decision Tree Final Model Report:\n",
            "               precision    recall  f1-score   support\n",
            "\n",
            "           0       0.50      0.31      0.38       781\n",
            "           1       0.52      0.70      0.59       819\n",
            "\n",
            "    accuracy                           0.51      1600\n",
            "   macro avg       0.51      0.51      0.49      1600\n",
            "weighted avg       0.51      0.51      0.49      1600\n",
            "\n"
          ]
        }
      ]
    },
    {
      "cell_type": "markdown",
      "source": [
        "**Conclusion**"
      ],
      "metadata": {
        "id": "rhJWVlnZ3IMF"
      }
    },
    {
      "cell_type": "markdown",
      "source": [
        "**Model Performance :**\n",
        "Here both models have performed poorly, their performance has reduced significantly from  (87.9% for Logistic Regression and 93.9% for Decision Tree) to with accuracy scores of 48.2% and 51%.\n",
        "Precision, recall, and F1-scores also reflect the poor predictive power.The Decision Tree model slightly favors class 1(GOOD), with a recall of 0.70 while doing poorly on the classification for class 0(BAD), which had a recall of 0.31. This means both models generalize poorly to unseen data."
      ],
      "metadata": {
        "id": "pbG_8nKa3H8-"
      }
    },
    {
      "cell_type": "markdown",
      "source": [
        " Impact of Methods : Here the methods used were Cross-Validation and Feature Selection  which are generally used in order to make these methods are generally used to enhance generalization and prevent overfitting,\n",
        "\n",
        "\n",
        "  Insights and Future Directions : This experiment highlights the importance of careful feature selection and preprocessing, balanced datasets, and fine-tuning hyperparameters for better model performance.\n",
        "\n",
        "  One key insight is that while Decision Trees tend to overfit without regularization, Logistic Regression struggles with non-linear relationships, which might explain the poor results.Applying better feature engineering to extract meaningful patterns from the data.Using ensemble methods like Random Forest or Gradient Boosting to improve robustness."
      ],
      "metadata": {
        "id": "q133WcNvrT_Z"
      }
    },
    {
      "cell_type": "markdown",
      "source": [
        "#Regresssion Task\n"
      ],
      "metadata": {
        "id": "F3NxMq9UX1Q4"
      }
    },
    {
      "cell_type": "markdown",
      "source": [
        "##Detailed Description Of Dataset"
      ],
      "metadata": {
        "id": "rW5KpBfqRKl0"
      }
    },
    {
      "cell_type": "markdown",
      "source": [
        "**Selection of Dataset :**\n",
        "\n",
        "The loaded dataset is of Banana Quality that aligns with the UNSDG Goal 12: Responsible Consumption and Production.\n",
        "\n",
        "a) When and by whom was the dataset created?\n",
        "- This dataset was created by l3LlFF who is an dataset expert. However a precise information on the creater and his background can not be analyzed properly.\n",
        "\n",
        "b) How did you access the dataset?\n",
        "\n",
        "I accessed this dataset from Kaggle, world's largest data science community and a platform for data science competitions, resources and tools.\n",
        "\n",
        "c) How does it align with the chosen UNSDG?\n",
        "- This dataset is of Banana Quality that aligns with the UNSDG Goal 12: Responsible Consumption and Production.\n",
        "\n",
        "d) List all the attributes (columns) present in the dataset.\n",
        "\n",
        "Size - size of banana\n",
        "\n",
        "Weight - weight of banana\n",
        "\n",
        "Sweetness - sweetness of banana\n",
        "\n",
        "Softness - softness of banana\n",
        "\n",
        "HarvestTime - amount of time passed from harvesting of the banana\n",
        "\n",
        "Ripeness - ripness of banana\n",
        "\n",
        "Acidity - acidity of banana\n",
        "\n",
        "Quality - quality of banana\n",
        "\n",
        "e) Identify potential questions that the dataset could help answer.\n",
        " - Using regression analysis, can we develop a model that accurately predicts acidity based on features like Size, Weight, Sweetness, Softness, Harvest Time, and Ripeness?"
      ],
      "metadata": {
        "id": "F0aDUd_qRHYo"
      }
    },
    {
      "cell_type": "code",
      "source": [
        "data = pd.read_csv('/content/drive/MyDrive/Concepts and Tech. of AI/Assessment/banana_quality.csv')\n",
        "dt = pd.DataFrame(data)\n",
        "dt.head()"
      ],
      "metadata": {
        "colab": {
          "base_uri": "https://localhost:8080/",
          "height": 206
        },
        "id": "BVWoFaGwPqk4",
        "outputId": "07dff774-0631-4d76-d976-16f2ec00de99"
      },
      "execution_count": 86,
      "outputs": [
        {
          "output_type": "execute_result",
          "data": {
            "text/plain": [
              "       Size    Weight  Sweetness  Softness  HarvestTime  Ripeness   Acidity  \\\n",
              "0 -1.924968  0.468078   3.077832 -1.472177     0.294799  2.435570  0.271290   \n",
              "1 -2.409751  0.486870   0.346921 -2.495099    -0.892213  2.067549  0.307325   \n",
              "2 -0.357607  1.483176   1.568452 -2.645145    -0.647267  3.090643  1.427322   \n",
              "3 -0.868524  1.566201   1.889605 -1.273761    -1.006278  1.873001  0.477862   \n",
              "4  0.651825  1.319199  -0.022459 -1.209709    -1.430692  1.078345  2.812442   \n",
              "\n",
              "  Quality  \n",
              "0    Good  \n",
              "1    Good  \n",
              "2    Good  \n",
              "3    Good  \n",
              "4    Good  "
            ],
            "text/html": [
              "\n",
              "  <div id=\"df-60037afd-cf87-4a73-b38e-cd2a94b2375b\" class=\"colab-df-container\">\n",
              "    <div>\n",
              "<style scoped>\n",
              "    .dataframe tbody tr th:only-of-type {\n",
              "        vertical-align: middle;\n",
              "    }\n",
              "\n",
              "    .dataframe tbody tr th {\n",
              "        vertical-align: top;\n",
              "    }\n",
              "\n",
              "    .dataframe thead th {\n",
              "        text-align: right;\n",
              "    }\n",
              "</style>\n",
              "<table border=\"1\" class=\"dataframe\">\n",
              "  <thead>\n",
              "    <tr style=\"text-align: right;\">\n",
              "      <th></th>\n",
              "      <th>Size</th>\n",
              "      <th>Weight</th>\n",
              "      <th>Sweetness</th>\n",
              "      <th>Softness</th>\n",
              "      <th>HarvestTime</th>\n",
              "      <th>Ripeness</th>\n",
              "      <th>Acidity</th>\n",
              "      <th>Quality</th>\n",
              "    </tr>\n",
              "  </thead>\n",
              "  <tbody>\n",
              "    <tr>\n",
              "      <th>0</th>\n",
              "      <td>-1.924968</td>\n",
              "      <td>0.468078</td>\n",
              "      <td>3.077832</td>\n",
              "      <td>-1.472177</td>\n",
              "      <td>0.294799</td>\n",
              "      <td>2.435570</td>\n",
              "      <td>0.271290</td>\n",
              "      <td>Good</td>\n",
              "    </tr>\n",
              "    <tr>\n",
              "      <th>1</th>\n",
              "      <td>-2.409751</td>\n",
              "      <td>0.486870</td>\n",
              "      <td>0.346921</td>\n",
              "      <td>-2.495099</td>\n",
              "      <td>-0.892213</td>\n",
              "      <td>2.067549</td>\n",
              "      <td>0.307325</td>\n",
              "      <td>Good</td>\n",
              "    </tr>\n",
              "    <tr>\n",
              "      <th>2</th>\n",
              "      <td>-0.357607</td>\n",
              "      <td>1.483176</td>\n",
              "      <td>1.568452</td>\n",
              "      <td>-2.645145</td>\n",
              "      <td>-0.647267</td>\n",
              "      <td>3.090643</td>\n",
              "      <td>1.427322</td>\n",
              "      <td>Good</td>\n",
              "    </tr>\n",
              "    <tr>\n",
              "      <th>3</th>\n",
              "      <td>-0.868524</td>\n",
              "      <td>1.566201</td>\n",
              "      <td>1.889605</td>\n",
              "      <td>-1.273761</td>\n",
              "      <td>-1.006278</td>\n",
              "      <td>1.873001</td>\n",
              "      <td>0.477862</td>\n",
              "      <td>Good</td>\n",
              "    </tr>\n",
              "    <tr>\n",
              "      <th>4</th>\n",
              "      <td>0.651825</td>\n",
              "      <td>1.319199</td>\n",
              "      <td>-0.022459</td>\n",
              "      <td>-1.209709</td>\n",
              "      <td>-1.430692</td>\n",
              "      <td>1.078345</td>\n",
              "      <td>2.812442</td>\n",
              "      <td>Good</td>\n",
              "    </tr>\n",
              "  </tbody>\n",
              "</table>\n",
              "</div>\n",
              "    <div class=\"colab-df-buttons\">\n",
              "\n",
              "  <div class=\"colab-df-container\">\n",
              "    <button class=\"colab-df-convert\" onclick=\"convertToInteractive('df-60037afd-cf87-4a73-b38e-cd2a94b2375b')\"\n",
              "            title=\"Convert this dataframe to an interactive table.\"\n",
              "            style=\"display:none;\">\n",
              "\n",
              "  <svg xmlns=\"http://www.w3.org/2000/svg\" height=\"24px\" viewBox=\"0 -960 960 960\">\n",
              "    <path d=\"M120-120v-720h720v720H120Zm60-500h600v-160H180v160Zm220 220h160v-160H400v160Zm0 220h160v-160H400v160ZM180-400h160v-160H180v160Zm440 0h160v-160H620v160ZM180-180h160v-160H180v160Zm440 0h160v-160H620v160Z\"/>\n",
              "  </svg>\n",
              "    </button>\n",
              "\n",
              "  <style>\n",
              "    .colab-df-container {\n",
              "      display:flex;\n",
              "      gap: 12px;\n",
              "    }\n",
              "\n",
              "    .colab-df-convert {\n",
              "      background-color: #E8F0FE;\n",
              "      border: none;\n",
              "      border-radius: 50%;\n",
              "      cursor: pointer;\n",
              "      display: none;\n",
              "      fill: #1967D2;\n",
              "      height: 32px;\n",
              "      padding: 0 0 0 0;\n",
              "      width: 32px;\n",
              "    }\n",
              "\n",
              "    .colab-df-convert:hover {\n",
              "      background-color: #E2EBFA;\n",
              "      box-shadow: 0px 1px 2px rgba(60, 64, 67, 0.3), 0px 1px 3px 1px rgba(60, 64, 67, 0.15);\n",
              "      fill: #174EA6;\n",
              "    }\n",
              "\n",
              "    .colab-df-buttons div {\n",
              "      margin-bottom: 4px;\n",
              "    }\n",
              "\n",
              "    [theme=dark] .colab-df-convert {\n",
              "      background-color: #3B4455;\n",
              "      fill: #D2E3FC;\n",
              "    }\n",
              "\n",
              "    [theme=dark] .colab-df-convert:hover {\n",
              "      background-color: #434B5C;\n",
              "      box-shadow: 0px 1px 3px 1px rgba(0, 0, 0, 0.15);\n",
              "      filter: drop-shadow(0px 1px 2px rgba(0, 0, 0, 0.3));\n",
              "      fill: #FFFFFF;\n",
              "    }\n",
              "  </style>\n",
              "\n",
              "    <script>\n",
              "      const buttonEl =\n",
              "        document.querySelector('#df-60037afd-cf87-4a73-b38e-cd2a94b2375b button.colab-df-convert');\n",
              "      buttonEl.style.display =\n",
              "        google.colab.kernel.accessAllowed ? 'block' : 'none';\n",
              "\n",
              "      async function convertToInteractive(key) {\n",
              "        const element = document.querySelector('#df-60037afd-cf87-4a73-b38e-cd2a94b2375b');\n",
              "        const dataTable =\n",
              "          await google.colab.kernel.invokeFunction('convertToInteractive',\n",
              "                                                    [key], {});\n",
              "        if (!dataTable) return;\n",
              "\n",
              "        const docLinkHtml = 'Like what you see? Visit the ' +\n",
              "          '<a target=\"_blank\" href=https://colab.research.google.com/notebooks/data_table.ipynb>data table notebook</a>'\n",
              "          + ' to learn more about interactive tables.';\n",
              "        element.innerHTML = '';\n",
              "        dataTable['output_type'] = 'display_data';\n",
              "        await google.colab.output.renderOutput(dataTable, element);\n",
              "        const docLink = document.createElement('div');\n",
              "        docLink.innerHTML = docLinkHtml;\n",
              "        element.appendChild(docLink);\n",
              "      }\n",
              "    </script>\n",
              "  </div>\n",
              "\n",
              "\n",
              "<div id=\"df-dbacd543-41f7-4c80-8951-7251e641c112\">\n",
              "  <button class=\"colab-df-quickchart\" onclick=\"quickchart('df-dbacd543-41f7-4c80-8951-7251e641c112')\"\n",
              "            title=\"Suggest charts\"\n",
              "            style=\"display:none;\">\n",
              "\n",
              "<svg xmlns=\"http://www.w3.org/2000/svg\" height=\"24px\"viewBox=\"0 0 24 24\"\n",
              "     width=\"24px\">\n",
              "    <g>\n",
              "        <path d=\"M19 3H5c-1.1 0-2 .9-2 2v14c0 1.1.9 2 2 2h14c1.1 0 2-.9 2-2V5c0-1.1-.9-2-2-2zM9 17H7v-7h2v7zm4 0h-2V7h2v10zm4 0h-2v-4h2v4z\"/>\n",
              "    </g>\n",
              "</svg>\n",
              "  </button>\n",
              "\n",
              "<style>\n",
              "  .colab-df-quickchart {\n",
              "      --bg-color: #E8F0FE;\n",
              "      --fill-color: #1967D2;\n",
              "      --hover-bg-color: #E2EBFA;\n",
              "      --hover-fill-color: #174EA6;\n",
              "      --disabled-fill-color: #AAA;\n",
              "      --disabled-bg-color: #DDD;\n",
              "  }\n",
              "\n",
              "  [theme=dark] .colab-df-quickchart {\n",
              "      --bg-color: #3B4455;\n",
              "      --fill-color: #D2E3FC;\n",
              "      --hover-bg-color: #434B5C;\n",
              "      --hover-fill-color: #FFFFFF;\n",
              "      --disabled-bg-color: #3B4455;\n",
              "      --disabled-fill-color: #666;\n",
              "  }\n",
              "\n",
              "  .colab-df-quickchart {\n",
              "    background-color: var(--bg-color);\n",
              "    border: none;\n",
              "    border-radius: 50%;\n",
              "    cursor: pointer;\n",
              "    display: none;\n",
              "    fill: var(--fill-color);\n",
              "    height: 32px;\n",
              "    padding: 0;\n",
              "    width: 32px;\n",
              "  }\n",
              "\n",
              "  .colab-df-quickchart:hover {\n",
              "    background-color: var(--hover-bg-color);\n",
              "    box-shadow: 0 1px 2px rgba(60, 64, 67, 0.3), 0 1px 3px 1px rgba(60, 64, 67, 0.15);\n",
              "    fill: var(--button-hover-fill-color);\n",
              "  }\n",
              "\n",
              "  .colab-df-quickchart-complete:disabled,\n",
              "  .colab-df-quickchart-complete:disabled:hover {\n",
              "    background-color: var(--disabled-bg-color);\n",
              "    fill: var(--disabled-fill-color);\n",
              "    box-shadow: none;\n",
              "  }\n",
              "\n",
              "  .colab-df-spinner {\n",
              "    border: 2px solid var(--fill-color);\n",
              "    border-color: transparent;\n",
              "    border-bottom-color: var(--fill-color);\n",
              "    animation:\n",
              "      spin 1s steps(1) infinite;\n",
              "  }\n",
              "\n",
              "  @keyframes spin {\n",
              "    0% {\n",
              "      border-color: transparent;\n",
              "      border-bottom-color: var(--fill-color);\n",
              "      border-left-color: var(--fill-color);\n",
              "    }\n",
              "    20% {\n",
              "      border-color: transparent;\n",
              "      border-left-color: var(--fill-color);\n",
              "      border-top-color: var(--fill-color);\n",
              "    }\n",
              "    30% {\n",
              "      border-color: transparent;\n",
              "      border-left-color: var(--fill-color);\n",
              "      border-top-color: var(--fill-color);\n",
              "      border-right-color: var(--fill-color);\n",
              "    }\n",
              "    40% {\n",
              "      border-color: transparent;\n",
              "      border-right-color: var(--fill-color);\n",
              "      border-top-color: var(--fill-color);\n",
              "    }\n",
              "    60% {\n",
              "      border-color: transparent;\n",
              "      border-right-color: var(--fill-color);\n",
              "    }\n",
              "    80% {\n",
              "      border-color: transparent;\n",
              "      border-right-color: var(--fill-color);\n",
              "      border-bottom-color: var(--fill-color);\n",
              "    }\n",
              "    90% {\n",
              "      border-color: transparent;\n",
              "      border-bottom-color: var(--fill-color);\n",
              "    }\n",
              "  }\n",
              "</style>\n",
              "\n",
              "  <script>\n",
              "    async function quickchart(key) {\n",
              "      const quickchartButtonEl =\n",
              "        document.querySelector('#' + key + ' button');\n",
              "      quickchartButtonEl.disabled = true;  // To prevent multiple clicks.\n",
              "      quickchartButtonEl.classList.add('colab-df-spinner');\n",
              "      try {\n",
              "        const charts = await google.colab.kernel.invokeFunction(\n",
              "            'suggestCharts', [key], {});\n",
              "      } catch (error) {\n",
              "        console.error('Error during call to suggestCharts:', error);\n",
              "      }\n",
              "      quickchartButtonEl.classList.remove('colab-df-spinner');\n",
              "      quickchartButtonEl.classList.add('colab-df-quickchart-complete');\n",
              "    }\n",
              "    (() => {\n",
              "      let quickchartButtonEl =\n",
              "        document.querySelector('#df-dbacd543-41f7-4c80-8951-7251e641c112 button');\n",
              "      quickchartButtonEl.style.display =\n",
              "        google.colab.kernel.accessAllowed ? 'block' : 'none';\n",
              "    })();\n",
              "  </script>\n",
              "</div>\n",
              "\n",
              "    </div>\n",
              "  </div>\n"
            ],
            "application/vnd.google.colaboratory.intrinsic+json": {
              "type": "dataframe",
              "variable_name": "dt",
              "summary": "{\n  \"name\": \"dt\",\n  \"rows\": 8000,\n  \"fields\": [\n    {\n      \"column\": \"Size\",\n      \"properties\": {\n        \"dtype\": \"number\",\n        \"std\": 2.136022791892043,\n        \"min\": -7.9980736,\n        \"max\": 7.9708004,\n        \"num_unique_values\": 8000,\n        \"samples\": [\n          -1.1823753,\n          -2.1902218,\n          -0.01742254\n        ],\n        \"semantic_type\": \"\",\n        \"description\": \"\"\n      }\n    },\n    {\n      \"column\": \"Weight\",\n      \"properties\": {\n        \"dtype\": \"number\",\n        \"std\": 2.0159342527719275,\n        \"min\": -8.283002,\n        \"max\": 5.679692,\n        \"num_unique_values\": 8000,\n        \"samples\": [\n          -1.5233536,\n          -2.8090863,\n          1.1875557\n        ],\n        \"semantic_type\": \"\",\n        \"description\": \"\"\n      }\n    },\n    {\n      \"column\": \"Sweetness\",\n      \"properties\": {\n        \"dtype\": \"number\",\n        \"std\": 1.9484548834162474,\n        \"min\": -6.4340215,\n        \"max\": 7.539374,\n        \"num_unique_values\": 8000,\n        \"samples\": [\n          -1.3909012,\n          -1.3944167,\n          4.7572994\n        ],\n        \"semantic_type\": \"\",\n        \"description\": \"\"\n      }\n    },\n    {\n      \"column\": \"Softness\",\n      \"properties\": {\n        \"dtype\": \"number\",\n        \"std\": 2.065215944309168,\n        \"min\": -6.9593196,\n        \"max\": 8.241555,\n        \"num_unique_values\": 8000,\n        \"samples\": [\n          -0.850838,\n          2.6063178,\n          1.0700845\n        ],\n        \"semantic_type\": \"\",\n        \"description\": \"\"\n      }\n    },\n    {\n      \"column\": \"HarvestTime\",\n      \"properties\": {\n        \"dtype\": \"number\",\n        \"std\": 1.9966607874097047,\n        \"min\": -7.5700083,\n        \"max\": 6.29328,\n        \"num_unique_values\": 8000,\n        \"samples\": [\n          -0.13659394,\n          -0.016427217,\n          -2.5047512\n        ],\n        \"semantic_type\": \"\",\n        \"description\": \"\"\n      }\n    },\n    {\n      \"column\": \"Ripeness\",\n      \"properties\": {\n        \"dtype\": \"number\",\n        \"std\": 2.11428937214284,\n        \"min\": -7.4231553,\n        \"max\": 7.2490335,\n        \"num_unique_values\": 8000,\n        \"samples\": [\n          2.3312151,\n          5.5374675,\n          -1.0434868\n        ],\n        \"semantic_type\": \"\",\n        \"description\": \"\"\n      }\n    },\n    {\n      \"column\": \"Acidity\",\n      \"properties\": {\n        \"dtype\": \"number\",\n        \"std\": 2.2934666385409743,\n        \"min\": -8.226977,\n        \"max\": 7.4116335,\n        \"num_unique_values\": 8000,\n        \"samples\": [\n          -1.8286724,\n          -4.9408426,\n          2.5416763\n        ],\n        \"semantic_type\": \"\",\n        \"description\": \"\"\n      }\n    },\n    {\n      \"column\": \"Quality\",\n      \"properties\": {\n        \"dtype\": \"category\",\n        \"num_unique_values\": 2,\n        \"samples\": [\n          \"Bad\",\n          \"Good\"\n        ],\n        \"semantic_type\": \"\",\n        \"description\": \"\"\n      }\n    }\n  ]\n}"
            }
          },
          "metadata": {},
          "execution_count": 86
        }
      ]
    },
    {
      "cell_type": "code",
      "source": [
        "dt.tail()"
      ],
      "metadata": {
        "colab": {
          "base_uri": "https://localhost:8080/",
          "height": 206
        },
        "id": "_7hfIIkSTjEm",
        "outputId": "c00d1755-9891-45b8-d292-cbbb657f0de7"
      },
      "execution_count": 87,
      "outputs": [
        {
          "output_type": "execute_result",
          "data": {
            "text/plain": [
              "          Size    Weight  Sweetness  Softness  HarvestTime  Ripeness  \\\n",
              "7995 -6.414403  0.723565   1.134953  2.952763     0.297928 -0.156946   \n",
              "7996  0.851143 -2.217875  -2.812175  0.489249    -1.323410 -2.316883   \n",
              "7997  1.422722 -1.907665  -2.532364  0.964976    -0.562375 -1.834765   \n",
              "7998 -2.131904 -2.742600  -1.008029  2.126946    -0.802632 -3.580266   \n",
              "7999 -2.660879 -2.044666   0.159026  1.499706    -1.581856 -1.605859   \n",
              "\n",
              "       Acidity Quality  \n",
              "7995  2.398091     Bad  \n",
              "7996  2.113136     Bad  \n",
              "7997  0.697361     Bad  \n",
              "7998  0.423569     Bad  \n",
              "7999  1.435644     Bad  "
            ],
            "text/html": [
              "\n",
              "  <div id=\"df-427f1dc5-a6c6-4b70-8598-7d4daa9a6210\" class=\"colab-df-container\">\n",
              "    <div>\n",
              "<style scoped>\n",
              "    .dataframe tbody tr th:only-of-type {\n",
              "        vertical-align: middle;\n",
              "    }\n",
              "\n",
              "    .dataframe tbody tr th {\n",
              "        vertical-align: top;\n",
              "    }\n",
              "\n",
              "    .dataframe thead th {\n",
              "        text-align: right;\n",
              "    }\n",
              "</style>\n",
              "<table border=\"1\" class=\"dataframe\">\n",
              "  <thead>\n",
              "    <tr style=\"text-align: right;\">\n",
              "      <th></th>\n",
              "      <th>Size</th>\n",
              "      <th>Weight</th>\n",
              "      <th>Sweetness</th>\n",
              "      <th>Softness</th>\n",
              "      <th>HarvestTime</th>\n",
              "      <th>Ripeness</th>\n",
              "      <th>Acidity</th>\n",
              "      <th>Quality</th>\n",
              "    </tr>\n",
              "  </thead>\n",
              "  <tbody>\n",
              "    <tr>\n",
              "      <th>7995</th>\n",
              "      <td>-6.414403</td>\n",
              "      <td>0.723565</td>\n",
              "      <td>1.134953</td>\n",
              "      <td>2.952763</td>\n",
              "      <td>0.297928</td>\n",
              "      <td>-0.156946</td>\n",
              "      <td>2.398091</td>\n",
              "      <td>Bad</td>\n",
              "    </tr>\n",
              "    <tr>\n",
              "      <th>7996</th>\n",
              "      <td>0.851143</td>\n",
              "      <td>-2.217875</td>\n",
              "      <td>-2.812175</td>\n",
              "      <td>0.489249</td>\n",
              "      <td>-1.323410</td>\n",
              "      <td>-2.316883</td>\n",
              "      <td>2.113136</td>\n",
              "      <td>Bad</td>\n",
              "    </tr>\n",
              "    <tr>\n",
              "      <th>7997</th>\n",
              "      <td>1.422722</td>\n",
              "      <td>-1.907665</td>\n",
              "      <td>-2.532364</td>\n",
              "      <td>0.964976</td>\n",
              "      <td>-0.562375</td>\n",
              "      <td>-1.834765</td>\n",
              "      <td>0.697361</td>\n",
              "      <td>Bad</td>\n",
              "    </tr>\n",
              "    <tr>\n",
              "      <th>7998</th>\n",
              "      <td>-2.131904</td>\n",
              "      <td>-2.742600</td>\n",
              "      <td>-1.008029</td>\n",
              "      <td>2.126946</td>\n",
              "      <td>-0.802632</td>\n",
              "      <td>-3.580266</td>\n",
              "      <td>0.423569</td>\n",
              "      <td>Bad</td>\n",
              "    </tr>\n",
              "    <tr>\n",
              "      <th>7999</th>\n",
              "      <td>-2.660879</td>\n",
              "      <td>-2.044666</td>\n",
              "      <td>0.159026</td>\n",
              "      <td>1.499706</td>\n",
              "      <td>-1.581856</td>\n",
              "      <td>-1.605859</td>\n",
              "      <td>1.435644</td>\n",
              "      <td>Bad</td>\n",
              "    </tr>\n",
              "  </tbody>\n",
              "</table>\n",
              "</div>\n",
              "    <div class=\"colab-df-buttons\">\n",
              "\n",
              "  <div class=\"colab-df-container\">\n",
              "    <button class=\"colab-df-convert\" onclick=\"convertToInteractive('df-427f1dc5-a6c6-4b70-8598-7d4daa9a6210')\"\n",
              "            title=\"Convert this dataframe to an interactive table.\"\n",
              "            style=\"display:none;\">\n",
              "\n",
              "  <svg xmlns=\"http://www.w3.org/2000/svg\" height=\"24px\" viewBox=\"0 -960 960 960\">\n",
              "    <path d=\"M120-120v-720h720v720H120Zm60-500h600v-160H180v160Zm220 220h160v-160H400v160Zm0 220h160v-160H400v160ZM180-400h160v-160H180v160Zm440 0h160v-160H620v160ZM180-180h160v-160H180v160Zm440 0h160v-160H620v160Z\"/>\n",
              "  </svg>\n",
              "    </button>\n",
              "\n",
              "  <style>\n",
              "    .colab-df-container {\n",
              "      display:flex;\n",
              "      gap: 12px;\n",
              "    }\n",
              "\n",
              "    .colab-df-convert {\n",
              "      background-color: #E8F0FE;\n",
              "      border: none;\n",
              "      border-radius: 50%;\n",
              "      cursor: pointer;\n",
              "      display: none;\n",
              "      fill: #1967D2;\n",
              "      height: 32px;\n",
              "      padding: 0 0 0 0;\n",
              "      width: 32px;\n",
              "    }\n",
              "\n",
              "    .colab-df-convert:hover {\n",
              "      background-color: #E2EBFA;\n",
              "      box-shadow: 0px 1px 2px rgba(60, 64, 67, 0.3), 0px 1px 3px 1px rgba(60, 64, 67, 0.15);\n",
              "      fill: #174EA6;\n",
              "    }\n",
              "\n",
              "    .colab-df-buttons div {\n",
              "      margin-bottom: 4px;\n",
              "    }\n",
              "\n",
              "    [theme=dark] .colab-df-convert {\n",
              "      background-color: #3B4455;\n",
              "      fill: #D2E3FC;\n",
              "    }\n",
              "\n",
              "    [theme=dark] .colab-df-convert:hover {\n",
              "      background-color: #434B5C;\n",
              "      box-shadow: 0px 1px 3px 1px rgba(0, 0, 0, 0.15);\n",
              "      filter: drop-shadow(0px 1px 2px rgba(0, 0, 0, 0.3));\n",
              "      fill: #FFFFFF;\n",
              "    }\n",
              "  </style>\n",
              "\n",
              "    <script>\n",
              "      const buttonEl =\n",
              "        document.querySelector('#df-427f1dc5-a6c6-4b70-8598-7d4daa9a6210 button.colab-df-convert');\n",
              "      buttonEl.style.display =\n",
              "        google.colab.kernel.accessAllowed ? 'block' : 'none';\n",
              "\n",
              "      async function convertToInteractive(key) {\n",
              "        const element = document.querySelector('#df-427f1dc5-a6c6-4b70-8598-7d4daa9a6210');\n",
              "        const dataTable =\n",
              "          await google.colab.kernel.invokeFunction('convertToInteractive',\n",
              "                                                    [key], {});\n",
              "        if (!dataTable) return;\n",
              "\n",
              "        const docLinkHtml = 'Like what you see? Visit the ' +\n",
              "          '<a target=\"_blank\" href=https://colab.research.google.com/notebooks/data_table.ipynb>data table notebook</a>'\n",
              "          + ' to learn more about interactive tables.';\n",
              "        element.innerHTML = '';\n",
              "        dataTable['output_type'] = 'display_data';\n",
              "        await google.colab.output.renderOutput(dataTable, element);\n",
              "        const docLink = document.createElement('div');\n",
              "        docLink.innerHTML = docLinkHtml;\n",
              "        element.appendChild(docLink);\n",
              "      }\n",
              "    </script>\n",
              "  </div>\n",
              "\n",
              "\n",
              "<div id=\"df-4e4905fe-982e-4cf8-98a5-6fa29915e862\">\n",
              "  <button class=\"colab-df-quickchart\" onclick=\"quickchart('df-4e4905fe-982e-4cf8-98a5-6fa29915e862')\"\n",
              "            title=\"Suggest charts\"\n",
              "            style=\"display:none;\">\n",
              "\n",
              "<svg xmlns=\"http://www.w3.org/2000/svg\" height=\"24px\"viewBox=\"0 0 24 24\"\n",
              "     width=\"24px\">\n",
              "    <g>\n",
              "        <path d=\"M19 3H5c-1.1 0-2 .9-2 2v14c0 1.1.9 2 2 2h14c1.1 0 2-.9 2-2V5c0-1.1-.9-2-2-2zM9 17H7v-7h2v7zm4 0h-2V7h2v10zm4 0h-2v-4h2v4z\"/>\n",
              "    </g>\n",
              "</svg>\n",
              "  </button>\n",
              "\n",
              "<style>\n",
              "  .colab-df-quickchart {\n",
              "      --bg-color: #E8F0FE;\n",
              "      --fill-color: #1967D2;\n",
              "      --hover-bg-color: #E2EBFA;\n",
              "      --hover-fill-color: #174EA6;\n",
              "      --disabled-fill-color: #AAA;\n",
              "      --disabled-bg-color: #DDD;\n",
              "  }\n",
              "\n",
              "  [theme=dark] .colab-df-quickchart {\n",
              "      --bg-color: #3B4455;\n",
              "      --fill-color: #D2E3FC;\n",
              "      --hover-bg-color: #434B5C;\n",
              "      --hover-fill-color: #FFFFFF;\n",
              "      --disabled-bg-color: #3B4455;\n",
              "      --disabled-fill-color: #666;\n",
              "  }\n",
              "\n",
              "  .colab-df-quickchart {\n",
              "    background-color: var(--bg-color);\n",
              "    border: none;\n",
              "    border-radius: 50%;\n",
              "    cursor: pointer;\n",
              "    display: none;\n",
              "    fill: var(--fill-color);\n",
              "    height: 32px;\n",
              "    padding: 0;\n",
              "    width: 32px;\n",
              "  }\n",
              "\n",
              "  .colab-df-quickchart:hover {\n",
              "    background-color: var(--hover-bg-color);\n",
              "    box-shadow: 0 1px 2px rgba(60, 64, 67, 0.3), 0 1px 3px 1px rgba(60, 64, 67, 0.15);\n",
              "    fill: var(--button-hover-fill-color);\n",
              "  }\n",
              "\n",
              "  .colab-df-quickchart-complete:disabled,\n",
              "  .colab-df-quickchart-complete:disabled:hover {\n",
              "    background-color: var(--disabled-bg-color);\n",
              "    fill: var(--disabled-fill-color);\n",
              "    box-shadow: none;\n",
              "  }\n",
              "\n",
              "  .colab-df-spinner {\n",
              "    border: 2px solid var(--fill-color);\n",
              "    border-color: transparent;\n",
              "    border-bottom-color: var(--fill-color);\n",
              "    animation:\n",
              "      spin 1s steps(1) infinite;\n",
              "  }\n",
              "\n",
              "  @keyframes spin {\n",
              "    0% {\n",
              "      border-color: transparent;\n",
              "      border-bottom-color: var(--fill-color);\n",
              "      border-left-color: var(--fill-color);\n",
              "    }\n",
              "    20% {\n",
              "      border-color: transparent;\n",
              "      border-left-color: var(--fill-color);\n",
              "      border-top-color: var(--fill-color);\n",
              "    }\n",
              "    30% {\n",
              "      border-color: transparent;\n",
              "      border-left-color: var(--fill-color);\n",
              "      border-top-color: var(--fill-color);\n",
              "      border-right-color: var(--fill-color);\n",
              "    }\n",
              "    40% {\n",
              "      border-color: transparent;\n",
              "      border-right-color: var(--fill-color);\n",
              "      border-top-color: var(--fill-color);\n",
              "    }\n",
              "    60% {\n",
              "      border-color: transparent;\n",
              "      border-right-color: var(--fill-color);\n",
              "    }\n",
              "    80% {\n",
              "      border-color: transparent;\n",
              "      border-right-color: var(--fill-color);\n",
              "      border-bottom-color: var(--fill-color);\n",
              "    }\n",
              "    90% {\n",
              "      border-color: transparent;\n",
              "      border-bottom-color: var(--fill-color);\n",
              "    }\n",
              "  }\n",
              "</style>\n",
              "\n",
              "  <script>\n",
              "    async function quickchart(key) {\n",
              "      const quickchartButtonEl =\n",
              "        document.querySelector('#' + key + ' button');\n",
              "      quickchartButtonEl.disabled = true;  // To prevent multiple clicks.\n",
              "      quickchartButtonEl.classList.add('colab-df-spinner');\n",
              "      try {\n",
              "        const charts = await google.colab.kernel.invokeFunction(\n",
              "            'suggestCharts', [key], {});\n",
              "      } catch (error) {\n",
              "        console.error('Error during call to suggestCharts:', error);\n",
              "      }\n",
              "      quickchartButtonEl.classList.remove('colab-df-spinner');\n",
              "      quickchartButtonEl.classList.add('colab-df-quickchart-complete');\n",
              "    }\n",
              "    (() => {\n",
              "      let quickchartButtonEl =\n",
              "        document.querySelector('#df-4e4905fe-982e-4cf8-98a5-6fa29915e862 button');\n",
              "      quickchartButtonEl.style.display =\n",
              "        google.colab.kernel.accessAllowed ? 'block' : 'none';\n",
              "    })();\n",
              "  </script>\n",
              "</div>\n",
              "\n",
              "    </div>\n",
              "  </div>\n"
            ],
            "application/vnd.google.colaboratory.intrinsic+json": {
              "type": "dataframe",
              "summary": "{\n  \"name\": \"dt\",\n  \"rows\": 5,\n  \"fields\": [\n    {\n      \"column\": \"Size\",\n      \"properties\": {\n        \"dtype\": \"number\",\n        \"std\": 3.1447418237576263,\n        \"min\": -6.4144034,\n        \"max\": 1.4227225,\n        \"num_unique_values\": 5,\n        \"samples\": [\n          0.85114336,\n          -2.6608794,\n          1.4227225\n        ],\n        \"semantic_type\": \"\",\n        \"description\": \"\"\n      }\n    },\n    {\n      \"column\": \"Weight\",\n      \"properties\": {\n        \"dtype\": \"number\",\n        \"std\": 1.3575235267623589,\n        \"min\": -2.7425997,\n        \"max\": 0.7235648,\n        \"num_unique_values\": 5,\n        \"samples\": [\n          -2.217875,\n          -2.0446665,\n          -1.9076649\n        ],\n        \"semantic_type\": \"\",\n        \"description\": \"\"\n      }\n    },\n    {\n      \"column\": \"Sweetness\",\n      \"properties\": {\n        \"dtype\": \"number\",\n        \"std\": 1.6980033645645283,\n        \"min\": -2.812175,\n        \"max\": 1.1349529,\n        \"num_unique_values\": 5,\n        \"samples\": [\n          -2.812175,\n          0.15902641,\n          -2.532364\n        ],\n        \"semantic_type\": \"\",\n        \"description\": \"\"\n      }\n    },\n    {\n      \"column\": \"Softness\",\n      \"properties\": {\n        \"dtype\": \"number\",\n        \"std\": 0.9688258901294933,\n        \"min\": 0.48924902,\n        \"max\": 2.9527628,\n        \"num_unique_values\": 5,\n        \"samples\": [\n          0.48924902,\n          1.4997064,\n          0.96497643\n        ],\n        \"semantic_type\": \"\",\n        \"description\": \"\"\n      }\n    },\n    {\n      \"column\": \"HarvestTime\",\n      \"properties\": {\n        \"dtype\": \"number\",\n        \"std\": 0.7326359405429586,\n        \"min\": -1.5818563,\n        \"max\": 0.29792762,\n        \"num_unique_values\": 5,\n        \"samples\": [\n          -1.3234099,\n          -1.5818563,\n          -0.5623754\n        ],\n        \"semantic_type\": \"\",\n        \"description\": \"\"\n      }\n    },\n    {\n      \"column\": \"Ripeness\",\n      \"properties\": {\n        \"dtype\": \"number\",\n        \"std\": 1.2375471519212813,\n        \"min\": -3.5802662,\n        \"max\": -0.1569461,\n        \"num_unique_values\": 5,\n        \"samples\": [\n          -2.316883,\n          -1.6058589,\n          -1.8347653\n        ],\n        \"semantic_type\": \"\",\n        \"description\": \"\"\n      }\n    },\n    {\n      \"column\": \"Acidity\",\n      \"properties\": {\n        \"dtype\": \"number\",\n        \"std\": 0.8591012918710412,\n        \"min\": 0.4235689,\n        \"max\": 2.3980913,\n        \"num_unique_values\": 5,\n        \"samples\": [\n          2.1131365,\n          1.4356443,\n          0.6973611\n        ],\n        \"semantic_type\": \"\",\n        \"description\": \"\"\n      }\n    },\n    {\n      \"column\": \"Quality\",\n      \"properties\": {\n        \"dtype\": \"category\",\n        \"num_unique_values\": 1,\n        \"samples\": [\n          \"Bad\"\n        ],\n        \"semantic_type\": \"\",\n        \"description\": \"\"\n      }\n    }\n  ]\n}"
            }
          },
          "metadata": {},
          "execution_count": 87
        }
      ]
    },
    {
      "cell_type": "code",
      "source": [
        "dt.shape"
      ],
      "metadata": {
        "colab": {
          "base_uri": "https://localhost:8080/"
        },
        "id": "kBWlLc89QZQK",
        "outputId": "7df90c33-bece-4862-8adc-cb44ab83c728"
      },
      "execution_count": 88,
      "outputs": [
        {
          "output_type": "execute_result",
          "data": {
            "text/plain": [
              "(8000, 8)"
            ]
          },
          "metadata": {},
          "execution_count": 88
        }
      ]
    },
    {
      "cell_type": "code",
      "source": [
        "dt.info()"
      ],
      "metadata": {
        "colab": {
          "base_uri": "https://localhost:8080/"
        },
        "id": "VzVNQuOpQDYP",
        "outputId": "0a864839-fb6e-46dd-9268-b28b982054aa"
      },
      "execution_count": 89,
      "outputs": [
        {
          "output_type": "stream",
          "name": "stdout",
          "text": [
            "<class 'pandas.core.frame.DataFrame'>\n",
            "RangeIndex: 8000 entries, 0 to 7999\n",
            "Data columns (total 8 columns):\n",
            " #   Column       Non-Null Count  Dtype  \n",
            "---  ------       --------------  -----  \n",
            " 0   Size         8000 non-null   float64\n",
            " 1   Weight       8000 non-null   float64\n",
            " 2   Sweetness    8000 non-null   float64\n",
            " 3   Softness     8000 non-null   float64\n",
            " 4   HarvestTime  8000 non-null   float64\n",
            " 5   Ripeness     8000 non-null   float64\n",
            " 6   Acidity      8000 non-null   float64\n",
            " 7   Quality      8000 non-null   object \n",
            "dtypes: float64(7), object(1)\n",
            "memory usage: 500.1+ KB\n"
          ]
        }
      ]
    },
    {
      "cell_type": "code",
      "source": [
        "dt.dtypes"
      ],
      "metadata": {
        "colab": {
          "base_uri": "https://localhost:8080/",
          "height": 335
        },
        "id": "xJ0AJ36bQKJH",
        "outputId": "6548777d-2e39-4795-94af-d2d797a4bfec"
      },
      "execution_count": 90,
      "outputs": [
        {
          "output_type": "execute_result",
          "data": {
            "text/plain": [
              "Size           float64\n",
              "Weight         float64\n",
              "Sweetness      float64\n",
              "Softness       float64\n",
              "HarvestTime    float64\n",
              "Ripeness       float64\n",
              "Acidity        float64\n",
              "Quality         object\n",
              "dtype: object"
            ],
            "text/html": [
              "<div>\n",
              "<style scoped>\n",
              "    .dataframe tbody tr th:only-of-type {\n",
              "        vertical-align: middle;\n",
              "    }\n",
              "\n",
              "    .dataframe tbody tr th {\n",
              "        vertical-align: top;\n",
              "    }\n",
              "\n",
              "    .dataframe thead th {\n",
              "        text-align: right;\n",
              "    }\n",
              "</style>\n",
              "<table border=\"1\" class=\"dataframe\">\n",
              "  <thead>\n",
              "    <tr style=\"text-align: right;\">\n",
              "      <th></th>\n",
              "      <th>0</th>\n",
              "    </tr>\n",
              "  </thead>\n",
              "  <tbody>\n",
              "    <tr>\n",
              "      <th>Size</th>\n",
              "      <td>float64</td>\n",
              "    </tr>\n",
              "    <tr>\n",
              "      <th>Weight</th>\n",
              "      <td>float64</td>\n",
              "    </tr>\n",
              "    <tr>\n",
              "      <th>Sweetness</th>\n",
              "      <td>float64</td>\n",
              "    </tr>\n",
              "    <tr>\n",
              "      <th>Softness</th>\n",
              "      <td>float64</td>\n",
              "    </tr>\n",
              "    <tr>\n",
              "      <th>HarvestTime</th>\n",
              "      <td>float64</td>\n",
              "    </tr>\n",
              "    <tr>\n",
              "      <th>Ripeness</th>\n",
              "      <td>float64</td>\n",
              "    </tr>\n",
              "    <tr>\n",
              "      <th>Acidity</th>\n",
              "      <td>float64</td>\n",
              "    </tr>\n",
              "    <tr>\n",
              "      <th>Quality</th>\n",
              "      <td>object</td>\n",
              "    </tr>\n",
              "  </tbody>\n",
              "</table>\n",
              "</div><br><label><b>dtype:</b> object</label>"
            ]
          },
          "metadata": {},
          "execution_count": 90
        }
      ]
    },
    {
      "cell_type": "code",
      "source": [
        "dt.duplicated().sum()"
      ],
      "metadata": {
        "colab": {
          "base_uri": "https://localhost:8080/"
        },
        "id": "VYMAYcknQF8h",
        "outputId": "2c4a9d2d-820c-42fa-e92b-33c08564f4b6"
      },
      "execution_count": 91,
      "outputs": [
        {
          "output_type": "execute_result",
          "data": {
            "text/plain": [
              "0"
            ]
          },
          "metadata": {},
          "execution_count": 91
        }
      ]
    },
    {
      "cell_type": "code",
      "source": [
        "dt.isnull().sum()"
      ],
      "metadata": {
        "colab": {
          "base_uri": "https://localhost:8080/",
          "height": 335
        },
        "id": "5kPPs1zjUS2W",
        "outputId": "b779d386-9b30-4fac-fe9d-25928d0793c7"
      },
      "execution_count": 92,
      "outputs": [
        {
          "output_type": "execute_result",
          "data": {
            "text/plain": [
              "Size           0\n",
              "Weight         0\n",
              "Sweetness      0\n",
              "Softness       0\n",
              "HarvestTime    0\n",
              "Ripeness       0\n",
              "Acidity        0\n",
              "Quality        0\n",
              "dtype: int64"
            ],
            "text/html": [
              "<div>\n",
              "<style scoped>\n",
              "    .dataframe tbody tr th:only-of-type {\n",
              "        vertical-align: middle;\n",
              "    }\n",
              "\n",
              "    .dataframe tbody tr th {\n",
              "        vertical-align: top;\n",
              "    }\n",
              "\n",
              "    .dataframe thead th {\n",
              "        text-align: right;\n",
              "    }\n",
              "</style>\n",
              "<table border=\"1\" class=\"dataframe\">\n",
              "  <thead>\n",
              "    <tr style=\"text-align: right;\">\n",
              "      <th></th>\n",
              "      <th>0</th>\n",
              "    </tr>\n",
              "  </thead>\n",
              "  <tbody>\n",
              "    <tr>\n",
              "      <th>Size</th>\n",
              "      <td>0</td>\n",
              "    </tr>\n",
              "    <tr>\n",
              "      <th>Weight</th>\n",
              "      <td>0</td>\n",
              "    </tr>\n",
              "    <tr>\n",
              "      <th>Sweetness</th>\n",
              "      <td>0</td>\n",
              "    </tr>\n",
              "    <tr>\n",
              "      <th>Softness</th>\n",
              "      <td>0</td>\n",
              "    </tr>\n",
              "    <tr>\n",
              "      <th>HarvestTime</th>\n",
              "      <td>0</td>\n",
              "    </tr>\n",
              "    <tr>\n",
              "      <th>Ripeness</th>\n",
              "      <td>0</td>\n",
              "    </tr>\n",
              "    <tr>\n",
              "      <th>Acidity</th>\n",
              "      <td>0</td>\n",
              "    </tr>\n",
              "    <tr>\n",
              "      <th>Quality</th>\n",
              "      <td>0</td>\n",
              "    </tr>\n",
              "  </tbody>\n",
              "</table>\n",
              "</div><br><label><b>dtype:</b> int64</label>"
            ]
          },
          "metadata": {},
          "execution_count": 92
        }
      ]
    },
    {
      "cell_type": "markdown",
      "source": [
        "##Summary Statistics"
      ],
      "metadata": {
        "id": "ZES9yoE2TuJe"
      }
    },
    {
      "cell_type": "code",
      "source": [
        "dt.describe()"
      ],
      "metadata": {
        "colab": {
          "base_uri": "https://localhost:8080/",
          "height": 300
        },
        "id": "0ZGmwg9OQAOP",
        "outputId": "a3d14cf8-07fa-43d1-8a89-c5363acf2d69"
      },
      "execution_count": 93,
      "outputs": [
        {
          "output_type": "execute_result",
          "data": {
            "text/plain": [
              "              Size       Weight    Sweetness     Softness  HarvestTime  \\\n",
              "count  8000.000000  8000.000000  8000.000000  8000.000000  8000.000000   \n",
              "mean     -0.747802    -0.761019    -0.770224    -0.014441    -0.751288   \n",
              "std       2.136023     2.015934     1.948455     2.065216     1.996661   \n",
              "min      -7.998074    -8.283002    -6.434022    -6.959320    -7.570008   \n",
              "25%      -2.277651    -2.223574    -2.107329    -1.590458    -2.120659   \n",
              "50%      -0.897514    -0.868659    -1.020673     0.202644    -0.934192   \n",
              "75%       0.654216     0.775491     0.311048     1.547120     0.507326   \n",
              "max       7.970800     5.679692     7.539374     8.241555     6.293280   \n",
              "\n",
              "          Ripeness      Acidity  \n",
              "count  8000.000000  8000.000000  \n",
              "mean      0.781098     0.008725  \n",
              "std       2.114289     2.293467  \n",
              "min      -7.423155    -8.226977  \n",
              "25%      -0.574226    -1.629450  \n",
              "50%       0.964952     0.098735  \n",
              "75%       2.261650     1.682063  \n",
              "max       7.249034     7.411633  "
            ],
            "text/html": [
              "\n",
              "  <div id=\"df-5dea245e-0548-4c2e-b8c7-b1f225ad0efe\" class=\"colab-df-container\">\n",
              "    <div>\n",
              "<style scoped>\n",
              "    .dataframe tbody tr th:only-of-type {\n",
              "        vertical-align: middle;\n",
              "    }\n",
              "\n",
              "    .dataframe tbody tr th {\n",
              "        vertical-align: top;\n",
              "    }\n",
              "\n",
              "    .dataframe thead th {\n",
              "        text-align: right;\n",
              "    }\n",
              "</style>\n",
              "<table border=\"1\" class=\"dataframe\">\n",
              "  <thead>\n",
              "    <tr style=\"text-align: right;\">\n",
              "      <th></th>\n",
              "      <th>Size</th>\n",
              "      <th>Weight</th>\n",
              "      <th>Sweetness</th>\n",
              "      <th>Softness</th>\n",
              "      <th>HarvestTime</th>\n",
              "      <th>Ripeness</th>\n",
              "      <th>Acidity</th>\n",
              "    </tr>\n",
              "  </thead>\n",
              "  <tbody>\n",
              "    <tr>\n",
              "      <th>count</th>\n",
              "      <td>8000.000000</td>\n",
              "      <td>8000.000000</td>\n",
              "      <td>8000.000000</td>\n",
              "      <td>8000.000000</td>\n",
              "      <td>8000.000000</td>\n",
              "      <td>8000.000000</td>\n",
              "      <td>8000.000000</td>\n",
              "    </tr>\n",
              "    <tr>\n",
              "      <th>mean</th>\n",
              "      <td>-0.747802</td>\n",
              "      <td>-0.761019</td>\n",
              "      <td>-0.770224</td>\n",
              "      <td>-0.014441</td>\n",
              "      <td>-0.751288</td>\n",
              "      <td>0.781098</td>\n",
              "      <td>0.008725</td>\n",
              "    </tr>\n",
              "    <tr>\n",
              "      <th>std</th>\n",
              "      <td>2.136023</td>\n",
              "      <td>2.015934</td>\n",
              "      <td>1.948455</td>\n",
              "      <td>2.065216</td>\n",
              "      <td>1.996661</td>\n",
              "      <td>2.114289</td>\n",
              "      <td>2.293467</td>\n",
              "    </tr>\n",
              "    <tr>\n",
              "      <th>min</th>\n",
              "      <td>-7.998074</td>\n",
              "      <td>-8.283002</td>\n",
              "      <td>-6.434022</td>\n",
              "      <td>-6.959320</td>\n",
              "      <td>-7.570008</td>\n",
              "      <td>-7.423155</td>\n",
              "      <td>-8.226977</td>\n",
              "    </tr>\n",
              "    <tr>\n",
              "      <th>25%</th>\n",
              "      <td>-2.277651</td>\n",
              "      <td>-2.223574</td>\n",
              "      <td>-2.107329</td>\n",
              "      <td>-1.590458</td>\n",
              "      <td>-2.120659</td>\n",
              "      <td>-0.574226</td>\n",
              "      <td>-1.629450</td>\n",
              "    </tr>\n",
              "    <tr>\n",
              "      <th>50%</th>\n",
              "      <td>-0.897514</td>\n",
              "      <td>-0.868659</td>\n",
              "      <td>-1.020673</td>\n",
              "      <td>0.202644</td>\n",
              "      <td>-0.934192</td>\n",
              "      <td>0.964952</td>\n",
              "      <td>0.098735</td>\n",
              "    </tr>\n",
              "    <tr>\n",
              "      <th>75%</th>\n",
              "      <td>0.654216</td>\n",
              "      <td>0.775491</td>\n",
              "      <td>0.311048</td>\n",
              "      <td>1.547120</td>\n",
              "      <td>0.507326</td>\n",
              "      <td>2.261650</td>\n",
              "      <td>1.682063</td>\n",
              "    </tr>\n",
              "    <tr>\n",
              "      <th>max</th>\n",
              "      <td>7.970800</td>\n",
              "      <td>5.679692</td>\n",
              "      <td>7.539374</td>\n",
              "      <td>8.241555</td>\n",
              "      <td>6.293280</td>\n",
              "      <td>7.249034</td>\n",
              "      <td>7.411633</td>\n",
              "    </tr>\n",
              "  </tbody>\n",
              "</table>\n",
              "</div>\n",
              "    <div class=\"colab-df-buttons\">\n",
              "\n",
              "  <div class=\"colab-df-container\">\n",
              "    <button class=\"colab-df-convert\" onclick=\"convertToInteractive('df-5dea245e-0548-4c2e-b8c7-b1f225ad0efe')\"\n",
              "            title=\"Convert this dataframe to an interactive table.\"\n",
              "            style=\"display:none;\">\n",
              "\n",
              "  <svg xmlns=\"http://www.w3.org/2000/svg\" height=\"24px\" viewBox=\"0 -960 960 960\">\n",
              "    <path d=\"M120-120v-720h720v720H120Zm60-500h600v-160H180v160Zm220 220h160v-160H400v160Zm0 220h160v-160H400v160ZM180-400h160v-160H180v160Zm440 0h160v-160H620v160ZM180-180h160v-160H180v160Zm440 0h160v-160H620v160Z\"/>\n",
              "  </svg>\n",
              "    </button>\n",
              "\n",
              "  <style>\n",
              "    .colab-df-container {\n",
              "      display:flex;\n",
              "      gap: 12px;\n",
              "    }\n",
              "\n",
              "    .colab-df-convert {\n",
              "      background-color: #E8F0FE;\n",
              "      border: none;\n",
              "      border-radius: 50%;\n",
              "      cursor: pointer;\n",
              "      display: none;\n",
              "      fill: #1967D2;\n",
              "      height: 32px;\n",
              "      padding: 0 0 0 0;\n",
              "      width: 32px;\n",
              "    }\n",
              "\n",
              "    .colab-df-convert:hover {\n",
              "      background-color: #E2EBFA;\n",
              "      box-shadow: 0px 1px 2px rgba(60, 64, 67, 0.3), 0px 1px 3px 1px rgba(60, 64, 67, 0.15);\n",
              "      fill: #174EA6;\n",
              "    }\n",
              "\n",
              "    .colab-df-buttons div {\n",
              "      margin-bottom: 4px;\n",
              "    }\n",
              "\n",
              "    [theme=dark] .colab-df-convert {\n",
              "      background-color: #3B4455;\n",
              "      fill: #D2E3FC;\n",
              "    }\n",
              "\n",
              "    [theme=dark] .colab-df-convert:hover {\n",
              "      background-color: #434B5C;\n",
              "      box-shadow: 0px 1px 3px 1px rgba(0, 0, 0, 0.15);\n",
              "      filter: drop-shadow(0px 1px 2px rgba(0, 0, 0, 0.3));\n",
              "      fill: #FFFFFF;\n",
              "    }\n",
              "  </style>\n",
              "\n",
              "    <script>\n",
              "      const buttonEl =\n",
              "        document.querySelector('#df-5dea245e-0548-4c2e-b8c7-b1f225ad0efe button.colab-df-convert');\n",
              "      buttonEl.style.display =\n",
              "        google.colab.kernel.accessAllowed ? 'block' : 'none';\n",
              "\n",
              "      async function convertToInteractive(key) {\n",
              "        const element = document.querySelector('#df-5dea245e-0548-4c2e-b8c7-b1f225ad0efe');\n",
              "        const dataTable =\n",
              "          await google.colab.kernel.invokeFunction('convertToInteractive',\n",
              "                                                    [key], {});\n",
              "        if (!dataTable) return;\n",
              "\n",
              "        const docLinkHtml = 'Like what you see? Visit the ' +\n",
              "          '<a target=\"_blank\" href=https://colab.research.google.com/notebooks/data_table.ipynb>data table notebook</a>'\n",
              "          + ' to learn more about interactive tables.';\n",
              "        element.innerHTML = '';\n",
              "        dataTable['output_type'] = 'display_data';\n",
              "        await google.colab.output.renderOutput(dataTable, element);\n",
              "        const docLink = document.createElement('div');\n",
              "        docLink.innerHTML = docLinkHtml;\n",
              "        element.appendChild(docLink);\n",
              "      }\n",
              "    </script>\n",
              "  </div>\n",
              "\n",
              "\n",
              "<div id=\"df-21bef395-5589-4f20-a0ed-f92a6a77b20f\">\n",
              "  <button class=\"colab-df-quickchart\" onclick=\"quickchart('df-21bef395-5589-4f20-a0ed-f92a6a77b20f')\"\n",
              "            title=\"Suggest charts\"\n",
              "            style=\"display:none;\">\n",
              "\n",
              "<svg xmlns=\"http://www.w3.org/2000/svg\" height=\"24px\"viewBox=\"0 0 24 24\"\n",
              "     width=\"24px\">\n",
              "    <g>\n",
              "        <path d=\"M19 3H5c-1.1 0-2 .9-2 2v14c0 1.1.9 2 2 2h14c1.1 0 2-.9 2-2V5c0-1.1-.9-2-2-2zM9 17H7v-7h2v7zm4 0h-2V7h2v10zm4 0h-2v-4h2v4z\"/>\n",
              "    </g>\n",
              "</svg>\n",
              "  </button>\n",
              "\n",
              "<style>\n",
              "  .colab-df-quickchart {\n",
              "      --bg-color: #E8F0FE;\n",
              "      --fill-color: #1967D2;\n",
              "      --hover-bg-color: #E2EBFA;\n",
              "      --hover-fill-color: #174EA6;\n",
              "      --disabled-fill-color: #AAA;\n",
              "      --disabled-bg-color: #DDD;\n",
              "  }\n",
              "\n",
              "  [theme=dark] .colab-df-quickchart {\n",
              "      --bg-color: #3B4455;\n",
              "      --fill-color: #D2E3FC;\n",
              "      --hover-bg-color: #434B5C;\n",
              "      --hover-fill-color: #FFFFFF;\n",
              "      --disabled-bg-color: #3B4455;\n",
              "      --disabled-fill-color: #666;\n",
              "  }\n",
              "\n",
              "  .colab-df-quickchart {\n",
              "    background-color: var(--bg-color);\n",
              "    border: none;\n",
              "    border-radius: 50%;\n",
              "    cursor: pointer;\n",
              "    display: none;\n",
              "    fill: var(--fill-color);\n",
              "    height: 32px;\n",
              "    padding: 0;\n",
              "    width: 32px;\n",
              "  }\n",
              "\n",
              "  .colab-df-quickchart:hover {\n",
              "    background-color: var(--hover-bg-color);\n",
              "    box-shadow: 0 1px 2px rgba(60, 64, 67, 0.3), 0 1px 3px 1px rgba(60, 64, 67, 0.15);\n",
              "    fill: var(--button-hover-fill-color);\n",
              "  }\n",
              "\n",
              "  .colab-df-quickchart-complete:disabled,\n",
              "  .colab-df-quickchart-complete:disabled:hover {\n",
              "    background-color: var(--disabled-bg-color);\n",
              "    fill: var(--disabled-fill-color);\n",
              "    box-shadow: none;\n",
              "  }\n",
              "\n",
              "  .colab-df-spinner {\n",
              "    border: 2px solid var(--fill-color);\n",
              "    border-color: transparent;\n",
              "    border-bottom-color: var(--fill-color);\n",
              "    animation:\n",
              "      spin 1s steps(1) infinite;\n",
              "  }\n",
              "\n",
              "  @keyframes spin {\n",
              "    0% {\n",
              "      border-color: transparent;\n",
              "      border-bottom-color: var(--fill-color);\n",
              "      border-left-color: var(--fill-color);\n",
              "    }\n",
              "    20% {\n",
              "      border-color: transparent;\n",
              "      border-left-color: var(--fill-color);\n",
              "      border-top-color: var(--fill-color);\n",
              "    }\n",
              "    30% {\n",
              "      border-color: transparent;\n",
              "      border-left-color: var(--fill-color);\n",
              "      border-top-color: var(--fill-color);\n",
              "      border-right-color: var(--fill-color);\n",
              "    }\n",
              "    40% {\n",
              "      border-color: transparent;\n",
              "      border-right-color: var(--fill-color);\n",
              "      border-top-color: var(--fill-color);\n",
              "    }\n",
              "    60% {\n",
              "      border-color: transparent;\n",
              "      border-right-color: var(--fill-color);\n",
              "    }\n",
              "    80% {\n",
              "      border-color: transparent;\n",
              "      border-right-color: var(--fill-color);\n",
              "      border-bottom-color: var(--fill-color);\n",
              "    }\n",
              "    90% {\n",
              "      border-color: transparent;\n",
              "      border-bottom-color: var(--fill-color);\n",
              "    }\n",
              "  }\n",
              "</style>\n",
              "\n",
              "  <script>\n",
              "    async function quickchart(key) {\n",
              "      const quickchartButtonEl =\n",
              "        document.querySelector('#' + key + ' button');\n",
              "      quickchartButtonEl.disabled = true;  // To prevent multiple clicks.\n",
              "      quickchartButtonEl.classList.add('colab-df-spinner');\n",
              "      try {\n",
              "        const charts = await google.colab.kernel.invokeFunction(\n",
              "            'suggestCharts', [key], {});\n",
              "      } catch (error) {\n",
              "        console.error('Error during call to suggestCharts:', error);\n",
              "      }\n",
              "      quickchartButtonEl.classList.remove('colab-df-spinner');\n",
              "      quickchartButtonEl.classList.add('colab-df-quickchart-complete');\n",
              "    }\n",
              "    (() => {\n",
              "      let quickchartButtonEl =\n",
              "        document.querySelector('#df-21bef395-5589-4f20-a0ed-f92a6a77b20f button');\n",
              "      quickchartButtonEl.style.display =\n",
              "        google.colab.kernel.accessAllowed ? 'block' : 'none';\n",
              "    })();\n",
              "  </script>\n",
              "</div>\n",
              "\n",
              "    </div>\n",
              "  </div>\n"
            ],
            "application/vnd.google.colaboratory.intrinsic+json": {
              "type": "dataframe",
              "summary": "{\n  \"name\": \"dt\",\n  \"rows\": 8,\n  \"fields\": [\n    {\n      \"column\": \"Size\",\n      \"properties\": {\n        \"dtype\": \"number\",\n        \"std\": 2828.489220146718,\n        \"min\": -7.9980736,\n        \"max\": 8000.0,\n        \"num_unique_values\": 8,\n        \"samples\": [\n          -0.747801801669379,\n          -0.89751402,\n          8000.0\n        ],\n        \"semantic_type\": \"\",\n        \"description\": \"\"\n      }\n    },\n    {\n      \"column\": \"Weight\",\n      \"properties\": {\n        \"dtype\": \"number\",\n        \"std\": 2828.6150171138556,\n        \"min\": -8.283002,\n        \"max\": 8000.0,\n        \"num_unique_values\": 8,\n        \"samples\": [\n          -0.7610193750192439,\n          -0.868658975,\n          8000.0\n        ],\n        \"semantic_type\": \"\",\n        \"description\": \"\"\n      }\n    },\n    {\n      \"column\": \"Sweetness\",\n      \"properties\": {\n        \"dtype\": \"number\",\n        \"std\": 2828.456795667844,\n        \"min\": -6.4340215,\n        \"max\": 8000.0,\n        \"num_unique_values\": 8,\n        \"samples\": [\n          -0.7702241042843923,\n          -1.0206731,\n          8000.0\n        ],\n        \"semantic_type\": \"\",\n        \"description\": \"\"\n      }\n    },\n    {\n      \"column\": \"Softness\",\n      \"properties\": {\n        \"dtype\": \"number\",\n        \"std\": 2828.253863829764,\n        \"min\": -6.9593196,\n        \"max\": 8000.0,\n        \"num_unique_values\": 8,\n        \"samples\": [\n          -0.014440881038258795,\n          0.20264395,\n          8000.0\n        ],\n        \"semantic_type\": \"\",\n        \"description\": \"\"\n      }\n    },\n    {\n      \"column\": \"HarvestTime\",\n      \"properties\": {\n        \"dtype\": \"number\",\n        \"std\": 2828.5600581614904,\n        \"min\": -7.5700083,\n        \"max\": 8000.0,\n        \"num_unique_values\": 8,\n        \"samples\": [\n          -0.7512883019195963,\n          -0.93419198,\n          8000.0\n        ],\n        \"semantic_type\": \"\",\n        \"description\": \"\"\n      }\n    },\n    {\n      \"column\": \"Ripeness\",\n      \"properties\": {\n        \"dtype\": \"number\",\n        \"std\": 2828.1586188491356,\n        \"min\": -7.4231553,\n        \"max\": 8000.0,\n        \"num_unique_values\": 8,\n        \"samples\": [\n          0.7810983560473437,\n          0.96495169,\n          8000.0\n        ],\n        \"semantic_type\": \"\",\n        \"description\": \"\"\n      }\n    },\n    {\n      \"column\": \"Acidity\",\n      \"properties\": {\n        \"dtype\": \"number\",\n        \"std\": 2828.3477418460625,\n        \"min\": -8.226977,\n        \"max\": 8000.0,\n        \"num_unique_values\": 8,\n        \"samples\": [\n          0.008725080184739966,\n          0.09873514,\n          8000.0\n        ],\n        \"semantic_type\": \"\",\n        \"description\": \"\"\n      }\n    }\n  ]\n}"
            }
          },
          "metadata": {},
          "execution_count": 93
        }
      ]
    },
    {
      "cell_type": "code",
      "source": [
        "dt.var()"
      ],
      "metadata": {
        "colab": {
          "base_uri": "https://localhost:8080/",
          "height": 335
        },
        "id": "aVvbCAbLZ8aL",
        "outputId": "3f95f6c8-e1fe-4028-abc5-7b689cd1536d"
      },
      "execution_count": 96,
      "outputs": [
        {
          "output_type": "execute_result",
          "data": {
            "text/plain": [
              "Size           4.562593\n",
              "Weight         4.063991\n",
              "Sweetness      3.796476\n",
              "Softness       4.265117\n",
              "HarvestTime    3.986654\n",
              "Ripeness       4.470220\n",
              "Acidity        5.259989\n",
              "Quality        0.250031\n",
              "dtype: float64"
            ],
            "text/html": [
              "<div>\n",
              "<style scoped>\n",
              "    .dataframe tbody tr th:only-of-type {\n",
              "        vertical-align: middle;\n",
              "    }\n",
              "\n",
              "    .dataframe tbody tr th {\n",
              "        vertical-align: top;\n",
              "    }\n",
              "\n",
              "    .dataframe thead th {\n",
              "        text-align: right;\n",
              "    }\n",
              "</style>\n",
              "<table border=\"1\" class=\"dataframe\">\n",
              "  <thead>\n",
              "    <tr style=\"text-align: right;\">\n",
              "      <th></th>\n",
              "      <th>0</th>\n",
              "    </tr>\n",
              "  </thead>\n",
              "  <tbody>\n",
              "    <tr>\n",
              "      <th>Size</th>\n",
              "      <td>4.562593</td>\n",
              "    </tr>\n",
              "    <tr>\n",
              "      <th>Weight</th>\n",
              "      <td>4.063991</td>\n",
              "    </tr>\n",
              "    <tr>\n",
              "      <th>Sweetness</th>\n",
              "      <td>3.796476</td>\n",
              "    </tr>\n",
              "    <tr>\n",
              "      <th>Softness</th>\n",
              "      <td>4.265117</td>\n",
              "    </tr>\n",
              "    <tr>\n",
              "      <th>HarvestTime</th>\n",
              "      <td>3.986654</td>\n",
              "    </tr>\n",
              "    <tr>\n",
              "      <th>Ripeness</th>\n",
              "      <td>4.470220</td>\n",
              "    </tr>\n",
              "    <tr>\n",
              "      <th>Acidity</th>\n",
              "      <td>5.259989</td>\n",
              "    </tr>\n",
              "    <tr>\n",
              "      <th>Quality</th>\n",
              "      <td>0.250031</td>\n",
              "    </tr>\n",
              "  </tbody>\n",
              "</table>\n",
              "</div><br><label><b>dtype:</b> float64</label>"
            ]
          },
          "metadata": {},
          "execution_count": 96
        }
      ]
    },
    {
      "cell_type": "markdown",
      "source": [
        "##Data Prerpocessing"
      ],
      "metadata": {
        "id": "TtRRajHUvb16"
      }
    },
    {
      "cell_type": "code",
      "source": [
        "label_encoder = LabelEncoder()\n",
        "dt[\"Quality\"] = label_encoder.fit_transform(dt[\"Quality\"])"
      ],
      "metadata": {
        "id": "lFmqeMpovp0E"
      },
      "execution_count": 95,
      "outputs": []
    },
    {
      "cell_type": "markdown",
      "source": [
        "##Data Visualisation"
      ],
      "metadata": {
        "id": "-1tiFXeKZazb"
      }
    },
    {
      "cell_type": "markdown",
      "source": [
        "**Univariate Analysis**"
      ],
      "metadata": {
        "id": "N2I5R7xxVOGb"
      }
    },
    {
      "cell_type": "code",
      "source": [
        "#plotting the distribution of each feature, categorized by 'Acidity' status\n",
        "columns = df.columns.drop('Acidity')\n",
        "plt.figure(figsize=(6,4))\n",
        "sns.histplot(dt['Acidity'], kde = True, bins = 20)\n",
        "plt.title('Distribution of Acidity')\n",
        "plt.xlabel('Acidity')\n",
        "plt.ylabel('Frequency')\n",
        "plt.show()"
      ],
      "metadata": {
        "colab": {
          "base_uri": "https://localhost:8080/",
          "height": 410
        },
        "id": "jzO_J2fcUrQk",
        "outputId": "8c4c9dcf-67d0-4dce-8c38-4d3d894efba7"
      },
      "execution_count": 97,
      "outputs": [
        {
          "output_type": "display_data",
          "data": {
            "text/plain": [
              "<Figure size 600x400 with 1 Axes>"
            ],
            "image/png": "[encoded data removed]"
          },
          "metadata": {}
        }
      ]
    },
    {
      "cell_type": "markdown",
      "source": [
        "Above histogram visualizes the probability density of the data. The distribution appears to be approximately normal (bell-shaped), centered around 0, with values ranging between approximately -8 and 8. The frequency of observations is highest near the center and decreases towards the tails. The x-axis represents Acidity, while the y-axis represents it's Frequency. The smooth KDE curve overlays the histogram to show the continuous density estimation which shows the skewness that is almost symmetrical."
      ],
      "metadata": {
        "id": "6_OmYv7qYPRn"
      }
    },
    {
      "cell_type": "code",
      "source": [
        "plt.figure(figsize=(6,4))\n",
        "sns.boxplot(x=dt['Acidity'], color='green')\n",
        "plt.title('Distribution of Acidity')\n",
        "plt.xlabel('Acidity')\n",
        "plt.ylabel('Frequency')\n",
        "plt.show()"
      ],
      "metadata": {
        "colab": {
          "base_uri": "https://localhost:8080/",
          "height": 410
        },
        "id": "IyL-FJzrWywp",
        "outputId": "455dbd07-af8c-492d-e8f9-5c5f46832d6c"
      },
      "execution_count": 98,
      "outputs": [
        {
          "output_type": "display_data",
          "data": {
            "text/plain": [
              "<Figure size 600x400 with 1 Axes>"
            ],
            "image/png": "[encoded data removed]"
          },
          "metadata": {}
        }
      ]
    },
    {
      "cell_type": "markdown",
      "source": [
        "**Bivariate Analysis**"
      ],
      "metadata": {
        "id": "6b29dZGMSoK5"
      }
    },
    {
      "cell_type": "code",
      "source": [
        "# #creating heatmap to visualize the correlation matrix of the features in the dataset\n",
        "plt.figure(figsize=(12, 4))\n",
        "sns.heatmap(dt.corr(), annot = True, cmap='Reds')\n",
        "plt.title('Correlation Heatmap')\n",
        "plt.show()"
      ],
      "metadata": {
        "colab": {
          "base_uri": "https://localhost:8080/",
          "height": 391
        },
        "id": "j7nGWYUHZXL_",
        "outputId": "b55b70a6-486c-44e5-8ed7-f876bb6145ea"
      },
      "execution_count": 99,
      "outputs": [
        {
          "output_type": "display_data",
          "data": {
            "text/plain": [
              "<Figure size 1200x400 with 2 Axes>"
            ],
            "image/png": "[encoded data removed]"
          },
          "metadata": {}
        }
      ]
    },
    {
      "cell_type": "markdown",
      "source": [
        "##Building Linear Regression Model from Scratch"
      ],
      "metadata": {
        "id": "bwpi6XaMxInR"
      }
    },
    {
      "cell_type": "code",
      "source": [
        "# features X and target y\n",
        "features = ['Size', 'Weight', 'Sweetness', 'Softness', 'HarvestTime', 'Ripeness', 'Quality']\n",
        "X = dt[features].values\n",
        "y = dt['Acidity'].values"
      ],
      "metadata": {
        "id": "A3sJ1nSb041K"
      },
      "execution_count": 109,
      "outputs": []
    },
    {
      "cell_type": "code",
      "source": [
        "X_train, X_test, y_train, y_test = train_test_split(X, y, test_size=0.2, random_state=42)"
      ],
      "metadata": {
        "id": "mTd5-ozBxze7"
      },
      "execution_count": 110,
      "outputs": []
    },
    {
      "cell_type": "code",
      "source": [
        "# Normalize features (important for models like Linear Regression & Neural Networks)\n",
        "scaler = StandardScaler()\n",
        "X_train = scaler.fit_transform(X_train)\n",
        "X_test = scaler.transform(X_test)"
      ],
      "metadata": {
        "id": "8RNodOvayRNO"
      },
      "execution_count": null,
      "outputs": []
    },
    {
      "cell_type": "code",
      "source": [
        "def cost_function(X, y, w):\n",
        "  \"\"\"\n",
        "  Calculate Mean Square Error\n",
        "  \"\"\"\n",
        "  m = len(y)\n",
        "  Y_pred = np.dot(X, w)\n",
        "  cost = (1/(2*m)) * np.sum((Y_pred - y) ** 2) #using Mean Square Error (MSE) as cost function\n",
        "  return cost\n",
        "\n",
        "#testing cost function\n",
        "X_test =np.array([[1,2],[3,4],[5,6]])\n",
        "Y_test =np.array([3,7,11])\n",
        "W_test =np.array([1,1])\n",
        "cost= cost_function(X_test,Y_test,W_test)\n",
        "if cost==0:\n",
        "  print(\"Proceed Further\")\n",
        "else:\n",
        "  print(\"something went wrong:Reimplement a cost function\")\n",
        "print(\"Cost function output:\",cost_function(X_test,Y_test,W_test))"
      ],
      "metadata": {
        "id": "kYQjvWcqkaEq",
        "colab": {
          "base_uri": "https://localhost:8080/"
        },
        "outputId": "af0d05bf-c720-4927-e03e-9d123828f9f4"
      },
      "execution_count": 102,
      "outputs": [
        {
          "output_type": "stream",
          "name": "stdout",
          "text": [
            "Proceed Further\n",
            "Cost function output: 0.0\n"
          ]
        }
      ]
    },
    {
      "cell_type": "code",
      "source": [
        "def gradient_descent(X, y, w, alpha, iterations):\n",
        "  \"\"\"\n",
        "  Perform gradient descent to optimize parameters\n",
        "  \"\"\"\n",
        "  m = len(y)\n",
        "  cost_history = np.zeros(iterations)\n",
        "  w_history = np.zeros((iterations, len(w)))\n",
        "\n",
        "  for i in range(iterations):\n",
        "      Y_pred = np.dot(X, w)\n",
        "      loss = Y_pred - y\n",
        "      # Calculate gradients\n",
        "      gradients = (1/m) * np.dot(X.T, loss)\n",
        "\n",
        "      # Update weights\n",
        "      w = w - alpha * gradients\n",
        "\n",
        "      # Store weights and cost\n",
        "      cost_history[i] = cost_function(X, y, w)\n",
        "      w_history[i] = w\n",
        "\n",
        "  return w, cost_history, w_history"
      ],
      "metadata": {
        "id": "a7iL2cT4kW1u"
      },
      "execution_count": 103,
      "outputs": []
    },
    {
      "cell_type": "code",
      "source": [
        "def rmse(y, y_pred):\n",
        "    \"\"\"\n",
        "    Calculate Root Mean Square Error\n",
        "    \"\"\"\n",
        "    return np.sqrt(np.mean((y - y_pred) ** 2))\n",
        "\n",
        "def r2_score(y, y_pred):\n",
        "    \"\"\"\n",
        "    Calculate R-squared score\n",
        "    \"\"\"\n",
        "    ss_res = np.sum((y - y_pred) ** 2)\n",
        "    ss_tot = np.sum((y - np.mean(y)) ** 2)\n",
        "    return 1 - (ss_res / ss_tot)"
      ],
      "metadata": {
        "id": "aVGEgatYB8iY"
      },
      "execution_count": 104,
      "outputs": []
    },
    {
      "cell_type": "code",
      "source": [
        "def main():\n",
        "\n",
        "  X_train, X_test, y_train, y_test = train_test_split(X, y, test_size=0.2, random_state=42)\n",
        "\n",
        "  # Initialize parameters\n",
        "  w = np.zeros(X_train.shape[1])\n",
        "  alpha = 0.01\n",
        "  iterations = 1000\n",
        "\n",
        "  # Train the model\n",
        "  w_optimal, cost_history, w_history = gradient_descent(X_train, y_train, w, alpha, iterations)\n",
        "\n",
        "  # Make predictions\n",
        "  y_pred_test = np.dot(X_test, w_optimal)\n",
        "  y_pred_train = np.dot(X_train, w_optimal)\n",
        "\n",
        "  model_rmse = rmse(y_test, y_pred_test)\n",
        "  model_r2 = r2_score(y_test, y_pred_test)\n",
        "\n",
        "  model_rmse_train = rmse(y_train, y_pred_train)\n",
        "  model_r2_train = r2_score(y_train, y_pred_train)\n",
        "\n",
        "  print(f\"Final Weights:\\n {w_optimal}\")\n",
        "  print(f\"\\nRMSE: {model_rmse}\")\n",
        "  print(f\"\\nR-squared: {model_r2}\")\n",
        "  print(f\"\\nRMSE (Train): {model_rmse_train}\")\n",
        "  print(f\"\\nR-squared (Train): {model_r2_train}\")\n",
        "\n",
        "if __name__ == \"__main__\":\n",
        "    main()"
      ],
      "metadata": {
        "id": "fiEyBgAMkhyn",
        "colab": {
          "base_uri": "https://localhost:8080/"
        },
        "outputId": "75df52ac-7fe2-4390-999d-43df1ee208cc"
      },
      "execution_count": 105,
      "outputs": [
        {
          "output_type": "stream",
          "name": "stdout",
          "text": [
            "Final Weights:\n",
            " [-1.18979099e-01  3.30320503e-01 -1.34465675e-04 -1.97857386e-01\n",
            " -1.10388916e-02 -4.34139483e-01  6.34204693e-01]\n",
            "\n",
            "RMSE: 1.9282043967700255\n",
            "\n",
            "R-squared: 0.3004519914901679\n",
            "\n",
            "RMSE (Train): 1.8949957222029425\n",
            "\n",
            "R-squared (Train): 0.3152162862998028\n"
          ]
        }
      ]
    },
    {
      "cell_type": "markdown",
      "source": [
        "##Building Primary Models"
      ],
      "metadata": {
        "id": "41GpxuvrrME5"
      }
    },
    {
      "cell_type": "markdown",
      "source": [
        "**Linear Regression Model**"
      ],
      "metadata": {
        "id": "mKYN5q4EzNbk"
      }
    },
    {
      "cell_type": "code",
      "source": [
        "# Initialize and train Linear Regression\n",
        "lr_model = LinearRegression()\n",
        "lr_model.fit(X_train, y_train)\n",
        "\n",
        "# Predictions\n",
        "y_pred_lr = lr_model.predict(X_test)"
      ],
      "metadata": {
        "id": "S1vpKP00LFOP"
      },
      "execution_count": 111,
      "outputs": []
    },
    {
      "cell_type": "markdown",
      "source": [
        "**Random Forest Regressor Model**"
      ],
      "metadata": {
        "id": "DAQ-JUSRqOpw"
      }
    },
    {
      "cell_type": "code",
      "source": [
        "# Initialize and train Random Forest\n",
        "rf_model = RandomForestRegressor(n_estimators=100, random_state=42)\n",
        "rf_model.fit(X_train, y_train)\n",
        "\n",
        "# Predictions\n",
        "y_pred_rf = rf_model.predict(X_test)"
      ],
      "metadata": {
        "id": "yeAjzAYALM8X"
      },
      "execution_count": 112,
      "outputs": []
    },
    {
      "cell_type": "markdown",
      "source": [
        "**Evaluating Both Models**"
      ],
      "metadata": {
        "id": "QkbKtgxV1Npn"
      }
    },
    {
      "cell_type": "code",
      "source": [
        "def evaluate_model(model_name, y_true, y_pred):\n",
        "    mae = mean_absolute_error(y_true, y_pred)\n",
        "    rmse = np.sqrt(mean_squared_error(y_true, y_pred))\n",
        "    mse = mean_squared_error(y_true, y_pred)\n",
        "    r2 = r2_score(y_true, y_pred)\n",
        "\n",
        "    print(f\"\\n{model_name} Performance:\")\n",
        "    print(f\"MAE: {mae:.4f}\")\n",
        "    print(f\"MSE: {mse:.4f}\")\n",
        "    print(f\"RMSE: {rmse:.4f}\")\n",
        "    print(f\"R-squared: {r2:.4f}\")\n",
        "\n",
        "# Evaluate both models\n",
        "evaluate_model(\"Linear Regression\", y_test, y_pred_lr)\n",
        "evaluate_model(\"Random Forest\", y_test, y_pred_rf)"
      ],
      "metadata": {
        "id": "3h-KpWcnLaKq",
        "colab": {
          "base_uri": "https://localhost:8080/"
        },
        "outputId": "67e11785-2623-49fa-f3c8-f88f6ba338ac"
      },
      "execution_count": 113,
      "outputs": [
        {
          "output_type": "stream",
          "name": "stdout",
          "text": [
            "\n",
            "Linear Regression Performance:\n",
            "MAE: 1.4974\n",
            "MSE: 3.5281\n",
            "RMSE: 1.8783\n",
            "R-squared: 0.3362\n",
            "\n",
            "Random Forest Performance:\n",
            "MAE: 0.8763\n",
            "MSE: 1.5283\n",
            "RMSE: 1.2362\n",
            "R-squared: 0.7125\n"
          ]
        }
      ]
    },
    {
      "cell_type": "markdown",
      "source": [
        "The above performance results indicate that the Random Forest model significantly outperforms Linear Regression. The Mean Absolute Error (MAE) and Root Mean Squared Error (RMSE) are both lower for Random Forest (0.8763 MAE, 1.2362 RMSE) compared to Linear Regression (1.4974 MAE, 1.8783 RMSE), suggesting that Random Forest makes more accurate predictions. Additionally, the R-squared value for Random Forest (0.7125) is much higher than that of Linear Regression (0.3362), indicating that Random Forest shows greater variance in the data. Overall, Random Forest provides a better fit and more reliable predictions than Linear Regression."
      ],
      "metadata": {
        "id": "ChjoYPF9bv5w"
      }
    },
    {
      "cell_type": "markdown",
      "source": [
        "## Hyper-parameter Optimization with Cross-Validation"
      ],
      "metadata": {
        "id": "AK7iQUMTnSqO"
      }
    },
    {
      "cell_type": "markdown",
      "source": [
        "**Tuning for Linear Regression Model**"
      ],
      "metadata": {
        "id": "KI1R2Lpr1Vjv"
      }
    },
    {
      "cell_type": "code",
      "source": [
        "# Using valid parameters for newer scikit-learn versions\n",
        "lr_params = {\n",
        "    'fit_intercept': [True, False],\n",
        "    'positive': [True, False]  # Constraint coefficients to be positive\n",
        "}\n",
        "\n",
        "lr_grid = GridSearchCV(\n",
        "    LinearRegression(),\n",
        "    lr_params,\n",
        "    cv=5,\n",
        "    scoring='neg_mean_squared_error',\n",
        "    n_jobs=-1\n",
        ")\n",
        "lr_grid.fit(X_train, y_train)\n",
        "\n",
        "print(\"\\nBest Linear Regression Parameters:\")\n",
        "print(lr_grid.best_params_)\n",
        "print(\"Best Cross-Validation Score:\", np.sqrt(-lr_grid.best_score_))\n"
      ],
      "metadata": {
        "id": "44zeWGA6iNxo",
        "colab": {
          "base_uri": "https://localhost:8080/"
        },
        "outputId": "5c415ba1-9a9d-4949-c7fd-cca6c61fb602"
      },
      "execution_count": 114,
      "outputs": [
        {
          "output_type": "stream",
          "name": "stdout",
          "text": [
            "\n",
            "Best Linear Regression Parameters:\n",
            "{'fit_intercept': True, 'positive': False}\n",
            "Best Cross-Validation Score: 1.8490410129148402\n"
          ]
        }
      ]
    },
    {
      "cell_type": "markdown",
      "source": [
        "**Tuning for Random Forest Regressor Model**"
      ],
      "metadata": {
        "id": "3vaYtiU11fyR"
      }
    },
    {
      "cell_type": "code",
      "source": [
        "#random forest\n",
        "rf_params = {\n",
        "    'n_estimators': [30, 50, 100],\n",
        "    'max_depth': [None, 10, 20, 30],\n",
        "    'min_samples_split': [2, 5, 10],\n",
        "    'min_samples_leaf': [1, 2, 4]\n",
        "}\n",
        "\n",
        "rf_random = RandomizedSearchCV(\n",
        "    RandomForestRegressor(random_state=42),\n",
        "    rf_params,\n",
        "    n_iter=10,  # Try only 10 random combinations\n",
        "    cv=3,\n",
        "    scoring='neg_mean_squared_error',\n",
        "    n_jobs=-1,\n",
        "    random_state=42\n",
        ")\n",
        "rf_random.fit(X_train, y_train)\n",
        "\n",
        "print(\"\\nBest Random Forest Parameters:\")\n",
        "print(rf_random.best_params_)\n",
        "print(\"Best Cross-Validation Score:\", np.sqrt(-rf_random.best_score_))\n"
      ],
      "metadata": {
        "id": "fyNJEtZDl0T0",
        "colab": {
          "base_uri": "https://localhost:8080/"
        },
        "outputId": "7860606d-370a-4024-f03c-3f6c1248f156"
      },
      "execution_count": 115,
      "outputs": [
        {
          "output_type": "stream",
          "name": "stdout",
          "text": [
            "\n",
            "Best Random Forest Parameters:\n",
            "{'n_estimators': 100, 'min_samples_split': 2, 'min_samples_leaf': 1, 'max_depth': 30}\n",
            "Best Cross-Validation Score: 1.2125164026026731\n"
          ]
        }
      ]
    },
    {
      "cell_type": "markdown",
      "source": [
        "- For Linear Regression, the optimal model doesn't use an intercept and has no constraint on coefficients being positive. The cross-validation score is higher (1.85), indicating that this model might be a bit more sensitive or complex.\n",
        "-  For the Random Forest Regressor, the best parameters are 100 trees, a depth of 30, and basic settings for splitting and leaf nodes, giving a better score of (1.21). This means the Random Forest model is more accurate for this problem, while Linear Regression is simpler but not as effective."
      ],
      "metadata": {
        "id": "8mefaKCyqBSp"
      }
    },
    {
      "cell_type": "markdown",
      "source": [
        "##Feature Selection"
      ],
      "metadata": {
        "id": "1ULmon7jtkqg"
      }
    },
    {
      "cell_type": "code",
      "source": [
        "# Generate column names if X has no column names\n",
        "if isinstance(X, np.ndarray):\n",
        "    feature_names = [f\"Feature_{i}\" for i in range(X.shape[1])]\n",
        "else:\n",
        "    feature_names = X.columns  # Use existing column names if X is a DataFrame\n",
        "\n",
        "# Now convert X_train and X_test properly\n",
        "X_train = pd.DataFrame(X_train, columns=feature_names)\n",
        "X_test = pd.DataFrame(X_test, columns=feature_names)\n",
        "\n",
        "# Double-check the type\n",
        "print(\"Type of X_train:\", type(X_train))  # Should print <class 'pandas.core.frame.DataFrame'>\n"
      ],
      "metadata": {
        "id": "66BETJAPiHgU",
        "colab": {
          "base_uri": "https://localhost:8080/"
        },
        "outputId": "c4943581-4549-4f68-c4d8-303c8ae4335a"
      },
      "execution_count": 116,
      "outputs": [
        {
          "output_type": "stream",
          "name": "stdout",
          "text": [
            "Type of X_train: <class 'pandas.core.frame.DataFrame'>\n"
          ]
        }
      ]
    },
    {
      "cell_type": "code",
      "source": [
        "# Get feature importances\n",
        "feature_importances = rf_model.feature_importances_\n",
        "\n",
        "# Create a DataFrame to view feature importance\n",
        "importances_df = pd.DataFrame({\n",
        "    'Feature': X_train.columns,  # Now this should work\n",
        "    'Importance': feature_importances\n",
        "}).sort_values(by='Importance', ascending=False)\n",
        "\n",
        "# Select the top 5 important features\n",
        "top_features = importances_df['Feature'].head(5).values\n",
        "print(\"\\nTop 5 Important Features:\", top_features)"
      ],
      "metadata": {
        "id": "2tSYcMOLjB48",
        "colab": {
          "base_uri": "https://localhost:8080/"
        },
        "outputId": "85a446f2-974e-4570-88b0-f12290975522"
      },
      "execution_count": 117,
      "outputs": [
        {
          "output_type": "stream",
          "name": "stdout",
          "text": [
            "\n",
            "Top 5 Important Features: ['Feature_1' 'Feature_5' 'Feature_3' 'Feature_4' 'Feature_2']\n"
          ]
        }
      ]
    },
    {
      "cell_type": "markdown",
      "source": [
        "##Final Model"
      ],
      "metadata": {
        "id": "p9YqGVuJhZMR"
      }
    },
    {
      "cell_type": "code",
      "source": [
        "X_train_selected = X_train[top_features]\n",
        "X_test_selected = X_test[top_features]"
      ],
      "metadata": {
        "id": "WqqSDsHYhO_y"
      },
      "execution_count": 118,
      "outputs": []
    },
    {
      "cell_type": "markdown",
      "source": [
        "**Linear Regression Final Model**"
      ],
      "metadata": {
        "id": "MzaXOyMq2Eds"
      }
    },
    {
      "cell_type": "code",
      "source": [
        "lr_model.fit(X_train_selected, y_train)\n",
        "\n",
        "#for final train\n",
        "final_lr_model = LinearRegression(fit_intercept=False, positive=False)\n",
        "final_lr_model.fit(X_train_selected, y_train)\n",
        "\n",
        "y_pred_train_lr = final_lr_model.predict(X_train_selected)\n",
        "y_pred_test_lr = final_lr_model.predict(X_test_selected)\n",
        "\n",
        "mse_train_lr = mean_squared_error(y_train, y_pred_train_lr)\n",
        "mse_test_lr = mean_squared_error(y_test, y_pred_test_lr)\n",
        "\n",
        "mae_train_lr = mean_absolute_error(y_train, y_pred_train_lr)\n",
        "mae_test_lr = mean_absolute_error(y_test, y_pred_test_lr)\n",
        "\n",
        "r2_train_lr = r2_score(y_train, y_pred_train_lr)\n",
        "r2_test_lr = r2_score(y_test, y_pred_test_lr)\n",
        "\n",
        "\n",
        "print(\"Final Linear Regression Train MAE:\", mae_train_lr)\n",
        "print(\"Final Linear Regression Test MAE:\", mae_test_lr)\n",
        "\n",
        "print(\"Final Linear Regression Train MSE:\", mse_train_lr)\n",
        "print(\"Final Linear Regression Test MSE:\", mse_test_lr)\n",
        "\n",
        "print(\"Final Linear Regression Train R-squared:\", r2_train_lr)\n",
        "print(\"Final Linear Regression Test R-squared:\", r2_test_lr)\n",
        "\n",
        "# y_pred_lr_selected = lr_model.predict(X_test_selected)\n"
      ],
      "metadata": {
        "colab": {
          "base_uri": "https://localhost:8080/"
        },
        "id": "pLqkYFxyjkx2",
        "outputId": "78b6021f-1129-4125-d07b-abc1cc0b7d79"
      },
      "execution_count": 119,
      "outputs": [
        {
          "output_type": "stream",
          "name": "stdout",
          "text": [
            "Final Linear Regression Train MAE: 1.5751928878140569\n",
            "Final Linear Regression Test MAE: 1.6153825128913388\n",
            "Final Linear Regression Train MSE: 3.78408152425715\n",
            "Final Linear Regression Test MSE: 3.9465997292355293\n",
            "Final Linear Regression Train R-squared: 0.27839848000787415\n",
            "Final Linear Regression Test R-squared: 0.2574350114430882\n"
          ]
        }
      ]
    },
    {
      "cell_type": "markdown",
      "source": [
        "**Random Forest Regressor Final Model**"
      ],
      "metadata": {
        "id": "NI7klqSB2Qx7"
      }
    },
    {
      "cell_type": "code",
      "source": [
        "rf_model.fit(X_train_selected, y_train)\n",
        "\n",
        "#for final train\n",
        "final_rf_model = RandomForestRegressor(n_estimators=100, min_samples_split=2, min_samples_leaf=1, max_depth=30)\n",
        "final_rf_model.fit(X_train_selected, y_train)\n",
        "\n",
        "y_pred_train_rf = final_rf_model.predict(X_train_selected)\n",
        "y_pred_test_rf = final_rf_model.predict(X_test_selected)\n",
        "\n",
        "mse_train_rf = mean_squared_error(y_train, y_pred_train_rf)\n",
        "mse_test_rf = mean_squared_error(y_test, y_pred_test_rf)\n",
        "\n",
        "mae_train_rf = mean_absolute_error(y_train, y_pred_train_rf)\n",
        "mae_test_rf = mean_absolute_error(y_test, y_pred_test_rf)\n",
        "\n",
        "r2_train_rf = r2_score(y_train, y_pred_train_rf)\n",
        "r2_test_rf = r2_score(y_test, y_pred_test_rf)\n",
        "\n",
        "\n",
        "print(\"Final Random Forest Regression Train MAE:\", mae_train_rf)\n",
        "print(\"Final Random Forest Regression Test MAE:\", mae_test_rf)\n",
        "\n",
        "print(\"Final Random ForestRegression Train MSE:\", mse_train_rf)\n",
        "print(\"Final Random Forest Regression Test MSE:\", mse_test_rf)\n",
        "\n",
        "print(\"Final Random Forest Regression Train R-squared:\", r2_train_rf)\n",
        "print(\"Final Random Forest Regression Test R-squared:\", r2_test_rf)\n",
        "\n",
        "# y_pred_lr_selected = lr_model.predict(X_test_selected)\n"
      ],
      "metadata": {
        "colab": {
          "base_uri": "https://localhost:8080/"
        },
        "id": "UffB39wxnXOf",
        "outputId": "a785a9f4-ddea-4a56-91b3-ddd3f77582ae"
      },
      "execution_count": 120,
      "outputs": [
        {
          "output_type": "stream",
          "name": "stdout",
          "text": [
            "Final Random Forest Regression Train MAE: 0.351701411830017\n",
            "Final Random Forest Regression Test MAE: 0.9951072112190654\n",
            "Final Random ForestRegression Train MSE: 0.2411230312759527\n",
            "Final Random Forest Regression Test MSE: 1.8403911731413671\n",
            "Final Random Forest Regression Train R-squared: 0.954019292460145\n",
            "Final Random Forest Regression Test R-squared: 0.6537246885463406\n"
          ]
        }
      ]
    },
    {
      "cell_type": "markdown",
      "source": [
        "###Conclusion"
      ],
      "metadata": {
        "id": "lwZoqXX9vYHD"
      }
    },
    {
      "cell_type": "markdown",
      "source": [
        "1.Model Performance: Random Forest Regression outperformed Linear Regression, achieving a lower MAE and MSE with a higher R² score.\n",
        "However, Random Forest showed overfitting, with a large gap between training and test performance.\n",
        "\n",
        "2.Impact of Methods: Feature Selection may have negatively impacted Linear Regression, reducing its ability to explain variance.\n",
        "Cross-Validation helped assess generalization, revealing overfitting in Random Forest.\n",
        "Random Forest's performance benefited from its ability to handle non-linearity, but tuning is needed to prevent overfitting\n",
        "\n",
        "3.Insights and Future Directions: : Hyperparameter tuning (e.g., limiting tree depth) can improve Random Forest's generalization.\n",
        "Feature engineering and regularization (Ridge/Lasso) may enhance Linear Regression."
      ],
      "metadata": {
        "id": "nmBizJbjvTS6"
      }
    }
  ]
}